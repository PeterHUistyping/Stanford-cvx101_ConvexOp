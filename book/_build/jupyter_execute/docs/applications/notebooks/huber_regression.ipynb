{
 "cells": [
  {
   "cell_type": "markdown",
   "metadata": {
    "pycharm": {
     "name": "#%% md\n"
    }
   },
   "source": [
    "# Huber regression"
   ]
  },
  {
   "cell_type": "markdown",
   "metadata": {
    "pycharm": {
     "name": "#%% md\n"
    }
   },
   "source": [
    "## Standard regression"
   ]
  },
  {
   "cell_type": "markdown",
   "metadata": {
    "collapsed": false
   },
   "source": [
    "In this example we do Huber regression in CVXPY.\n",
    "We start by discussing standard regression.\n",
    "In a regression problem we are given data $(x_i,y_i)\\in {\\bf R}^n \\times {\\bf R}$, $i=1,\\ldots, m$.\n",
    "and fit a linear (affine) model\n",
    "\n",
    "$$\\hat y_i = \\beta ^Tx_i - v,$$\n",
    "\n",
    "where $\\beta \\in {\\bf R}^n$ and $v \\in {\\bf R}$.\n",
    "\n",
    "The residuals are $r_i = \\hat y_i - y_i$.\n",
    "In standard (least-squares) regression we choose $\\beta,v$ to minimize $\\|r\\|_2^2 = \\sum_i r_i^2$.\n",
    "For this choice of $\\beta,v$ the mean of the optimal residuals is zero.\n",
    "\n",
    "A simple variant is to add (Tychonov) regularization, meaning we solve the optimization problem\n",
    "\n",
    "$$\\begin{array}{ll}\n",
    "\\mbox{minimize} & \\|r\\|_2^2 + \\lambda \\|\\beta \\|_2^2,\n",
    "\\end{array}$$\n",
    "\n",
    "where $\\lambda>0$."
   ]
  },
  {
   "cell_type": "markdown",
   "metadata": {
    "pycharm": {
     "name": "#%% md\n"
    }
   },
   "source": [
    "## Robust (Huber) regression\n",
    "\n",
    "A more sophisticated variant is to replace the square function with the *Huber function*\n",
    "\n",
    "$$\n",
    "\\phi(u) = \\left\\{ \\begin{array}{ll} u^2 & |u|\\leq M\\\\\n",
    "2Mu - M^2 & |u|>M\n",
    "\\end{array}\\right.\n",
    "$$\n",
    "\n",
    "where $M>0$ is the Huber threshold.\n",
    "The image below shows the square function on the left and the Huber function on the right.\n",
    "\n",
    "![title](huber_vs_square.png)\n",
    "\n",
    "Huber regression is the same as standard (least-squares) regression for small residuals, but allows (some)\n",
    "large residuals."
   ]
  },
  {
   "cell_type": "markdown",
   "metadata": {
    "pycharm": {
     "name": "#%% md\n"
    }
   },
   "source": [
    "## Example\n",
    "\n",
    "In the following code we do a numerical example of Huber regression.\n",
    "We generate $m=450$ measurements with $n=300$ regressors.\n",
    "We randomly choose $\\beta^\\mathrm{true}$ and $x_i \\sim \\mathcal N(0,I)$.\n",
    "We set $y_i = (\\beta^\\mathrm{true})^Tx_i + \\epsilon_i$, where $\\epsilon_i \\sim\n",
    "\\mathcal N(0,1)$.\n",
    "Then with probability $p$ we replace $y_i$ with $-y_i$.\n",
    "\n",
    "The data has fraction $p$ of (non-obvious) wrong measurements.\n",
    "The distribution of \"good\" and \"bad\" $y_i$ are the same.\n",
    "\n",
    "Our goal is to recover $\\beta^\\mathrm{true} \\in {\\bf R}^n$ from the measurements $y\\in {\\bf R}^m$.\n",
    "We compare three approaches: standard regression, Huber regression, and \"prescient\" regression, where we know which measurements had their sign flipped.\n",
    "\n",
    "We generate $50$ problem instances, with $p$ varying from $0$ to $0.15$, and plot the relative error in reconstructing $\\beta^\\mathrm{true}$ for the three approaches.\n",
    "Notice that in the range $p \\in [0,0.08]$, Huber regression matches prescient regression. Standard regression, by contrast, fails even for very small $p$."
   ]
  },
  {
   "cell_type": "code",
   "execution_count": 1,
   "metadata": {
    "collapsed": false,
    "pycharm": {
     "name": "#%%\n"
    }
   },
   "outputs": [],
   "source": [
    "# Generate data for Huber regression.\n",
    "import numpy as np\n",
    "\n",
    "np.random.seed(1)\n",
    "n = 300\n",
    "SAMPLES = int(1.5 * n)\n",
    "beta_true = 5 * np.random.normal(size=(n, 1))\n",
    "X = np.random.randn(n, SAMPLES)\n",
    "Y = np.zeros((SAMPLES, 1))\n",
    "v = np.random.normal(size=(SAMPLES, 1))"
   ]
  },
  {
   "cell_type": "code",
   "execution_count": 2,
   "metadata": {
    "collapsed": false,
    "pycharm": {
     "name": "#%%\n"
    }
   },
   "outputs": [],
   "source": [
    "# Generate data for different values of p.\n",
    "# Solve the resulting problems.\n",
    "# WARNING this script takes a few minutes to run.\n",
    "import cvxpy as cp\n",
    "\n",
    "TESTS = 50\n",
    "lsq_data = np.zeros(TESTS)\n",
    "huber_data = np.zeros(TESTS)\n",
    "prescient_data = np.zeros(TESTS)\n",
    "p_vals = np.linspace(0, 0.15, num=TESTS)\n",
    "for idx, p in enumerate(p_vals):\n",
    "    # Generate the sign changes.\n",
    "    factor = 2 * np.random.binomial(1, 1 - p, size=(SAMPLES, 1)) - 1\n",
    "    Y = factor * X.T.dot(beta_true) + v\n",
    "\n",
    "    # Form and solve a standard regression problem.\n",
    "    beta = cp.Variable((n, 1))\n",
    "    fit = cp.norm(beta - beta_true) / cp.norm(beta_true)\n",
    "    cost = cp.norm(X.T @ beta - Y)\n",
    "    prob = cp.Problem(cp.Minimize(cost))\n",
    "    prob.solve()\n",
    "    lsq_data[idx] = fit.value\n",
    "\n",
    "    # Form and solve a prescient regression problem,\n",
    "    # i.e., where the sign changes are known.\n",
    "    cost = cp.norm(cp.multiply(factor, X.T @ beta) - Y)\n",
    "    cp.Problem(cp.Minimize(cost)).solve()\n",
    "    prescient_data[idx] = fit.value\n",
    "\n",
    "    # Form and solve the Huber regression problem.\n",
    "    cost = cp.sum(cp.huber(X.T @ beta - Y, 1))\n",
    "    cp.Problem(cp.Minimize(cost)).solve()\n",
    "    huber_data[idx] = fit.value"
   ]
  },
  {
   "cell_type": "code",
   "execution_count": 3,
   "metadata": {
    "collapsed": false,
    "pycharm": {
     "name": "#%%\n"
    }
   },
   "outputs": [
    {
     "ename": "ModuleNotFoundError",
     "evalue": "No module named 'PIL'",
     "output_type": "error",
     "traceback": [
      "\u001b[0;31m---------------------------------------------------------------------------\u001b[0m",
      "\u001b[0;31mModuleNotFoundError\u001b[0m                       Traceback (most recent call last)",
      "Cell \u001b[0;32mIn[3], line 3\u001b[0m\n\u001b[1;32m      1\u001b[0m \u001b[38;5;66;03m# Plot the relative reconstruction error for\u001b[39;00m\n\u001b[1;32m      2\u001b[0m \u001b[38;5;66;03m# least-squares, prescient, and Huber regression.\u001b[39;00m\n\u001b[0;32m----> 3\u001b[0m \u001b[38;5;28;01mimport\u001b[39;00m \u001b[38;5;21;01mmatplotlib\u001b[39;00m\u001b[38;5;21;01m.\u001b[39;00m\u001b[38;5;21;01mpyplot\u001b[39;00m \u001b[38;5;28;01mas\u001b[39;00m \u001b[38;5;21;01mplt\u001b[39;00m\n\u001b[1;32m      5\u001b[0m get_ipython()\u001b[38;5;241m.\u001b[39mrun_line_magic(\u001b[38;5;124m'\u001b[39m\u001b[38;5;124mconfig\u001b[39m\u001b[38;5;124m'\u001b[39m, \u001b[38;5;124m\"\u001b[39m\u001b[38;5;124mInlineBackend.figure_format = \u001b[39m\u001b[38;5;124m'\u001b[39m\u001b[38;5;124msvg\u001b[39m\u001b[38;5;124m'\u001b[39m\u001b[38;5;124m\"\u001b[39m)\n\u001b[1;32m      7\u001b[0m plt\u001b[38;5;241m.\u001b[39mplot(p_vals, lsq_data, label\u001b[38;5;241m=\u001b[39m\u001b[38;5;124m\"\u001b[39m\u001b[38;5;124mLeast squares\u001b[39m\u001b[38;5;124m\"\u001b[39m)\n",
      "File \u001b[0;32m~/.local/lib/python3.10/site-packages/matplotlib/__init__.py:131\u001b[0m\n\u001b[1;32m    127\u001b[0m \u001b[38;5;28;01mfrom\u001b[39;00m \u001b[38;5;21;01mpackaging\u001b[39;00m\u001b[38;5;21;01m.\u001b[39;00m\u001b[38;5;21;01mversion\u001b[39;00m \u001b[38;5;28;01mimport\u001b[39;00m parse \u001b[38;5;28;01mas\u001b[39;00m parse_version\n\u001b[1;32m    129\u001b[0m \u001b[38;5;66;03m# cbook must import matplotlib only within function\u001b[39;00m\n\u001b[1;32m    130\u001b[0m \u001b[38;5;66;03m# definitions, so it is safe to import from it here.\u001b[39;00m\n\u001b[0;32m--> 131\u001b[0m \u001b[38;5;28;01mfrom\u001b[39;00m \u001b[38;5;21;01m.\u001b[39;00m \u001b[38;5;28;01mimport\u001b[39;00m _api, _version, cbook, _docstring, rcsetup\n\u001b[1;32m    132\u001b[0m \u001b[38;5;28;01mfrom\u001b[39;00m \u001b[38;5;21;01mmatplotlib\u001b[39;00m\u001b[38;5;21;01m.\u001b[39;00m\u001b[38;5;21;01mcbook\u001b[39;00m \u001b[38;5;28;01mimport\u001b[39;00m sanitize_sequence\n\u001b[1;32m    133\u001b[0m \u001b[38;5;28;01mfrom\u001b[39;00m \u001b[38;5;21;01mmatplotlib\u001b[39;00m\u001b[38;5;21;01m.\u001b[39;00m\u001b[38;5;21;01m_api\u001b[39;00m \u001b[38;5;28;01mimport\u001b[39;00m MatplotlibDeprecationWarning\n",
      "File \u001b[0;32m~/.local/lib/python3.10/site-packages/matplotlib/rcsetup.py:27\u001b[0m\n\u001b[1;32m     25\u001b[0m \u001b[38;5;28;01mfrom\u001b[39;00m \u001b[38;5;21;01mmatplotlib\u001b[39;00m \u001b[38;5;28;01mimport\u001b[39;00m _api, cbook\n\u001b[1;32m     26\u001b[0m \u001b[38;5;28;01mfrom\u001b[39;00m \u001b[38;5;21;01mmatplotlib\u001b[39;00m\u001b[38;5;21;01m.\u001b[39;00m\u001b[38;5;21;01mcbook\u001b[39;00m \u001b[38;5;28;01mimport\u001b[39;00m ls_mapper\n\u001b[0;32m---> 27\u001b[0m \u001b[38;5;28;01mfrom\u001b[39;00m \u001b[38;5;21;01mmatplotlib\u001b[39;00m\u001b[38;5;21;01m.\u001b[39;00m\u001b[38;5;21;01mcolors\u001b[39;00m \u001b[38;5;28;01mimport\u001b[39;00m Colormap, is_color_like\n\u001b[1;32m     28\u001b[0m \u001b[38;5;28;01mfrom\u001b[39;00m \u001b[38;5;21;01mmatplotlib\u001b[39;00m\u001b[38;5;21;01m.\u001b[39;00m\u001b[38;5;21;01m_fontconfig_pattern\u001b[39;00m \u001b[38;5;28;01mimport\u001b[39;00m parse_fontconfig_pattern\n\u001b[1;32m     29\u001b[0m \u001b[38;5;28;01mfrom\u001b[39;00m \u001b[38;5;21;01mmatplotlib\u001b[39;00m\u001b[38;5;21;01m.\u001b[39;00m\u001b[38;5;21;01m_enums\u001b[39;00m \u001b[38;5;28;01mimport\u001b[39;00m JoinStyle, CapStyle\n",
      "File \u001b[0;32m~/.local/lib/python3.10/site-packages/matplotlib/colors.py:51\u001b[0m\n\u001b[1;32m     49\u001b[0m \u001b[38;5;28;01mfrom\u001b[39;00m \u001b[38;5;21;01mnumbers\u001b[39;00m \u001b[38;5;28;01mimport\u001b[39;00m Number\n\u001b[1;32m     50\u001b[0m \u001b[38;5;28;01mimport\u001b[39;00m \u001b[38;5;21;01mre\u001b[39;00m\n\u001b[0;32m---> 51\u001b[0m \u001b[38;5;28;01mfrom\u001b[39;00m \u001b[38;5;21;01mPIL\u001b[39;00m \u001b[38;5;28;01mimport\u001b[39;00m Image\n\u001b[1;32m     52\u001b[0m \u001b[38;5;28;01mfrom\u001b[39;00m \u001b[38;5;21;01mPIL\u001b[39;00m\u001b[38;5;21;01m.\u001b[39;00m\u001b[38;5;21;01mPngImagePlugin\u001b[39;00m \u001b[38;5;28;01mimport\u001b[39;00m PngInfo\n\u001b[1;32m     54\u001b[0m \u001b[38;5;28;01mimport\u001b[39;00m \u001b[38;5;21;01mmatplotlib\u001b[39;00m \u001b[38;5;28;01mas\u001b[39;00m \u001b[38;5;21;01mmpl\u001b[39;00m\n",
      "\u001b[0;31mModuleNotFoundError\u001b[0m: No module named 'PIL'"
     ]
    }
   ],
   "source": [
    "# Plot the relative reconstruction error for\n",
    "# least-squares, prescient, and Huber regression.\n",
    "import matplotlib.pyplot as plt\n",
    "\n",
    "%config InlineBackend.figure_format = 'svg'\n",
    "\n",
    "plt.plot(p_vals, lsq_data, label=\"Least squares\")\n",
    "plt.plot(p_vals, huber_data, label=\"Huber\")\n",
    "plt.plot(p_vals, prescient_data, label=\"Prescient\")\n",
    "plt.ylabel(r\"$\\||\\beta - \\beta^{\\mathrm{true}}\\||_2/\\||\\beta^{\\mathrm{true}}\\||_2$\")\n",
    "plt.xlabel(\"p\")\n",
    "plt.legend(loc=\"upper left\")\n",
    "plt.show()"
   ]
  },
  {
   "cell_type": "code",
   "execution_count": 4,
   "metadata": {
    "collapsed": false,
    "pycharm": {
     "name": "#%%\n"
    }
   },
   "outputs": [
    {
     "ename": "NameError",
     "evalue": "name 'plt' is not defined",
     "output_type": "error",
     "traceback": [
      "\u001b[0;31m---------------------------------------------------------------------------\u001b[0m",
      "\u001b[0;31mNameError\u001b[0m                                 Traceback (most recent call last)",
      "Cell \u001b[0;32mIn[4], line 5\u001b[0m\n\u001b[1;32m      1\u001b[0m \u001b[38;5;66;03m# Plot the relative reconstruction error for Huber and prescient regression,\u001b[39;00m\n\u001b[1;32m      2\u001b[0m \u001b[38;5;66;03m# zooming in on smaller values of p.\u001b[39;00m\n\u001b[1;32m      3\u001b[0m indices \u001b[38;5;241m=\u001b[39m np\u001b[38;5;241m.\u001b[39mwhere(p_vals \u001b[38;5;241m<\u001b[39m\u001b[38;5;241m=\u001b[39m \u001b[38;5;241m0.08\u001b[39m)\n\u001b[0;32m----> 5\u001b[0m \u001b[43mplt\u001b[49m\u001b[38;5;241m.\u001b[39mplot(p_vals[indices], huber_data[indices], \u001b[38;5;124m\"\u001b[39m\u001b[38;5;124mg\u001b[39m\u001b[38;5;124m\"\u001b[39m, label\u001b[38;5;241m=\u001b[39m\u001b[38;5;124m\"\u001b[39m\u001b[38;5;124mHuber\u001b[39m\u001b[38;5;124m\"\u001b[39m)\n\u001b[1;32m      6\u001b[0m plt\u001b[38;5;241m.\u001b[39mplot(p_vals[indices], prescient_data[indices], \u001b[38;5;124m\"\u001b[39m\u001b[38;5;124mr\u001b[39m\u001b[38;5;124m\"\u001b[39m, label\u001b[38;5;241m=\u001b[39m\u001b[38;5;124m\"\u001b[39m\u001b[38;5;124mPrescient\u001b[39m\u001b[38;5;124m\"\u001b[39m)\n\u001b[1;32m      7\u001b[0m plt\u001b[38;5;241m.\u001b[39mylabel(\u001b[38;5;124mr\u001b[39m\u001b[38;5;124m\"\u001b[39m\u001b[38;5;124m$\u001b[39m\u001b[38;5;124m\\\u001b[39m\u001b[38;5;124m||\u001b[39m\u001b[38;5;124m\\\u001b[39m\u001b[38;5;124mbeta - \u001b[39m\u001b[38;5;124m\\\u001b[39m\u001b[38;5;124mbeta^\u001b[39m\u001b[38;5;124m{\u001b[39m\u001b[38;5;124m\\\u001b[39m\u001b[38;5;124mmathrm\u001b[39m\u001b[38;5;132;01m{true}\u001b[39;00m\u001b[38;5;124m}\u001b[39m\u001b[38;5;124m\\\u001b[39m\u001b[38;5;124m||_2/\u001b[39m\u001b[38;5;124m\\\u001b[39m\u001b[38;5;124m||\u001b[39m\u001b[38;5;124m\\\u001b[39m\u001b[38;5;124mbeta^\u001b[39m\u001b[38;5;124m{\u001b[39m\u001b[38;5;124m\\\u001b[39m\u001b[38;5;124mmathrm\u001b[39m\u001b[38;5;132;01m{true}\u001b[39;00m\u001b[38;5;124m}\u001b[39m\u001b[38;5;124m\\\u001b[39m\u001b[38;5;124m||_2$\u001b[39m\u001b[38;5;124m\"\u001b[39m)\n",
      "\u001b[0;31mNameError\u001b[0m: name 'plt' is not defined"
     ]
    }
   ],
   "source": [
    "# Plot the relative reconstruction error for Huber and prescient regression,\n",
    "# zooming in on smaller values of p.\n",
    "indices = np.where(p_vals <= 0.08)\n",
    "\n",
    "plt.plot(p_vals[indices], huber_data[indices], \"g\", label=\"Huber\")\n",
    "plt.plot(p_vals[indices], prescient_data[indices], \"r\", label=\"Prescient\")\n",
    "plt.ylabel(r\"$\\||\\beta - \\beta^{\\mathrm{true}}\\||_2/\\||\\beta^{\\mathrm{true}}\\||_2$\")\n",
    "plt.xlabel(\"p\")\n",
    "plt.xlim([0, 0.07])\n",
    "plt.ylim([0, 0.05])\n",
    "plt.legend(loc=\"upper left\")\n",
    "plt.show()"
   ]
  }
 ],
 "metadata": {
  "kernelspec": {
   "display_name": "Python 3",
   "language": "python",
   "name": "python3"
  },
  "language_info": {
   "codemirror_mode": {
    "name": "ipython",
    "version": 3
   },
   "file_extension": ".py",
   "mimetype": "text/x-python",
   "name": "python",
   "nbconvert_exporter": "python",
   "pygments_lexer": "ipython3",
   "version": "3.10.10"
  }
 },
 "nbformat": 4,
 "nbformat_minor": 1
}
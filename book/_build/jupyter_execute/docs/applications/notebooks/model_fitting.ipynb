{
 "cells": [
  {
   "cell_type": "markdown",
   "metadata": {
    "pycharm": {
     "name": "#%% md\n"
    }
   },
   "source": [
    "# Model fitting"
   ]
  },
  {
   "cell_type": "markdown",
   "metadata": {
    "pycharm": {
     "name": "#%% md\n"
    }
   },
   "source": [
    "## Data model\n",
    "\n",
    "In this example we discuss model fitting and show an example with CVXPY.\n",
    "We are given data $(x_i,y_i)\\in \\mathcal X \\times \\mathcal Y$, $i=1, \\ldots, m$:\n",
    "* For $\\mathcal X= {\\bf R}^n$, $x$ is a *feature vector*.\n",
    "* For $\\mathcal Y= {\\bf R}$,  $y$ is a (real) *outcome* or *label*.\n",
    "* For $\\mathcal Y= \\{-1,1\\}$,  $y$ is a (boolean) outcome.\n",
    "\n",
    "Our goal is to find a *model* or *predictor*\n",
    "$\\psi: \\mathcal X \\to \\mathcal Y$ so that\n",
    "$\\psi(x)\\approx y$ *for data $(x,y)$ that we haven't seen*:\n",
    "* For $\\mathcal Y ={\\bf R}$, $\\psi$ is a *regression model*.\n",
    "* For $\\mathcal Y =\\{-1,1\\}$, $\\psi$ is a *classifier*.\n",
    "\n",
    "We choose $\\psi$ based on observed data and prior knowledge."
   ]
  },
  {
   "cell_type": "markdown",
   "metadata": {
    "pycharm": {
     "name": "#%% md\n"
    }
   },
   "source": [
    "## Loss minimization model\n",
    "\n",
    "Let our data model be parametrized by $\\theta\\in {\\bf R}^n$.\n",
    "We define a *loss function*\n",
    "$L: \\mathcal X \\times \\mathcal Y \\times {\\bf R}^n \\to {\\bf R}$\n",
    "where $L(x_i,y_i,\\theta)$ is the loss (miss-fit) for the data point\n",
    "$(x_i,y_i)$, using the model parameter $\\theta$.\n",
    "\n",
    "We choose $\\theta$ to minimize the total loss $\\sum_i L(x_i,y_i,\\theta)$. Our model is then $\\psi(x) = {\\rm argmin}_y L(x,y,\\theta)$."
   ]
  },
  {
   "cell_type": "markdown",
   "metadata": {
    "pycharm": {
     "name": "#%% md\n"
    }
   },
   "source": [
    "## Model fitting via regularized loss minimization\n",
    "\n",
    "An important concept in model fitting is *regularization* functions $r:{\\bf R}^n \\to {\\bf R} \\cup \\{\\infty\\}$.\n",
    "The function $r(\\theta)$ measures model complexity, enforces\n",
    "constraints, or represents a prior.\n",
    "\n",
    "With regularization, we choose $\\theta$ by minimizing the *regularized loss*\n",
    "\n",
    "$$(1/m) \\sum_i L(x_i,y_i,\\theta)  + r(\\theta).$$\n",
    "\n",
    "For many useful cases, this is a convex problem.\n",
    "Our model again is $\\psi(x) = {\\rm argmin}_y L(x,y,\\theta)$."
   ]
  },
  {
   "cell_type": "markdown",
   "metadata": {
    "pycharm": {
     "name": "#%% md\n"
    }
   },
   "source": [
    "## Example\n",
    "\n",
    "In the following code we do an example of model fitting with CVXPY.\n",
    "We are given (boolean) features $z\\in \\{0,1\\}^{10}$ and (boolean) outcomes $y\\in \\{-1,1\\}$.\n",
    "We generate a new feature vector $x \\in \\{0,1\\}^{55}$ which contains all products $z_iz_j$\n",
    "(co-occurence of pairs of original features).\n",
    "\n",
    "To fit our model, we use logistic loss, or $L(x,y,\\theta) = \\log (1+ \\exp(-y\\theta^T x))$, and an $\\ell_1$ regularizer $r(\\theta) = \\|\\theta\\|_1$.\n",
    "We train on $m=200$ examples and test on $100$ examples.\n",
    "We plot the train and test error as we vary $\\lambda$."
   ]
  },
  {
   "cell_type": "code",
   "execution_count": 1,
   "metadata": {
    "pycharm": {
     "name": "#%%\n"
    }
   },
   "outputs": [],
   "source": [
    "# Generate data for logistic model fitting problem.\n",
    "import numpy as np\n",
    "\n",
    "# Construct Z given X.\n",
    "def pairs(Z):\n",
    "    m, n = Z.shape\n",
    "    k = n * (n + 1) // 2\n",
    "    X = np.zeros((m, k))\n",
    "    count = 0\n",
    "    for i in range(n):\n",
    "        for j in range(i, n):\n",
    "            X[:, count] = Z[:, i] * Z[:, j]\n",
    "            count += 1\n",
    "    return X\n",
    "\n",
    "\n",
    "np.random.seed(1)\n",
    "n = 10\n",
    "k = n * (n + 1) // 2\n",
    "m = 200\n",
    "TEST = 100\n",
    "sigma = 1.9\n",
    "DENSITY = 1.0\n",
    "theta_true = np.random.randn(n, 1)\n",
    "idxs = np.random.choice(range(n), int((1 - DENSITY) * n), replace=False)\n",
    "for idx in idxs:\n",
    "    theta_true[idx] = 0\n",
    "\n",
    "Z = np.random.binomial(1, 0.5, size=(m, n))\n",
    "Y = np.sign(Z.dot(theta_true) + np.random.normal(0, sigma, size=(m, 1)))\n",
    "X = pairs(Z)\n",
    "X = np.hstack([X, np.ones((m, 1))])\n",
    "Z_test = np.random.binomial(1, 0.5, size=(TEST, n))\n",
    "Y_test = np.sign(Z_test.dot(theta_true) + np.random.normal(0, sigma, size=(TEST, 1)))\n",
    "X_test = pairs(Z_test)\n",
    "X_test = np.hstack([X_test, np.ones((TEST, 1))])"
   ]
  },
  {
   "cell_type": "code",
   "execution_count": 2,
   "metadata": {
    "pycharm": {
     "name": "#%%\n"
    }
   },
   "outputs": [],
   "source": [
    "# Form model fitting problem with logistic loss and L1 regularization.\n",
    "import cvxpy as cp\n",
    "\n",
    "\n",
    "theta = cp.Variable((k + 1, 1))\n",
    "lambd = cp.Parameter(nonneg=True)\n",
    "loss = cp.sum(\n",
    "    cp.log_sum_exp(cp.hstack([np.zeros((m, 1)), -cp.multiply(Y, X @ theta)]), axis=1)\n",
    ")\n",
    "reg = cp.norm(theta[:k], 1)\n",
    "prob = cp.Problem(cp.Minimize(loss / m + lambd * reg))"
   ]
  },
  {
   "cell_type": "code",
   "execution_count": 3,
   "metadata": {
    "pycharm": {
     "name": "#%%\n"
    }
   },
   "outputs": [],
   "source": [
    "# Compute a trade-off curve and record train and test error.\n",
    "TRIALS = 100\n",
    "train_error = np.zeros(TRIALS)\n",
    "test_error = np.zeros(TRIALS)\n",
    "lambda_vals = np.logspace(-4, 0, TRIALS)\n",
    "for i in range(TRIALS):\n",
    "    lambd.value = lambda_vals[i]\n",
    "    prob.solve(solver=cp.SCS)\n",
    "    train_error[i] = (\n",
    "        np.sign(Z.dot(theta_true)) != np.sign(X.dot(theta.value))\n",
    "    ).sum() / m\n",
    "    test_error[i] = (\n",
    "        np.sign(Z_test.dot(theta_true)) != np.sign(X_test.dot(theta.value))\n",
    "    ).sum() / TEST"
   ]
  },
  {
   "cell_type": "code",
   "execution_count": 4,
   "metadata": {
    "pycharm": {
     "name": "#%%\n"
    }
   },
   "outputs": [
    {
     "ename": "ModuleNotFoundError",
     "evalue": "No module named 'PIL'",
     "output_type": "error",
     "traceback": [
      "\u001b[0;31m---------------------------------------------------------------------------\u001b[0m",
      "\u001b[0;31mModuleNotFoundError\u001b[0m                       Traceback (most recent call last)",
      "Cell \u001b[0;32mIn[4], line 2\u001b[0m\n\u001b[1;32m      1\u001b[0m \u001b[38;5;66;03m# Plot the train and test error over the trade-off curve.\u001b[39;00m\n\u001b[0;32m----> 2\u001b[0m \u001b[38;5;28;01mimport\u001b[39;00m \u001b[38;5;21;01mmatplotlib\u001b[39;00m\u001b[38;5;21;01m.\u001b[39;00m\u001b[38;5;21;01mpyplot\u001b[39;00m \u001b[38;5;28;01mas\u001b[39;00m \u001b[38;5;21;01mplt\u001b[39;00m\n\u001b[1;32m      4\u001b[0m get_ipython()\u001b[38;5;241m.\u001b[39mrun_line_magic(\u001b[38;5;124m'\u001b[39m\u001b[38;5;124mconfig\u001b[39m\u001b[38;5;124m'\u001b[39m, \u001b[38;5;124m\"\u001b[39m\u001b[38;5;124mInlineBackend.figure_format = \u001b[39m\u001b[38;5;124m'\u001b[39m\u001b[38;5;124msvg\u001b[39m\u001b[38;5;124m'\u001b[39m\u001b[38;5;124m\"\u001b[39m)\n\u001b[1;32m      5\u001b[0m plt\u001b[38;5;241m.\u001b[39mplot(lambda_vals, train_error, label\u001b[38;5;241m=\u001b[39m\u001b[38;5;124m\"\u001b[39m\u001b[38;5;124mTrain error\u001b[39m\u001b[38;5;124m\"\u001b[39m)\n",
      "File \u001b[0;32m~/.local/lib/python3.10/site-packages/matplotlib/__init__.py:131\u001b[0m\n\u001b[1;32m    127\u001b[0m \u001b[38;5;28;01mfrom\u001b[39;00m \u001b[38;5;21;01mpackaging\u001b[39;00m\u001b[38;5;21;01m.\u001b[39;00m\u001b[38;5;21;01mversion\u001b[39;00m \u001b[38;5;28;01mimport\u001b[39;00m parse \u001b[38;5;28;01mas\u001b[39;00m parse_version\n\u001b[1;32m    129\u001b[0m \u001b[38;5;66;03m# cbook must import matplotlib only within function\u001b[39;00m\n\u001b[1;32m    130\u001b[0m \u001b[38;5;66;03m# definitions, so it is safe to import from it here.\u001b[39;00m\n\u001b[0;32m--> 131\u001b[0m \u001b[38;5;28;01mfrom\u001b[39;00m \u001b[38;5;21;01m.\u001b[39;00m \u001b[38;5;28;01mimport\u001b[39;00m _api, _version, cbook, _docstring, rcsetup\n\u001b[1;32m    132\u001b[0m \u001b[38;5;28;01mfrom\u001b[39;00m \u001b[38;5;21;01mmatplotlib\u001b[39;00m\u001b[38;5;21;01m.\u001b[39;00m\u001b[38;5;21;01mcbook\u001b[39;00m \u001b[38;5;28;01mimport\u001b[39;00m sanitize_sequence\n\u001b[1;32m    133\u001b[0m \u001b[38;5;28;01mfrom\u001b[39;00m \u001b[38;5;21;01mmatplotlib\u001b[39;00m\u001b[38;5;21;01m.\u001b[39;00m\u001b[38;5;21;01m_api\u001b[39;00m \u001b[38;5;28;01mimport\u001b[39;00m MatplotlibDeprecationWarning\n",
      "File \u001b[0;32m~/.local/lib/python3.10/site-packages/matplotlib/rcsetup.py:27\u001b[0m\n\u001b[1;32m     25\u001b[0m \u001b[38;5;28;01mfrom\u001b[39;00m \u001b[38;5;21;01mmatplotlib\u001b[39;00m \u001b[38;5;28;01mimport\u001b[39;00m _api, cbook\n\u001b[1;32m     26\u001b[0m \u001b[38;5;28;01mfrom\u001b[39;00m \u001b[38;5;21;01mmatplotlib\u001b[39;00m\u001b[38;5;21;01m.\u001b[39;00m\u001b[38;5;21;01mcbook\u001b[39;00m \u001b[38;5;28;01mimport\u001b[39;00m ls_mapper\n\u001b[0;32m---> 27\u001b[0m \u001b[38;5;28;01mfrom\u001b[39;00m \u001b[38;5;21;01mmatplotlib\u001b[39;00m\u001b[38;5;21;01m.\u001b[39;00m\u001b[38;5;21;01mcolors\u001b[39;00m \u001b[38;5;28;01mimport\u001b[39;00m Colormap, is_color_like\n\u001b[1;32m     28\u001b[0m \u001b[38;5;28;01mfrom\u001b[39;00m \u001b[38;5;21;01mmatplotlib\u001b[39;00m\u001b[38;5;21;01m.\u001b[39;00m\u001b[38;5;21;01m_fontconfig_pattern\u001b[39;00m \u001b[38;5;28;01mimport\u001b[39;00m parse_fontconfig_pattern\n\u001b[1;32m     29\u001b[0m \u001b[38;5;28;01mfrom\u001b[39;00m \u001b[38;5;21;01mmatplotlib\u001b[39;00m\u001b[38;5;21;01m.\u001b[39;00m\u001b[38;5;21;01m_enums\u001b[39;00m \u001b[38;5;28;01mimport\u001b[39;00m JoinStyle, CapStyle\n",
      "File \u001b[0;32m~/.local/lib/python3.10/site-packages/matplotlib/colors.py:51\u001b[0m\n\u001b[1;32m     49\u001b[0m \u001b[38;5;28;01mfrom\u001b[39;00m \u001b[38;5;21;01mnumbers\u001b[39;00m \u001b[38;5;28;01mimport\u001b[39;00m Number\n\u001b[1;32m     50\u001b[0m \u001b[38;5;28;01mimport\u001b[39;00m \u001b[38;5;21;01mre\u001b[39;00m\n\u001b[0;32m---> 51\u001b[0m \u001b[38;5;28;01mfrom\u001b[39;00m \u001b[38;5;21;01mPIL\u001b[39;00m \u001b[38;5;28;01mimport\u001b[39;00m Image\n\u001b[1;32m     52\u001b[0m \u001b[38;5;28;01mfrom\u001b[39;00m \u001b[38;5;21;01mPIL\u001b[39;00m\u001b[38;5;21;01m.\u001b[39;00m\u001b[38;5;21;01mPngImagePlugin\u001b[39;00m \u001b[38;5;28;01mimport\u001b[39;00m PngInfo\n\u001b[1;32m     54\u001b[0m \u001b[38;5;28;01mimport\u001b[39;00m \u001b[38;5;21;01mmatplotlib\u001b[39;00m \u001b[38;5;28;01mas\u001b[39;00m \u001b[38;5;21;01mmpl\u001b[39;00m\n",
      "\u001b[0;31mModuleNotFoundError\u001b[0m: No module named 'PIL'"
     ]
    }
   ],
   "source": [
    "# Plot the train and test error over the trade-off curve.\n",
    "import matplotlib.pyplot as plt\n",
    "\n",
    "%config InlineBackend.figure_format = 'svg'\n",
    "plt.plot(lambda_vals, train_error, label=\"Train error\")\n",
    "plt.plot(lambda_vals, test_error, label=\"Test error\")\n",
    "plt.xscale(\"log\")\n",
    "plt.legend(loc=\"upper left\")\n",
    "plt.xlabel(r\"$\\lambda$\", fontsize=16)\n",
    "plt.show()"
   ]
  },
  {
   "cell_type": "markdown",
   "metadata": {
    "pycharm": {
     "name": "#%% md\n"
    }
   },
   "source": [
    "Below we plot $|\\theta_{k}|$, $k=1,\\ldots,55$, for the $\\lambda$ that minimized the test error. Each $|\\theta_{k}|$ is placed at position $(i,j)$ where $z_iz_j = x_k$. Notice that many $\\theta_{k}$ are $0$, as we would expect with $\\ell_1$ regularization."
   ]
  },
  {
   "cell_type": "code",
   "execution_count": 5,
   "metadata": {
    "pycharm": {
     "name": "#%%\n"
    }
   },
   "outputs": [
    {
     "ename": "NameError",
     "evalue": "name 'plt' is not defined",
     "output_type": "error",
     "traceback": [
      "\u001b[0;31m---------------------------------------------------------------------------\u001b[0m",
      "\u001b[0;31mNameError\u001b[0m                                 Traceback (most recent call last)",
      "Cell \u001b[0;32mIn[5], line 16\u001b[0m\n\u001b[1;32m     13\u001b[0m row_labels \u001b[38;5;241m=\u001b[39m \u001b[38;5;28mrange\u001b[39m(\u001b[38;5;241m1\u001b[39m, n \u001b[38;5;241m+\u001b[39m \u001b[38;5;241m1\u001b[39m)\n\u001b[1;32m     14\u001b[0m column_labels \u001b[38;5;241m=\u001b[39m \u001b[38;5;28mrange\u001b[39m(\u001b[38;5;241m1\u001b[39m, n \u001b[38;5;241m+\u001b[39m \u001b[38;5;241m1\u001b[39m)\n\u001b[0;32m---> 16\u001b[0m fig, ax \u001b[38;5;241m=\u001b[39m \u001b[43mplt\u001b[49m\u001b[38;5;241m.\u001b[39msubplots()\n\u001b[1;32m     17\u001b[0m heatmap \u001b[38;5;241m=\u001b[39m ax\u001b[38;5;241m.\u001b[39mpcolor(P, cmap\u001b[38;5;241m=\u001b[39mplt\u001b[38;5;241m.\u001b[39mcm\u001b[38;5;241m.\u001b[39mBlues)\n\u001b[1;32m     19\u001b[0m \u001b[38;5;66;03m# put the major ticks at the middle of each cell\u001b[39;00m\n",
      "\u001b[0;31mNameError\u001b[0m: name 'plt' is not defined"
     ]
    }
   ],
   "source": [
    "# Solve model fitting problem with the lambda that minimizes test error.\n",
    "idx = np.argmin(test_error)\n",
    "lambd.value = lambda_vals[idx]\n",
    "prob.solve(solver=cp.SCS)\n",
    "\n",
    "# Plot the absolute value of the entries in theta corresponding to each feature.\n",
    "P = np.zeros((n, n))\n",
    "count = 0\n",
    "for i in range(n):\n",
    "    for j in range(i, n):\n",
    "        P[i, j] = np.abs(theta.value[count])\n",
    "        count += 1\n",
    "row_labels = range(1, n + 1)\n",
    "column_labels = range(1, n + 1)\n",
    "\n",
    "fig, ax = plt.subplots()\n",
    "heatmap = ax.pcolor(P, cmap=plt.cm.Blues)\n",
    "\n",
    "# put the major ticks at the middle of each cell\n",
    "ax.set_xticks(np.arange(P.shape[1]) + 0.5, minor=False)\n",
    "ax.set_yticks(np.arange(P.shape[0]) + 0.5, minor=False)\n",
    "\n",
    "# want a more natural, table-like display\n",
    "ax.invert_yaxis()\n",
    "ax.xaxis.tick_top()\n",
    "\n",
    "ax.set_xticklabels(column_labels, minor=False)\n",
    "ax.set_yticklabels(row_labels, minor=False)\n",
    "\n",
    "plt.xlabel(r\"$z_i$\", fontsize=16)\n",
    "ax.xaxis.set_label_position(\"top\")\n",
    "plt.ylabel(r\"$z_j$\", fontsize=16)\n",
    "plt.show()"
   ]
  }
 ],
 "metadata": {
  "kernelspec": {
   "display_name": "Python 3",
   "language": "python",
   "name": "python3"
  },
  "language_info": {
   "codemirror_mode": {
    "name": "ipython",
    "version": 3
   },
   "file_extension": ".py",
   "mimetype": "text/x-python",
   "name": "python",
   "nbconvert_exporter": "python",
   "pygments_lexer": "ipython3",
   "version": "3.10.10"
  }
 },
 "nbformat": 4,
 "nbformat_minor": 1
}
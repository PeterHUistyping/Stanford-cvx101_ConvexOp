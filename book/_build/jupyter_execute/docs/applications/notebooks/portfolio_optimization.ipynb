{
 "cells": [
  {
   "cell_type": "markdown",
   "metadata": {},
   "source": [
    "# Portfolio optimization "
   ]
  },
  {
   "cell_type": "markdown",
   "metadata": {},
   "source": [
    "## Portfolio allocation vector\n",
    "\n",
    "In this example we show how to do portfolio optimization using CVXPY.\n",
    "We begin with the basic definitions.\n",
    "In portfolio optimization we have some amount of money to invest in any of $n$ different assets. \n",
    "We choose what fraction $w_i$ of our money to invest in each asset $i$, $i=1, \\ldots, n$.\n",
    "\n",
    "We call $w\\in {\\bf R}^n$ the *portfolio allocation vector*.\n",
    "We of course have the constraint that ${\\mathbf 1}^T w =1$.\n",
    "The allocation $w_i<0$ means a *short position* in asset $i$, or that we borrow shares to sell now that we must replace later.\n",
    "The allocation $w \\geq 0$ is a *long only* portfolio.\n",
    "The quantity\n",
    "$$ \\|w \\|_1 = {\\mathbf 1}^T w_+ + {\\mathbf 1}^T w_- $$\n",
    "is known as *leverage*."
   ]
  },
  {
   "cell_type": "markdown",
   "metadata": {},
   "source": [
    "## Asset returns\n",
    "\n",
    "We will only model investments held for one period. The initial prices are $p_i > 0$. The end of period prices are $p_i^+ >0$. The asset (fractional) returns are $r_i = (p_i^+-p_i)/p_i$. The porfolio (fractional) return is $R = r^Tw$.\n",
    "\n",
    "A common model is that $r$ is a random variable with mean ${\\bf E}r = \\mu$ and covariance ${\\bf E{(r-\\mu)(r-\\mu)^T}} = \\Sigma$.\n",
    "It follows that $R$ is a random variable with ${\\bf E}R = \\mu^T w$ and ${\\bf var}(R) = w^T\\Sigma w$.\n",
    "${\\bf E}R$ is the (mean) *return* of the portfolio. ${\\bf var}(R)$ is the *risk* of the portfolio.\n",
    "(Risk is also sometimes given as ${\\bf std}(R) = \\sqrt{{\\bf var}(R)}$.)\n",
    "\n",
    "Portfolio optimization has two competing objectives: high return and low risk."
   ]
  },
  {
   "cell_type": "markdown",
   "metadata": {},
   "source": [
    "## Classical (Markowitz) portfolio optimization\n",
    "\n",
    "Classical (Markowitz) portfolio optimization solves the optimization problem\n",
    "\n",
    "\\begin{array}{ll} \\mbox{maximize} & \\mu^T w - \\gamma w^T\\Sigma w\\\\\n",
    "\\mbox{subject to} & {\\bf 1}^T w = 1, \\quad w \\in {\\cal W},\n",
    "\\end{array}\n",
    "\n",
    "where $w \\in {\\bf R}^n$ is the optimization variable, $\\cal W$ is a set of allowed portfolios (e.g., ${\\cal W} = {\\bf R}_+^n$ for a long only portfolio), and $\\gamma >0$ is the *risk aversion parameter*.\n",
    "\n",
    "The objective $\\mu^Tw - \\gamma w^T\\Sigma w$ is the *risk-adjusted return*. Varying $\\gamma$ gives the optimal *risk-return trade-off*. \n",
    "We can get the same risk-return trade-off by fixing return and minimizing risk."
   ]
  },
  {
   "cell_type": "markdown",
   "metadata": {},
   "source": [
    "## Example\n",
    "\n",
    "In the following code we compute and plot the optimal risk-return trade-off for $10$ assets, restricting ourselves to a long only portfolio."
   ]
  },
  {
   "cell_type": "code",
   "execution_count": 1,
   "metadata": {
    "collapsed": false,
    "pycharm": {
     "name": "#%%\n"
    }
   },
   "outputs": [],
   "source": [
    "# Generate data for long only portfolio optimization.\n",
    "import numpy as np\n",
    "import scipy.sparse as sp\n",
    "\n",
    "np.random.seed(1)\n",
    "n = 10\n",
    "mu = np.abs(np.random.randn(n, 1))\n",
    "Sigma = np.random.randn(n, n)\n",
    "Sigma = Sigma.T.dot(Sigma)"
   ]
  },
  {
   "cell_type": "code",
   "execution_count": 2,
   "metadata": {
    "collapsed": false,
    "pycharm": {
     "name": "#%%\n"
    }
   },
   "outputs": [],
   "source": [
    "# Long only portfolio optimization.\n",
    "import cvxpy as cp\n",
    "\n",
    "\n",
    "w = cp.Variable(n)\n",
    "gamma = cp.Parameter(nonneg=True)\n",
    "ret = mu.T @ w\n",
    "risk = cp.quad_form(w, Sigma)\n",
    "prob = cp.Problem(cp.Maximize(ret - gamma * risk), [cp.sum(w) == 1, w >= 0])"
   ]
  },
  {
   "cell_type": "code",
   "execution_count": 3,
   "metadata": {
    "collapsed": false,
    "pycharm": {
     "name": "#%%\n"
    }
   },
   "outputs": [],
   "source": [
    "# Compute trade-off curve.\n",
    "SAMPLES = 100\n",
    "risk_data = np.zeros(SAMPLES)\n",
    "ret_data = np.zeros(SAMPLES)\n",
    "gamma_vals = np.logspace(-2, 3, num=SAMPLES)\n",
    "for i in range(SAMPLES):\n",
    "    gamma.value = gamma_vals[i]\n",
    "    prob.solve()\n",
    "    risk_data[i] = cp.sqrt(risk).value\n",
    "    ret_data[i] = ret.value"
   ]
  },
  {
   "cell_type": "code",
   "execution_count": 4,
   "metadata": {
    "collapsed": false,
    "pycharm": {
     "name": "#%%\n"
    }
   },
   "outputs": [
    {
     "ename": "ModuleNotFoundError",
     "evalue": "No module named 'PIL'",
     "output_type": "error",
     "traceback": [
      "\u001b[0;31m---------------------------------------------------------------------------\u001b[0m",
      "\u001b[0;31mModuleNotFoundError\u001b[0m                       Traceback (most recent call last)",
      "Cell \u001b[0;32mIn[4], line 2\u001b[0m\n\u001b[1;32m      1\u001b[0m \u001b[38;5;66;03m# Plot long only trade-off curve.\u001b[39;00m\n\u001b[0;32m----> 2\u001b[0m \u001b[38;5;28;01mimport\u001b[39;00m \u001b[38;5;21;01mmatplotlib\u001b[39;00m\u001b[38;5;21;01m.\u001b[39;00m\u001b[38;5;21;01mpyplot\u001b[39;00m \u001b[38;5;28;01mas\u001b[39;00m \u001b[38;5;21;01mplt\u001b[39;00m\n\u001b[1;32m      4\u001b[0m get_ipython()\u001b[38;5;241m.\u001b[39mrun_line_magic(\u001b[38;5;124m'\u001b[39m\u001b[38;5;124mmatplotlib\u001b[39m\u001b[38;5;124m'\u001b[39m, \u001b[38;5;124m'\u001b[39m\u001b[38;5;124minline\u001b[39m\u001b[38;5;124m'\u001b[39m)\n\u001b[1;32m      5\u001b[0m get_ipython()\u001b[38;5;241m.\u001b[39mrun_line_magic(\u001b[38;5;124m'\u001b[39m\u001b[38;5;124mconfig\u001b[39m\u001b[38;5;124m'\u001b[39m, \u001b[38;5;124m\"\u001b[39m\u001b[38;5;124mInlineBackend.figure_format = \u001b[39m\u001b[38;5;124m'\u001b[39m\u001b[38;5;124msvg\u001b[39m\u001b[38;5;124m'\u001b[39m\u001b[38;5;124m\"\u001b[39m)\n",
      "File \u001b[0;32m~/.local/lib/python3.10/site-packages/matplotlib/__init__.py:131\u001b[0m\n\u001b[1;32m    127\u001b[0m \u001b[38;5;28;01mfrom\u001b[39;00m \u001b[38;5;21;01mpackaging\u001b[39;00m\u001b[38;5;21;01m.\u001b[39;00m\u001b[38;5;21;01mversion\u001b[39;00m \u001b[38;5;28;01mimport\u001b[39;00m parse \u001b[38;5;28;01mas\u001b[39;00m parse_version\n\u001b[1;32m    129\u001b[0m \u001b[38;5;66;03m# cbook must import matplotlib only within function\u001b[39;00m\n\u001b[1;32m    130\u001b[0m \u001b[38;5;66;03m# definitions, so it is safe to import from it here.\u001b[39;00m\n\u001b[0;32m--> 131\u001b[0m \u001b[38;5;28;01mfrom\u001b[39;00m \u001b[38;5;21;01m.\u001b[39;00m \u001b[38;5;28;01mimport\u001b[39;00m _api, _version, cbook, _docstring, rcsetup\n\u001b[1;32m    132\u001b[0m \u001b[38;5;28;01mfrom\u001b[39;00m \u001b[38;5;21;01mmatplotlib\u001b[39;00m\u001b[38;5;21;01m.\u001b[39;00m\u001b[38;5;21;01mcbook\u001b[39;00m \u001b[38;5;28;01mimport\u001b[39;00m sanitize_sequence\n\u001b[1;32m    133\u001b[0m \u001b[38;5;28;01mfrom\u001b[39;00m \u001b[38;5;21;01mmatplotlib\u001b[39;00m\u001b[38;5;21;01m.\u001b[39;00m\u001b[38;5;21;01m_api\u001b[39;00m \u001b[38;5;28;01mimport\u001b[39;00m MatplotlibDeprecationWarning\n",
      "File \u001b[0;32m~/.local/lib/python3.10/site-packages/matplotlib/rcsetup.py:27\u001b[0m\n\u001b[1;32m     25\u001b[0m \u001b[38;5;28;01mfrom\u001b[39;00m \u001b[38;5;21;01mmatplotlib\u001b[39;00m \u001b[38;5;28;01mimport\u001b[39;00m _api, cbook\n\u001b[1;32m     26\u001b[0m \u001b[38;5;28;01mfrom\u001b[39;00m \u001b[38;5;21;01mmatplotlib\u001b[39;00m\u001b[38;5;21;01m.\u001b[39;00m\u001b[38;5;21;01mcbook\u001b[39;00m \u001b[38;5;28;01mimport\u001b[39;00m ls_mapper\n\u001b[0;32m---> 27\u001b[0m \u001b[38;5;28;01mfrom\u001b[39;00m \u001b[38;5;21;01mmatplotlib\u001b[39;00m\u001b[38;5;21;01m.\u001b[39;00m\u001b[38;5;21;01mcolors\u001b[39;00m \u001b[38;5;28;01mimport\u001b[39;00m Colormap, is_color_like\n\u001b[1;32m     28\u001b[0m \u001b[38;5;28;01mfrom\u001b[39;00m \u001b[38;5;21;01mmatplotlib\u001b[39;00m\u001b[38;5;21;01m.\u001b[39;00m\u001b[38;5;21;01m_fontconfig_pattern\u001b[39;00m \u001b[38;5;28;01mimport\u001b[39;00m parse_fontconfig_pattern\n\u001b[1;32m     29\u001b[0m \u001b[38;5;28;01mfrom\u001b[39;00m \u001b[38;5;21;01mmatplotlib\u001b[39;00m\u001b[38;5;21;01m.\u001b[39;00m\u001b[38;5;21;01m_enums\u001b[39;00m \u001b[38;5;28;01mimport\u001b[39;00m JoinStyle, CapStyle\n",
      "File \u001b[0;32m~/.local/lib/python3.10/site-packages/matplotlib/colors.py:51\u001b[0m\n\u001b[1;32m     49\u001b[0m \u001b[38;5;28;01mfrom\u001b[39;00m \u001b[38;5;21;01mnumbers\u001b[39;00m \u001b[38;5;28;01mimport\u001b[39;00m Number\n\u001b[1;32m     50\u001b[0m \u001b[38;5;28;01mimport\u001b[39;00m \u001b[38;5;21;01mre\u001b[39;00m\n\u001b[0;32m---> 51\u001b[0m \u001b[38;5;28;01mfrom\u001b[39;00m \u001b[38;5;21;01mPIL\u001b[39;00m \u001b[38;5;28;01mimport\u001b[39;00m Image\n\u001b[1;32m     52\u001b[0m \u001b[38;5;28;01mfrom\u001b[39;00m \u001b[38;5;21;01mPIL\u001b[39;00m\u001b[38;5;21;01m.\u001b[39;00m\u001b[38;5;21;01mPngImagePlugin\u001b[39;00m \u001b[38;5;28;01mimport\u001b[39;00m PngInfo\n\u001b[1;32m     54\u001b[0m \u001b[38;5;28;01mimport\u001b[39;00m \u001b[38;5;21;01mmatplotlib\u001b[39;00m \u001b[38;5;28;01mas\u001b[39;00m \u001b[38;5;21;01mmpl\u001b[39;00m\n",
      "\u001b[0;31mModuleNotFoundError\u001b[0m: No module named 'PIL'"
     ]
    }
   ],
   "source": [
    "# Plot long only trade-off curve.\n",
    "import matplotlib.pyplot as plt\n",
    "\n",
    "%matplotlib inline\n",
    "%config InlineBackend.figure_format = 'svg'\n",
    "\n",
    "markers_on = [29, 40]\n",
    "fig = plt.figure()\n",
    "ax = fig.add_subplot(111)\n",
    "plt.plot(risk_data, ret_data, \"g-\")\n",
    "for marker in markers_on:\n",
    "    plt.plot(risk_data[marker], ret_data[marker], \"bs\")\n",
    "    ax.annotate(\n",
    "        r\"$\\gamma = %.2f$\" % gamma_vals[marker],\n",
    "        xy=(risk_data[marker] + 0.08, ret_data[marker] - 0.03),\n",
    "    )\n",
    "for i in range(n):\n",
    "    plt.plot(cp.sqrt(Sigma[i, i]).value, mu[i], \"ro\")\n",
    "plt.xlabel(\"Standard deviation\")\n",
    "plt.ylabel(\"Return\")\n",
    "plt.show()"
   ]
  },
  {
   "cell_type": "markdown",
   "metadata": {
    "collapsed": false,
    "pycharm": {
     "name": "#%% md\n"
    }
   },
   "source": [
    "We plot below the return distributions for the two risk aversion values marked on the trade-off curve.\n",
    "Notice that the probability of a loss is near 0 for the low risk value and far above 0 for the high risk value."
   ]
  },
  {
   "cell_type": "code",
   "execution_count": 5,
   "metadata": {
    "collapsed": false,
    "pycharm": {
     "name": "#%%\n"
    }
   },
   "outputs": [
    {
     "ename": "NameError",
     "evalue": "name 'plt' is not defined",
     "output_type": "error",
     "traceback": [
      "\u001b[0;31m---------------------------------------------------------------------------\u001b[0m",
      "\u001b[0;31mNameError\u001b[0m                                 Traceback (most recent call last)",
      "Cell \u001b[0;32mIn[5], line 5\u001b[0m\n\u001b[1;32m      1\u001b[0m \u001b[38;5;66;03m# Plot return distributions for two points on the trade-off curve.\u001b[39;00m\n\u001b[1;32m      2\u001b[0m \u001b[38;5;28;01mimport\u001b[39;00m \u001b[38;5;21;01mscipy\u001b[39;00m\u001b[38;5;21;01m.\u001b[39;00m\u001b[38;5;21;01mstats\u001b[39;00m \u001b[38;5;28;01mas\u001b[39;00m \u001b[38;5;21;01mspstats\u001b[39;00m\n\u001b[0;32m----> 5\u001b[0m \u001b[43mplt\u001b[49m\u001b[38;5;241m.\u001b[39mfigure()\n\u001b[1;32m      6\u001b[0m \u001b[38;5;28;01mfor\u001b[39;00m midx, idx \u001b[38;5;129;01min\u001b[39;00m \u001b[38;5;28menumerate\u001b[39m(markers_on):\n\u001b[1;32m      7\u001b[0m     gamma\u001b[38;5;241m.\u001b[39mvalue \u001b[38;5;241m=\u001b[39m gamma_vals[idx]\n",
      "\u001b[0;31mNameError\u001b[0m: name 'plt' is not defined"
     ]
    }
   ],
   "source": [
    "# Plot return distributions for two points on the trade-off curve.\n",
    "import scipy.stats as spstats\n",
    "\n",
    "\n",
    "plt.figure()\n",
    "for midx, idx in enumerate(markers_on):\n",
    "    gamma.value = gamma_vals[idx]\n",
    "    prob.solve()\n",
    "    x = np.linspace(-2, 5, 1000)\n",
    "    plt.plot(\n",
    "        x,\n",
    "        spstats.norm.pdf(x, ret.value, risk.value),\n",
    "        label=r\"$\\gamma = %.2f$\" % gamma.value,\n",
    "    )\n",
    "\n",
    "plt.xlabel(\"Return\")\n",
    "plt.ylabel(\"Density\")\n",
    "plt.legend(loc=\"upper right\")\n",
    "plt.show()"
   ]
  },
  {
   "cell_type": "markdown",
   "metadata": {
    "collapsed": false,
    "pycharm": {
     "name": "#%% md\n"
    }
   },
   "source": [
    "### Portfolio constraints\n",
    "\n",
    "There are many other possible portfolio constraints besides the long only constraint. With no constraint (${\\cal W} = {\\bf R}^n$), the optimization problem has a simple analytical solution. We will look in detail at a *leverage limit*, or the constraint that $\\|w \\|_1 \\leq L^\\mathrm{max}$.\n",
    "\n",
    "\n",
    "Another interesting constraint is the *market neutral* constraint $m^T \\Sigma w =0$, where $m_i$ is the capitalization of asset $i$.\n",
    "$M = m^Tr$ is the *market return*, and $m^T \\Sigma w = {\\bf cov}(M,R)$.\n",
    "The market neutral constraint ensures that the portfolio return is uncorrelated with the market return."
   ]
  },
  {
   "cell_type": "markdown",
   "metadata": {
    "collapsed": false,
    "pycharm": {
     "name": "#%% md\n"
    }
   },
   "source": [
    "### Example\n",
    "\n",
    "In the following code we compute and plot optimal risk-return trade-off curves for leverage limits of 1, 2, and 4.\n",
    "Notice that more leverage increases returns and allows greater risk."
   ]
  },
  {
   "cell_type": "code",
   "execution_count": 6,
   "metadata": {
    "collapsed": false,
    "pycharm": {
     "name": "#%%\n"
    }
   },
   "outputs": [],
   "source": [
    "# Portfolio optimization with leverage limit.\n",
    "Lmax = cp.Parameter()\n",
    "prob = cp.Problem(\n",
    "    cp.Maximize(ret - gamma * risk), [cp.sum(w) == 1, cp.norm(w, 1) <= Lmax]\n",
    ")"
   ]
  },
  {
   "cell_type": "code",
   "execution_count": 7,
   "metadata": {
    "collapsed": false,
    "pycharm": {
     "name": "#%%\n"
    }
   },
   "outputs": [],
   "source": [
    "# Compute trade-off curve for each leverage limit.\n",
    "L_vals = [1, 2, 4]\n",
    "SAMPLES = 100\n",
    "risk_data = np.zeros((len(L_vals), SAMPLES))\n",
    "ret_data = np.zeros((len(L_vals), SAMPLES))\n",
    "gamma_vals = np.logspace(-2, 3, num=SAMPLES)\n",
    "w_vals = []\n",
    "for k, L_val in enumerate(L_vals):\n",
    "    for i in range(SAMPLES):\n",
    "        Lmax.value = L_val\n",
    "        gamma.value = gamma_vals[i]\n",
    "        prob.solve(solver=cp.SCS)\n",
    "        risk_data[k, i] = cp.sqrt(risk).value\n",
    "        ret_data[k, i] = ret.value"
   ]
  },
  {
   "cell_type": "code",
   "execution_count": 8,
   "metadata": {
    "collapsed": false,
    "pycharm": {
     "name": "#%%\n"
    }
   },
   "outputs": [
    {
     "ename": "NameError",
     "evalue": "name 'plt' is not defined",
     "output_type": "error",
     "traceback": [
      "\u001b[0;31m---------------------------------------------------------------------------\u001b[0m",
      "\u001b[0;31mNameError\u001b[0m                                 Traceback (most recent call last)",
      "Cell \u001b[0;32mIn[8], line 3\u001b[0m\n\u001b[1;32m      1\u001b[0m \u001b[38;5;66;03m# Plot trade-off curves for each leverage limit.\u001b[39;00m\n\u001b[1;32m      2\u001b[0m \u001b[38;5;28;01mfor\u001b[39;00m idx, L_val \u001b[38;5;129;01min\u001b[39;00m \u001b[38;5;28menumerate\u001b[39m(L_vals):\n\u001b[0;32m----> 3\u001b[0m     \u001b[43mplt\u001b[49m\u001b[38;5;241m.\u001b[39mplot(risk_data[idx, :], ret_data[idx, :], label\u001b[38;5;241m=\u001b[39m\u001b[38;5;124mr\u001b[39m\u001b[38;5;124m\"\u001b[39m\u001b[38;5;124m$L^\u001b[39m\u001b[38;5;124m{\u001b[39m\u001b[38;5;124m\\\u001b[39m\u001b[38;5;124mmax}$ = \u001b[39m\u001b[38;5;132;01m%d\u001b[39;00m\u001b[38;5;124m\"\u001b[39m \u001b[38;5;241m%\u001b[39m L_val)\n\u001b[1;32m      4\u001b[0m \u001b[38;5;28;01mfor\u001b[39;00m w_val \u001b[38;5;129;01min\u001b[39;00m w_vals:\n\u001b[1;32m      5\u001b[0m     w\u001b[38;5;241m.\u001b[39mvalue \u001b[38;5;241m=\u001b[39m w_val\n",
      "\u001b[0;31mNameError\u001b[0m: name 'plt' is not defined"
     ]
    }
   ],
   "source": [
    "# Plot trade-off curves for each leverage limit.\n",
    "for idx, L_val in enumerate(L_vals):\n",
    "    plt.plot(risk_data[idx, :], ret_data[idx, :], label=r\"$L^{\\max}$ = %d\" % L_val)\n",
    "for w_val in w_vals:\n",
    "    w.value = w_val\n",
    "    plt.plot(cp.sqrt(risk).value, ret.value, \"bs\")\n",
    "plt.xlabel(\"Standard deviation\")\n",
    "plt.ylabel(\"Return\")\n",
    "plt.legend(loc=\"lower right\")\n",
    "plt.show()"
   ]
  },
  {
   "cell_type": "markdown",
   "metadata": {
    "collapsed": false,
    "pycharm": {
     "name": "#%% md\n"
    }
   },
   "source": [
    "We next examine the points on each trade-off curve where $w^T\\Sigma w = 2$.\n",
    "We plot the amount of each asset held in each portfolio as bar graphs. (Negative holdings indicate a short position.)\n",
    "Notice that some assets are held in a long position for the low leverage portfolio but in a short position in the higher leverage portfolios. "
   ]
  },
  {
   "cell_type": "code",
   "execution_count": 9,
   "metadata": {
    "collapsed": false,
    "pycharm": {
     "name": "#%%\n"
    }
   },
   "outputs": [],
   "source": [
    "# Portfolio optimization with a leverage limit and a bound on risk.\n",
    "prob = cp.Problem(cp.Maximize(ret), [cp.sum(w) == 1, cp.norm(w, 1) <= Lmax, risk <= 2])"
   ]
  },
  {
   "cell_type": "code",
   "execution_count": 10,
   "metadata": {
    "collapsed": false,
    "pycharm": {
     "name": "#%%\n"
    }
   },
   "outputs": [],
   "source": [
    "# Compute solution for different leverage limits.\n",
    "for k, L_val in enumerate(L_vals):\n",
    "    Lmax.value = L_val\n",
    "    prob.solve()\n",
    "    w_vals.append(w.value)"
   ]
  },
  {
   "cell_type": "code",
   "execution_count": 11,
   "metadata": {
    "collapsed": false,
    "pycharm": {
     "name": "#%%\n"
    }
   },
   "outputs": [
    {
     "ename": "NameError",
     "evalue": "name 'plt' is not defined",
     "output_type": "error",
     "traceback": [
      "\u001b[0;31m---------------------------------------------------------------------------\u001b[0m",
      "\u001b[0;31mNameError\u001b[0m                                 Traceback (most recent call last)",
      "Cell \u001b[0;32mIn[11], line 5\u001b[0m\n\u001b[1;32m      3\u001b[0m indices \u001b[38;5;241m=\u001b[39m np\u001b[38;5;241m.\u001b[39margsort(mu\u001b[38;5;241m.\u001b[39mflatten())\n\u001b[1;32m      4\u001b[0m \u001b[38;5;28;01mfor\u001b[39;00m idx, L_val \u001b[38;5;129;01min\u001b[39;00m \u001b[38;5;28menumerate\u001b[39m(L_vals):\n\u001b[0;32m----> 5\u001b[0m     \u001b[43mplt\u001b[49m\u001b[38;5;241m.\u001b[39mbar(\n\u001b[1;32m      6\u001b[0m         np\u001b[38;5;241m.\u001b[39marange(\u001b[38;5;241m1\u001b[39m, n \u001b[38;5;241m+\u001b[39m \u001b[38;5;241m1\u001b[39m) \u001b[38;5;241m+\u001b[39m \u001b[38;5;241m0.25\u001b[39m \u001b[38;5;241m*\u001b[39m idx \u001b[38;5;241m-\u001b[39m \u001b[38;5;241m0.375\u001b[39m,\n\u001b[1;32m      7\u001b[0m         w_vals[idx][indices],\n\u001b[1;32m      8\u001b[0m         color\u001b[38;5;241m=\u001b[39mcolors[idx],\n\u001b[1;32m      9\u001b[0m         label\u001b[38;5;241m=\u001b[39m\u001b[38;5;124mr\u001b[39m\u001b[38;5;124m\"\u001b[39m\u001b[38;5;124m$L^\u001b[39m\u001b[38;5;124m{\u001b[39m\u001b[38;5;124m\\\u001b[39m\u001b[38;5;124mmax}$ = \u001b[39m\u001b[38;5;132;01m%d\u001b[39;00m\u001b[38;5;124m\"\u001b[39m \u001b[38;5;241m%\u001b[39m L_val,\n\u001b[1;32m     10\u001b[0m         width\u001b[38;5;241m=\u001b[39m\u001b[38;5;241m0.25\u001b[39m,\n\u001b[1;32m     11\u001b[0m     )\n\u001b[1;32m     12\u001b[0m plt\u001b[38;5;241m.\u001b[39mylabel(\u001b[38;5;124mr\u001b[39m\u001b[38;5;124m\"\u001b[39m\u001b[38;5;124m$w_i$\u001b[39m\u001b[38;5;124m\"\u001b[39m, fontsize\u001b[38;5;241m=\u001b[39m\u001b[38;5;241m16\u001b[39m)\n\u001b[1;32m     13\u001b[0m plt\u001b[38;5;241m.\u001b[39mxlabel(\u001b[38;5;124mr\u001b[39m\u001b[38;5;124m\"\u001b[39m\u001b[38;5;124m$i$\u001b[39m\u001b[38;5;124m\"\u001b[39m, fontsize\u001b[38;5;241m=\u001b[39m\u001b[38;5;241m16\u001b[39m)\n",
      "\u001b[0;31mNameError\u001b[0m: name 'plt' is not defined"
     ]
    }
   ],
   "source": [
    "# Plot bar graph of holdings for different leverage limits.\n",
    "colors = [\"b\", \"g\", \"r\"]\n",
    "indices = np.argsort(mu.flatten())\n",
    "for idx, L_val in enumerate(L_vals):\n",
    "    plt.bar(\n",
    "        np.arange(1, n + 1) + 0.25 * idx - 0.375,\n",
    "        w_vals[idx][indices],\n",
    "        color=colors[idx],\n",
    "        label=r\"$L^{\\max}$ = %d\" % L_val,\n",
    "        width=0.25,\n",
    "    )\n",
    "plt.ylabel(r\"$w_i$\", fontsize=16)\n",
    "plt.xlabel(r\"$i$\", fontsize=16)\n",
    "plt.xlim([1 - 0.375, 10 + 0.375])\n",
    "plt.xticks(np.arange(1, n + 1))\n",
    "plt.show()"
   ]
  },
  {
   "cell_type": "markdown",
   "metadata": {
    "collapsed": false,
    "pycharm": {
     "name": "#%% md\n"
    }
   },
   "source": [
    "## Variations\n",
    "\n",
    "There are many more variations of classical portfolio optimization. We might require that $\\mu^T w \\geq R^\\mathrm{min}$ and minimize $w^T \\Sigma w$ or $\\|\\Sigma ^{1/2} w\\|_2$.\n",
    "We could include the (broker) cost of short positions as the penalty $s^T (w)_-$ for some $s \\geq 0$.\n",
    "We could include transaction costs (from a previous portfolio $w^\\mathrm{prev}$) as the penalty\n",
    "\n",
    "$$\n",
    "\\kappa ^T |w-w^\\mathrm{prev}|^\\eta, \\quad\n",
    "\\kappa \\geq 0.\n",
    "$$\n",
    "\n",
    "\n",
    "Common values of $\\eta$ are $\\eta =1, ~ 3/2, ~2$.\n"
   ]
  },
  {
   "cell_type": "markdown",
   "metadata": {
    "collapsed": false,
    "pycharm": {
     "name": "#%% md\n"
    }
   },
   "source": [
    "## Factor covariance model\n",
    "\n",
    "A particularly common and useful variation is to model the covariance matrix $\\Sigma$ as a factor model\n",
    "\n",
    "$$\n",
    "\\Sigma  =  F \\tilde \\Sigma F^T + D,\n",
    "$$\n",
    "\n",
    "where  $F \\in {\\bf R}^{n \\times k}$, $k \\ll n$ is the *factor loading matrix*. $k$ is the number of factors (or sectors) (typically 10s). $F_{ij}$ is the loading of asset $i$ to factor $j$.\n",
    "$D$ is a diagonal matrix; $D_{ii}>0$ is the *idiosyncratic risk*. $\\tilde \\Sigma > 0$ is the *factor covariance matrix*.\n",
    "\n",
    "$F^Tw \\in {\\bf R}^k$ gives the portfolio *factor exposures*. A portfolio is *factor $j$ neutral* if $(F^Tw)_j=0$.\n"
   ]
  },
  {
   "cell_type": "markdown",
   "metadata": {
    "collapsed": false,
    "pycharm": {
     "name": "#%% md\n"
    }
   },
   "source": [
    "## Portfolio optimization with factor covariance model\n",
    "\n",
    "Using the factor covariance model, we frame the portfolio optimization problem as \n",
    "\n",
    "\\begin{array}{ll} \\mbox{maximize} & \\mu^T w - \\gamma \\left(f^T \\tilde \\Sigma f  + w^TDw \\right) \\\\\n",
    "\\mbox{subject to} & {\\bf 1}^T w = 1, \\quad f=F^Tw\\\\\n",
    "& w \\in {\\cal W}, \\quad f \\in {\\cal F},\n",
    "\\end{array}\n",
    "\n",
    "where the variables are the allocations $w \\in {\\bf R}^n$ and factor exposures $f\\in {\\bf R}^k$ and $\\cal F$ gives the factor exposure constraints.\n",
    "\n",
    "Using the factor covariance model in the optimization problem has a computational advantage. The solve time is $O(nk^2)$ versus $O(n^3)$ for the standard problem."
   ]
  },
  {
   "cell_type": "markdown",
   "metadata": {
    "collapsed": false,
    "pycharm": {
     "name": "#%% md\n"
    }
   },
   "source": [
    "## Example\n",
    "\n",
    "In the following code we generate and solve a portfolio optimization problem with 50 factors and 3000 assets.\n",
    "We set the leverage limit $=2$ and $\\gamma=0.1$.\n",
    "\n",
    "We solve the problem both with the covariance given as a single matrix and as a factor model.\n",
    "Using CVXPY with the OSQP solver running in a single thread, the solve time was 173.30 seconds for the single matrix formulation and 0.85 seconds for the factor model formulation.\n",
    "We collected the timings on a MacBook Air with an Intel Core i7 processor."
   ]
  },
  {
   "cell_type": "code",
   "execution_count": 12,
   "metadata": {
    "collapsed": false,
    "pycharm": {
     "name": "#%%\n"
    }
   },
   "outputs": [],
   "source": [
    "# Generate data for factor model.\n",
    "n = 3000\n",
    "m = 50\n",
    "np.random.seed(1)\n",
    "mu = np.abs(np.random.randn(n, 1))\n",
    "Sigma_tilde = np.random.randn(m, m)\n",
    "Sigma_tilde = Sigma_tilde.T.dot(Sigma_tilde)\n",
    "D = sp.diags(np.random.uniform(0, 0.9, size=n))\n",
    "F = np.random.randn(n, m)"
   ]
  },
  {
   "cell_type": "code",
   "execution_count": 13,
   "metadata": {
    "collapsed": false,
    "pycharm": {
     "name": "#%%\n"
    }
   },
   "outputs": [
    {
     "name": "stdout",
     "output_type": "stream",
     "text": [
      "===============================================================================\n",
      "                                     CVXPY                                     \n",
      "                                     v1.3.1                                    \n",
      "===============================================================================\n",
      "(CVXPY) Jun 22 04:14:02 PM: Your problem has 3050 variables, 3 constraints, and 2 parameters.\n"
     ]
    },
    {
     "name": "stdout",
     "output_type": "stream",
     "text": [
      "(CVXPY) Jun 22 04:14:02 PM: It is compliant with the following grammars: DCP, DQCP\n"
     ]
    },
    {
     "name": "stdout",
     "output_type": "stream",
     "text": [
      "(CVXPY) Jun 22 04:14:02 PM: CVXPY will first compile your problem; then, it will invoke a numerical solver to obtain a solution.\n"
     ]
    },
    {
     "name": "stdout",
     "output_type": "stream",
     "text": [
      "-------------------------------------------------------------------------------\n",
      "                                  Compilation                                  \n",
      "-------------------------------------------------------------------------------\n",
      "(CVXPY) Jun 22 04:14:02 PM: Compiling problem (target solver=OSQP).\n"
     ]
    },
    {
     "name": "stdout",
     "output_type": "stream",
     "text": [
      "(CVXPY) Jun 22 04:14:02 PM: Reduction chain: FlipObjective -> CvxAttr2Constr -> Qp2SymbolicQp -> QpMatrixStuffing -> OSQP\n"
     ]
    },
    {
     "name": "stdout",
     "output_type": "stream",
     "text": [
      "(CVXPY) Jun 22 04:14:02 PM: Applying reduction FlipObjective\n"
     ]
    },
    {
     "name": "stdout",
     "output_type": "stream",
     "text": [
      "(CVXPY) Jun 22 04:14:02 PM: Applying reduction CvxAttr2Constr\n"
     ]
    },
    {
     "name": "stdout",
     "output_type": "stream",
     "text": [
      "(CVXPY) Jun 22 04:14:02 PM: Applying reduction Qp2SymbolicQp\n"
     ]
    },
    {
     "name": "stdout",
     "output_type": "stream",
     "text": [
      "(CVXPY) Jun 22 04:14:02 PM: Applying reduction QpMatrixStuffing\n"
     ]
    },
    {
     "name": "stdout",
     "output_type": "stream",
     "text": [
      "(CVXPY) Jun 22 04:14:02 PM: Applying reduction OSQP\n"
     ]
    },
    {
     "name": "stdout",
     "output_type": "stream",
     "text": [
      "(CVXPY) Jun 22 04:14:02 PM: Finished problem compilation (took 8.205e-02 seconds).\n"
     ]
    },
    {
     "name": "stdout",
     "output_type": "stream",
     "text": [
      "(CVXPY) Jun 22 04:14:02 PM: (Subsequent compilations of this problem, using the same arguments, should take less time.)\n"
     ]
    },
    {
     "name": "stdout",
     "output_type": "stream",
     "text": [
      "-------------------------------------------------------------------------------\n",
      "                                Numerical solver                               \n",
      "-------------------------------------------------------------------------------\n",
      "(CVXPY) Jun 22 04:14:02 PM: Invoking solver OSQP  to obtain a solution.\n"
     ]
    },
    {
     "name": "stdout",
     "output_type": "stream",
     "text": [
      "-----------------------------------------------------------------\n",
      "           OSQP v0.6.3  -  Operator Splitting QP Solver\n",
      "              (c) Bartolomeo Stellato,  Goran Banjac\n",
      "        University of Oxford  -  Stanford University 2021\n",
      "-----------------------------------------------------------------\n",
      "problem:  variables n = 9050, constraints m = 9052\n",
      "          nnz(P) + nnz(A) = 178325\n",
      "settings: linear system solver = qdldl,\n",
      "          "
     ]
    },
    {
     "name": "stdout",
     "output_type": "stream",
     "text": [
      "eps_abs = 1.0e-05, eps_rel = 1.0e-05,\n",
      "          eps_prim_inf = 1.0e-04, eps_dual_inf = 1.0e-04,\n",
      "          rho = 1.00e-01 (adaptive),\n",
      "          sigma = 1.00e-06, alpha = 1.60, max_iter = 10000\n",
      "          check_termination: on (interval 25),\n",
      "          scaling: on, scaled_termination: off\n",
      "          warm start: on, polish: on, time_limit: off\n",
      "\n",
      "iter   objective    pri res    dua res    rho        time\n",
      "   1  -2.1363e+03   7.63e+00   3.73e+02   1.00e-01   6.45e-02s\n"
     ]
    },
    {
     "name": "stdout",
     "output_type": "stream",
     "text": [
      " 200  -4.2091e+00   2.19e-03   7.84e-03   3.56e-01   4.01e-01s\n"
     ]
    },
    {
     "name": "stdout",
     "output_type": "stream",
     "text": [
      " 400  -4.6228e+00   3.07e-04   5.76e-04   3.56e-01   6.89e-01s\n"
     ]
    },
    {
     "name": "stdout",
     "output_type": "stream",
     "text": [
      " 600  -4.6427e+00   2.23e-04   8.76e-04   3.56e-01   9.73e-01s\n"
     ]
    },
    {
     "name": "stdout",
     "output_type": "stream",
     "text": [
      " 800  -4.6215e+00   1.14e-04   4.97e-04   3.56e-01   1.26e+00s\n"
     ]
    },
    {
     "name": "stdout",
     "output_type": "stream",
     "text": [
      "1000  -4.6214e+00   8.78e-05   1.06e-04   3.56e-01   1.55e+00s\n"
     ]
    },
    {
     "name": "stdout",
     "output_type": "stream",
     "text": [
      "1200  -4.6204e+00   8.58e-05   9.26e-06   3.56e-01   1.83e+00s\n"
     ]
    },
    {
     "name": "stdout",
     "output_type": "stream",
     "text": [
      "1400  -4.6138e+00   6.70e-05   2.37e-04   3.56e-01   2.12e+00s\n"
     ]
    },
    {
     "name": "stdout",
     "output_type": "stream",
     "text": [
      "1600  -4.6067e+00   2.86e-05   1.19e-04   3.56e-01   2.41e+00s\n",
      "1675  -4.6051e+00   1.91e-05   3.72e-05   3.56e-01   2.51e+00s\n",
      "\n",
      "status:               solved\n",
      "solution polish:      unsuccessful\n",
      "number of iterations: 1675\n",
      "optimal objective:    -4.6051\n",
      "run time:             2.55e+00s\n",
      "optimal rho estimate: 3.20e-01\n",
      "\n",
      "-------------------------------------------------------------------------------\n",
      "                                    Summary                                    \n",
      "-------------------------------------------------------------------------------\n",
      "(CVXPY) Jun 22 04:14:04 PM: Problem status: optimal\n"
     ]
    },
    {
     "name": "stdout",
     "output_type": "stream",
     "text": [
      "(CVXPY) Jun 22 04:14:04 PM: Optimal value: 4.605e+00\n"
     ]
    },
    {
     "name": "stdout",
     "output_type": "stream",
     "text": [
      "(CVXPY) Jun 22 04:14:04 PM: Compilation took 8.205e-02 seconds\n"
     ]
    },
    {
     "name": "stdout",
     "output_type": "stream",
     "text": [
      "(CVXPY) Jun 22 04:14:04 PM: Solver (including time spent in interface) took 2.566e+00 seconds\n"
     ]
    },
    {
     "data": {
      "text/plain": [
       "4.605102865930337"
      ]
     },
     "execution_count": 13,
     "metadata": {},
     "output_type": "execute_result"
    }
   ],
   "source": [
    "# Factor model portfolio optimization.\n",
    "w = cp.Variable(n)\n",
    "f = cp.Variable(m)\n",
    "gamma = cp.Parameter(nonneg=True)\n",
    "Lmax = cp.Parameter()\n",
    "ret = mu.T @ w\n",
    "risk = cp.quad_form(f, Sigma_tilde) + cp.sum_squares(np.sqrt(D) @ w)\n",
    "prob_factor = cp.Problem(\n",
    "    cp.Maximize(ret - gamma * risk),\n",
    "    [cp.sum(w) == 1, f == F.T @ w, cp.norm(w, 1) <= Lmax],\n",
    ")\n",
    "\n",
    "# Solve the factor model problem.\n",
    "Lmax.value = 2\n",
    "gamma.value = 0.1\n",
    "prob_factor.solve(verbose=True)"
   ]
  },
  {
   "cell_type": "code",
   "execution_count": 14,
   "metadata": {
    "collapsed": false,
    "pycharm": {
     "is_executing": true,
     "name": "#%%\n"
    }
   },
   "outputs": [
    {
     "name": "stdout",
     "output_type": "stream",
     "text": [
      "===============================================================================\n",
      "                                     CVXPY                                     \n",
      "                                     v1.3.1                                    \n",
      "===============================================================================\n",
      "(CVXPY) Jun 22 04:14:05 PM: Your problem has 3000 variables, 2 constraints, and 2 parameters.\n"
     ]
    },
    {
     "name": "stdout",
     "output_type": "stream",
     "text": [
      "(CVXPY) Jun 22 04:14:05 PM: It is compliant with the following grammars: DCP, DQCP\n"
     ]
    },
    {
     "name": "stdout",
     "output_type": "stream",
     "text": [
      "(CVXPY) Jun 22 04:14:05 PM: CVXPY will first compile your problem; then, it will invoke a numerical solver to obtain a solution.\n"
     ]
    },
    {
     "name": "stdout",
     "output_type": "stream",
     "text": [
      "-------------------------------------------------------------------------------\n",
      "                                  Compilation                                  \n",
      "-------------------------------------------------------------------------------\n",
      "(CVXPY) Jun 22 04:14:05 PM: Compiling problem (target solver=OSQP).\n"
     ]
    },
    {
     "name": "stdout",
     "output_type": "stream",
     "text": [
      "(CVXPY) Jun 22 04:14:05 PM: Reduction chain: FlipObjective -> CvxAttr2Constr -> Qp2SymbolicQp -> QpMatrixStuffing -> OSQP\n"
     ]
    },
    {
     "name": "stdout",
     "output_type": "stream",
     "text": [
      "(CVXPY) Jun 22 04:14:05 PM: Applying reduction FlipObjective\n"
     ]
    },
    {
     "name": "stdout",
     "output_type": "stream",
     "text": [
      "(CVXPY) Jun 22 04:14:05 PM: Applying reduction CvxAttr2Constr\n"
     ]
    },
    {
     "name": "stdout",
     "output_type": "stream",
     "text": [
      "(CVXPY) Jun 22 04:14:05 PM: Applying reduction Qp2SymbolicQp\n"
     ]
    },
    {
     "name": "stdout",
     "output_type": "stream",
     "text": [
      "(CVXPY) Jun 22 04:14:05 PM: Applying reduction QpMatrixStuffing\n"
     ]
    },
    {
     "name": "stdout",
     "output_type": "stream",
     "text": [
      "(CVXPY) Jun 22 04:14:09 PM: Applying reduction OSQP\n"
     ]
    },
    {
     "name": "stdout",
     "output_type": "stream",
     "text": [
      "(CVXPY) Jun 22 04:14:11 PM: Finished problem compilation (took 6.439e+00 seconds).\n"
     ]
    },
    {
     "name": "stdout",
     "output_type": "stream",
     "text": [
      "(CVXPY) Jun 22 04:14:11 PM: (Subsequent compilations of this problem, using the same arguments, should take less time.)\n"
     ]
    },
    {
     "name": "stdout",
     "output_type": "stream",
     "text": [
      "-------------------------------------------------------------------------------\n",
      "                                Numerical solver                               \n",
      "-------------------------------------------------------------------------------\n",
      "(CVXPY) Jun 22 04:14:11 PM: Invoking solver OSQP  to obtain a solution.\n"
     ]
    },
    {
     "name": "stdout",
     "output_type": "stream",
     "text": [
      "-----------------------------------------------------------------\n",
      "           OSQP v0.6.3  -  Operator Splitting QP Solver\n",
      "              (c) Bartolomeo Stellato,  Goran Banjac\n",
      "        University of Oxford  -  Stanford University 2021\n",
      "-----------------------------------------------------------------\n",
      "problem:  variables n = 6000, constraints m = 6002\n",
      "          nnz(P) + nnz(A) = 4519500\n",
      "settings: linear system solver = qdldl,\n",
      "          eps_abs = 1.0e-05, eps_rel = 1.0e-05,\n",
      "          eps_prim_inf = 1.0e-04, eps_dual_inf = 1.0e-04,\n",
      "          rho = 1.00e-01 (adaptive),\n",
      "          sigma = 1.00e-06, alpha = 1.60, max_iter = 100000\n",
      "          check_termination: on (interval 25),\n",
      "          scaling: on, scaled_termination: off\n",
      "          warm start: on, polish: on, time_limit: off\n",
      "\n",
      "iter   objective    pri res    dua res    rho        time\n",
      "   1  -1.1774e+04   2.65e+02   1.51e+04   1.00e-01   6.90e+00s\n"
     ]
    },
    {
     "name": "stdout",
     "output_type": "stream",
     "text": [
      " 200  -4.1080e+02   2.42e-01   8.86e-04   1.00e-01   9.63e+00s\n"
     ]
    },
    {
     "name": "stdout",
     "output_type": "stream",
     "text": [
      " 400  -1.9413e+02   1.13e-01   2.51e-04   1.00e-01   1.24e+01s\n"
     ]
    },
    {
     "name": "stdout",
     "output_type": "stream",
     "text": [
      " 600  -1.2345e+02   6.40e-02   1.09e-04   1.00e-01   1.51e+01s\n"
     ]
    },
    {
     "name": "stdout",
     "output_type": "stream",
     "text": [
      " 800  -8.7560e+01   4.67e-02   5.29e-05   1.00e-01   1.79e+01s\n"
     ]
    },
    {
     "name": "stdout",
     "output_type": "stream",
     "text": [
      "1000  -6.5202e+01   3.49e-02   2.99e-05   1.00e-01   2.06e+01s\n"
     ]
    },
    {
     "name": "stdout",
     "output_type": "stream",
     "text": [
      "1200  -5.0118e+01   2.68e-02   1.91e-05   1.00e-01   2.35e+01s\n"
     ]
    },
    {
     "name": "stdout",
     "output_type": "stream",
     "text": [
      "1400  -3.9737e+01   2.09e-02   1.41e-05   1.00e-01   2.63e+01s\n"
     ]
    },
    {
     "name": "stdout",
     "output_type": "stream",
     "text": [
      "1600  -3.2445e+01   1.72e-02   1.06e-05   1.00e-01   2.93e+01s\n"
     ]
    },
    {
     "name": "stdout",
     "output_type": "stream",
     "text": [
      "1800  -2.6947e+01   1.42e-02   8.27e-06   1.00e-01   3.21e+01s\n"
     ]
    },
    {
     "name": "stdout",
     "output_type": "stream",
     "text": [
      "2000  -2.2700e+01   1.17e-02   6.57e-06   1.00e-01   3.49e+01s\n"
     ]
    },
    {
     "name": "stdout",
     "output_type": "stream",
     "text": [
      "2200  -1.9294e+01   9.74e-03   5.29e-06   1.00e-01   3.76e+01s\n"
     ]
    },
    {
     "name": "stdout",
     "output_type": "stream",
     "text": [
      "2400  -1.6616e+01   8.26e-03   4.32e-06   1.00e-01   4.03e+01s\n"
     ]
    },
    {
     "name": "stdout",
     "output_type": "stream",
     "text": [
      "2600  -1.4460e+01   7.01e-03   3.56e-06   1.00e-01   4.31e+01s\n"
     ]
    },
    {
     "name": "stdout",
     "output_type": "stream",
     "text": [
      "2800  -1.2704e+01   5.95e-03   2.93e-06   1.00e-01   4.58e+01s\n"
     ]
    },
    {
     "name": "stdout",
     "output_type": "stream",
     "text": [
      "3000  -1.1267e+01   5.06e-03   2.43e-06   1.00e-01   4.85e+01s\n"
     ]
    },
    {
     "name": "stdout",
     "output_type": "stream",
     "text": [
      "3200  -1.0092e+01   4.25e-03   2.00e-06   1.00e-01   5.13e+01s\n"
     ]
    },
    {
     "name": "stdout",
     "output_type": "stream",
     "text": [
      "3400  -9.1244e+00   3.58e-03   1.66e-06   1.00e-01   5.40e+01s\n"
     ]
    },
    {
     "name": "stdout",
     "output_type": "stream",
     "text": [
      "3600  -8.3286e+00   3.04e-03   1.38e-06   1.00e-01   5.68e+01s\n"
     ]
    },
    {
     "name": "stdout",
     "output_type": "stream",
     "text": [
      "3800  -7.6760e+00   2.60e-03   1.14e-06   1.00e-01   5.95e+01s\n"
     ]
    },
    {
     "name": "stdout",
     "output_type": "stream",
     "text": [
      "4000  -7.1409e+00   2.26e-03   9.40e-07   1.00e-01   6.22e+01s\n"
     ]
    },
    {
     "name": "stdout",
     "output_type": "stream",
     "text": [
      "4200  -6.7000e+00   2.04e-03   7.81e-07   1.00e-01   6.50e+01s\n"
     ]
    },
    {
     "name": "stdout",
     "output_type": "stream",
     "text": [
      "4400  -6.3366e+00   1.85e-03   6.50e-07   1.00e-01   6.77e+01s\n"
     ]
    },
    {
     "name": "stdout",
     "output_type": "stream",
     "text": [
      "4600  -6.0382e+00   1.69e-03   5.41e-07   1.00e-01   7.04e+01s\n"
     ]
    },
    {
     "name": "stdout",
     "output_type": "stream",
     "text": [
      "4800  -5.7969e+00   1.58e-03   4.54e-07   1.00e-01   7.32e+01s\n"
     ]
    },
    {
     "name": "stdout",
     "output_type": "stream",
     "text": [
      "5000  -5.5953e+00   1.46e-03   3.83e-07   1.00e-01   7.60e+01s\n"
     ]
    },
    {
     "name": "stdout",
     "output_type": "stream",
     "text": [
      "5200  -5.4277e+00   1.37e-03   3.24e-07   1.00e-01   7.89e+01s\n"
     ]
    },
    {
     "name": "stdout",
     "output_type": "stream",
     "text": [
      "5400  -5.2885e+00   1.28e-03   2.73e-07   1.00e-01   8.23e+01s\n"
     ]
    },
    {
     "name": "stdout",
     "output_type": "stream",
     "text": [
      "5600  -5.1729e+00   1.20e-03   2.30e-07   1.00e-01   8.60e+01s\n"
     ]
    },
    {
     "name": "stdout",
     "output_type": "stream",
     "text": [
      "5800  -5.0768e+00   1.13e-03   1.94e-07   1.00e-01   8.96e+01s\n"
     ]
    },
    {
     "name": "stdout",
     "output_type": "stream",
     "text": [
      "6000  -4.9968e+00   1.08e-03   1.63e-07   1.00e-01   9.31e+01s\n"
     ]
    },
    {
     "name": "stdout",
     "output_type": "stream",
     "text": [
      "6200  -4.9301e+00   1.02e-03   1.37e-07   1.00e-01   9.62e+01s\n"
     ]
    },
    {
     "name": "stdout",
     "output_type": "stream",
     "text": [
      "6400  -4.8746e+00   9.80e-04   1.18e-07   1.00e-01   9.91e+01s\n"
     ]
    },
    {
     "name": "stdout",
     "output_type": "stream",
     "text": [
      "6600  -4.8281e+00   9.40e-04   1.09e-07   1.00e-01   1.02e+02s\n"
     ]
    },
    {
     "name": "stdout",
     "output_type": "stream",
     "text": [
      "6800  -4.7893e+00   9.04e-04   1.01e-07   1.00e-01   1.05e+02s\n"
     ]
    },
    {
     "name": "stdout",
     "output_type": "stream",
     "text": [
      "7000  -4.7568e+00   8.72e-04   9.40e-08   1.00e-01   1.08e+02s\n"
     ]
    },
    {
     "name": "stdout",
     "output_type": "stream",
     "text": [
      "7200  -4.7295e+00   8.44e-04   8.75e-08   1.00e-01   1.11e+02s\n"
     ]
    },
    {
     "name": "stdout",
     "output_type": "stream",
     "text": [
      "7400  -4.7372e+00   8.63e-04   2.54e-07   1.00e-01   1.15e+02s\n"
     ]
    },
    {
     "name": "stdout",
     "output_type": "stream",
     "text": [
      "7600  -4.7339e+00   8.57e-04   1.41e-07   1.00e-01   1.18e+02s\n"
     ]
    },
    {
     "name": "stdout",
     "output_type": "stream",
     "text": [
      "7800  -4.7278e+00   8.25e-04   8.93e-08   1.00e-01   1.21e+02s\n"
     ]
    },
    {
     "name": "stdout",
     "output_type": "stream",
     "text": [
      "8000  -4.7195e+00   7.99e-04   5.47e-08   1.00e-01   1.24e+02s\n"
     ]
    },
    {
     "name": "stdout",
     "output_type": "stream",
     "text": [
      "8200  -4.7100e+00   7.75e-04   4.25e-08   1.00e-01   1.27e+02s\n"
     ]
    },
    {
     "name": "stdout",
     "output_type": "stream",
     "text": [
      "8400  -4.7002e+00   7.59e-04   3.67e-08   1.00e-01   1.30e+02s\n"
     ]
    },
    {
     "name": "stdout",
     "output_type": "stream",
     "text": [
      "8600  -4.6909e+00   7.51e-04   3.23e-08   1.00e-01   1.34e+02s\n"
     ]
    },
    {
     "name": "stdout",
     "output_type": "stream",
     "text": [
      "8800  -4.6824e+00   7.42e-04   3.05e-08   1.00e-01   1.38e+02s\n"
     ]
    },
    {
     "name": "stdout",
     "output_type": "stream",
     "text": [
      "9000  -4.6749e+00   7.35e-04   2.86e-08   1.00e-01   1.42e+02s\n"
     ]
    },
    {
     "name": "stdout",
     "output_type": "stream",
     "text": [
      "9200  -4.6684e+00   7.27e-04   2.66e-08   1.00e-01   1.46e+02s\n"
     ]
    },
    {
     "name": "stdout",
     "output_type": "stream",
     "text": [
      "9400  -4.6627e+00   7.21e-04   2.47e-08   1.00e-01   1.49e+02s\n"
     ]
    },
    {
     "name": "stdout",
     "output_type": "stream",
     "text": [
      "9600  -4.6577e+00   7.17e-04   2.29e-08   1.00e-01   1.52e+02s\n"
     ]
    },
    {
     "name": "stdout",
     "output_type": "stream",
     "text": [
      "9800  -4.6534e+00   7.13e-04   2.15e-08   1.00e-01   1.55e+02s\n"
     ]
    },
    {
     "name": "stdout",
     "output_type": "stream",
     "text": [
      "10000  -4.6496e+00   7.10e-04   2.03e-08   1.00e-01   1.58e+02s\n"
     ]
    },
    {
     "name": "stdout",
     "output_type": "stream",
     "text": [
      "10200  -4.6463e+00   7.06e-04   1.91e-08   1.00e-01   1.61e+02s\n"
     ]
    },
    {
     "name": "stdout",
     "output_type": "stream",
     "text": [
      "10400  -4.6434e+00   7.03e-04   1.81e-08   1.00e-01   1.65e+02s\n"
     ]
    },
    {
     "name": "stdout",
     "output_type": "stream",
     "text": [
      "10600  -4.6335e+00   6.88e-04   3.27e-07   5.04e-01   1.75e+02s\n"
     ]
    },
    {
     "name": "stdout",
     "output_type": "stream",
     "text": [
      "10800  -4.6280e+00   6.75e-04   2.51e-07   5.04e-01   1.77e+02s\n"
     ]
    },
    {
     "name": "stdout",
     "output_type": "stream",
     "text": [
      "11000  -4.6248e+00   6.64e-04   1.95e-07   5.04e-01   1.81e+02s\n"
     ]
    },
    {
     "name": "stdout",
     "output_type": "stream",
     "text": [
      "11200  -4.6228e+00   6.55e-04   1.54e-07   5.04e-01   1.84e+02s\n"
     ]
    },
    {
     "name": "stdout",
     "output_type": "stream",
     "text": [
      "11400  -4.6218e+00   6.45e-04   8.79e-08   5.04e-01   1.86e+02s\n"
     ]
    },
    {
     "name": "stdout",
     "output_type": "stream",
     "text": [
      "11600  -4.6207e+00   6.44e-04   9.50e-08   5.04e-01   1.89e+02s\n"
     ]
    },
    {
     "name": "stdout",
     "output_type": "stream",
     "text": [
      "11800  -4.6198e+00   6.43e-04   9.48e-08   5.04e-01   1.92e+02s\n"
     ]
    },
    {
     "name": "stdout",
     "output_type": "stream",
     "text": [
      "12000  -4.6190e+00   6.42e-04   9.17e-08   5.04e-01   1.95e+02s\n"
     ]
    },
    {
     "name": "stdout",
     "output_type": "stream",
     "text": [
      "12200  -4.6182e+00   6.41e-04   8.76e-08   5.04e-01   1.98e+02s\n"
     ]
    },
    {
     "name": "stdout",
     "output_type": "stream",
     "text": [
      "12400  -4.6175e+00   6.39e-04   8.33e-08   5.04e-01   2.01e+02s\n"
     ]
    },
    {
     "name": "stdout",
     "output_type": "stream",
     "text": [
      "12600  -4.6175e+00   6.20e-04   3.63e-07   5.04e-01   2.04e+02s\n"
     ]
    },
    {
     "name": "stdout",
     "output_type": "stream",
     "text": [
      "12800  -4.6158e+00   6.17e-04   2.08e-07   5.04e-01   2.07e+02s\n"
     ]
    },
    {
     "name": "stdout",
     "output_type": "stream",
     "text": [
      "13000  -4.6153e+00   6.13e-04   1.47e-07   5.04e-01   2.10e+02s\n"
     ]
    },
    {
     "name": "stdout",
     "output_type": "stream",
     "text": [
      "13200  -4.6148e+00   6.10e-04   1.09e-07   5.04e-01   2.13e+02s\n"
     ]
    },
    {
     "name": "stdout",
     "output_type": "stream",
     "text": [
      "13400  -4.6454e+00   5.54e-04   2.45e-06   5.04e-01   2.16e+02s\n"
     ]
    },
    {
     "name": "stdout",
     "output_type": "stream",
     "text": [
      "13600  -4.6464e+00   5.27e-04   7.63e-07   5.04e-01   2.19e+02s\n"
     ]
    },
    {
     "name": "stdout",
     "output_type": "stream",
     "text": [
      "13800  -4.6382e+00   5.07e-04   5.38e-07   5.04e-01   2.22e+02s\n"
     ]
    },
    {
     "name": "stdout",
     "output_type": "stream",
     "text": [
      "14000  -4.6332e+00   4.89e-04   4.15e-07   5.04e-01   2.25e+02s\n"
     ]
    },
    {
     "name": "stdout",
     "output_type": "stream",
     "text": [
      "14200  -4.6304e+00   4.65e-04   3.03e-07   5.04e-01   2.28e+02s\n"
     ]
    },
    {
     "name": "stdout",
     "output_type": "stream",
     "text": [
      "14400  -4.6286e+00   4.52e-04   2.31e-07   5.04e-01   2.32e+02s\n"
     ]
    },
    {
     "name": "stdout",
     "output_type": "stream",
     "text": [
      "14600  -4.6274e+00   4.41e-04   1.90e-07   5.04e-01   2.36e+02s\n"
     ]
    },
    {
     "name": "stdout",
     "output_type": "stream",
     "text": [
      "14800  -4.6263e+00   4.36e-04   1.57e-07   5.04e-01   2.39e+02s\n"
     ]
    },
    {
     "name": "stdout",
     "output_type": "stream",
     "text": [
      "15000  -4.6254e+00   4.31e-04   1.31e-07   5.04e-01   2.42e+02s\n"
     ]
    },
    {
     "name": "stdout",
     "output_type": "stream",
     "text": [
      "15200  -4.6247e+00   4.27e-04   1.10e-07   5.04e-01   2.45e+02s\n"
     ]
    },
    {
     "name": "stdout",
     "output_type": "stream",
     "text": [
      "15400  -4.6240e+00   4.24e-04   9.37e-08   5.04e-01   2.48e+02s\n"
     ]
    },
    {
     "name": "stdout",
     "output_type": "stream",
     "text": [
      "15600  -4.6234e+00   4.22e-04   8.00e-08   5.04e-01   2.51e+02s\n"
     ]
    },
    {
     "name": "stdout",
     "output_type": "stream",
     "text": [
      "15800  -4.6229e+00   4.21e-04   6.87e-08   5.04e-01   2.53e+02s\n"
     ]
    },
    {
     "name": "stdout",
     "output_type": "stream",
     "text": [
      "16000  -4.6224e+00   4.21e-04   5.93e-08   5.04e-01   2.57e+02s\n"
     ]
    },
    {
     "name": "stdout",
     "output_type": "stream",
     "text": [
      "16200  -4.6220e+00   4.21e-04   5.14e-08   5.04e-01   2.60e+02s\n"
     ]
    },
    {
     "name": "stdout",
     "output_type": "stream",
     "text": [
      "16400  -4.6217e+00   4.21e-04   4.48e-08   5.04e-01   2.63e+02s\n"
     ]
    },
    {
     "name": "stdout",
     "output_type": "stream",
     "text": [
      "16600  -4.6213e+00   4.20e-04   3.92e-08   5.04e-01   2.66e+02s\n"
     ]
    },
    {
     "name": "stdout",
     "output_type": "stream",
     "text": [
      "16800  -4.6210e+00   4.20e-04   3.44e-08   5.04e-01   2.70e+02s\n"
     ]
    },
    {
     "name": "stdout",
     "output_type": "stream",
     "text": [
      "17000  -4.6208e+00   4.20e-04   2.84e-08   5.04e-01   2.73e+02s\n"
     ]
    },
    {
     "name": "stdout",
     "output_type": "stream",
     "text": [
      "17200  -4.6207e+00   4.19e-04   2.37e-08   5.04e-01   2.77e+02s\n"
     ]
    },
    {
     "name": "stdout",
     "output_type": "stream",
     "text": [
      "17400  -4.6205e+00   4.18e-04   2.00e-08   5.04e-01   2.81e+02s\n"
     ]
    },
    {
     "name": "stdout",
     "output_type": "stream",
     "text": [
      "17600  -4.6203e+00   4.18e-04   1.82e-08   5.04e-01   2.84e+02s\n"
     ]
    },
    {
     "name": "stdout",
     "output_type": "stream",
     "text": [
      "17800  -4.6202e+00   4.17e-04   1.72e-08   5.04e-01   2.87e+02s\n"
     ]
    },
    {
     "name": "stdout",
     "output_type": "stream",
     "text": [
      "18000  -4.6200e+00   4.16e-04   1.64e-08   5.04e-01   2.90e+02s\n"
     ]
    },
    {
     "name": "stdout",
     "output_type": "stream",
     "text": [
      "18200  -4.6256e+00   4.14e-04   9.55e-07   5.04e-01   2.93e+02s\n"
     ]
    },
    {
     "name": "stdout",
     "output_type": "stream",
     "text": [
      "18400  -4.6227e+00   4.15e-04   3.35e-07   5.04e-01   2.97e+02s\n"
     ]
    },
    {
     "name": "stdout",
     "output_type": "stream",
     "text": [
      "18600  -4.6224e+00   4.16e-04   1.95e-07   5.04e-01   3.00e+02s\n"
     ]
    },
    {
     "name": "stdout",
     "output_type": "stream",
     "text": [
      "18800  -4.6226e+00   4.16e-04   1.27e-07   5.04e-01   3.03e+02s\n"
     ]
    },
    {
     "name": "stdout",
     "output_type": "stream",
     "text": [
      "19000  -4.6229e+00   4.15e-04   8.84e-08   5.04e-01   3.06e+02s\n"
     ]
    },
    {
     "name": "stdout",
     "output_type": "stream",
     "text": [
      "19200  -4.6231e+00   4.15e-04   6.51e-08   5.04e-01   3.09e+02s\n"
     ]
    },
    {
     "name": "stdout",
     "output_type": "stream",
     "text": [
      "19400  -4.6233e+00   4.14e-04   5.14e-08   5.04e-01   3.13e+02s\n"
     ]
    },
    {
     "name": "stdout",
     "output_type": "stream",
     "text": [
      "19600  -4.6235e+00   4.14e-04   4.14e-08   5.04e-01   3.16e+02s\n"
     ]
    },
    {
     "name": "stdout",
     "output_type": "stream",
     "text": [
      "19800  -4.6236e+00   4.14e-04   3.39e-08   5.04e-01   3.20e+02s\n"
     ]
    },
    {
     "name": "stdout",
     "output_type": "stream",
     "text": [
      "20000  -4.6236e+00   4.13e-04   2.83e-08   5.04e-01   3.23e+02s\n"
     ]
    },
    {
     "name": "stdout",
     "output_type": "stream",
     "text": [
      "20200  -4.6237e+00   4.13e-04   2.40e-08   5.04e-01   3.26e+02s\n"
     ]
    },
    {
     "name": "stdout",
     "output_type": "stream",
     "text": [
      "20400  -4.6279e+00   4.19e-04   1.10e-06   5.04e-01   3.30e+02s\n"
     ]
    },
    {
     "name": "stdout",
     "output_type": "stream",
     "text": [
      "20600  -4.6328e+00   4.14e-04   4.43e-07   5.04e-01   3.34e+02s\n"
     ]
    },
    {
     "name": "stdout",
     "output_type": "stream",
     "text": [
      "20800  -4.6348e+00   4.09e-04   3.19e-07   5.04e-01   3.38e+02s\n"
     ]
    },
    {
     "name": "stdout",
     "output_type": "stream",
     "text": [
      "21000  -4.6360e+00   4.06e-04   2.50e-07   5.04e-01   3.41e+02s\n"
     ]
    },
    {
     "name": "stdout",
     "output_type": "stream",
     "text": [
      "21200  -4.6368e+00   4.03e-04   2.00e-07   5.04e-01   3.44e+02s\n"
     ]
    },
    {
     "name": "stdout",
     "output_type": "stream",
     "text": [
      "21400  -4.6375e+00   4.00e-04   1.62e-07   5.04e-01   3.48e+02s\n"
     ]
    },
    {
     "name": "stdout",
     "output_type": "stream",
     "text": [
      "21600  -4.6380e+00   3.99e-04   1.40e-07   5.04e-01   3.51e+02s\n"
     ]
    },
    {
     "name": "stdout",
     "output_type": "stream",
     "text": [
      "21800  -4.6386e+00   3.98e-04   1.18e-07   5.04e-01   3.55e+02s\n"
     ]
    },
    {
     "name": "stdout",
     "output_type": "stream",
     "text": [
      "22000  -4.6392e+00   3.98e-04   1.00e-07   5.04e-01   3.59e+02s\n"
     ]
    },
    {
     "name": "stdout",
     "output_type": "stream",
     "text": [
      "22200  -4.6396e+00   3.97e-04   9.12e-08   5.04e-01   3.63e+02s\n"
     ]
    },
    {
     "name": "stdout",
     "output_type": "stream",
     "text": [
      "22400  -4.6402e+00   3.88e-04   1.72e-06   5.04e-01   3.66e+02s\n"
     ]
    },
    {
     "name": "stdout",
     "output_type": "stream",
     "text": [
      "22600  -4.6481e+00   3.69e-04   6.62e-07   5.04e-01   3.69e+02s\n"
     ]
    },
    {
     "name": "stdout",
     "output_type": "stream",
     "text": [
      "22800  -4.6513e+00   3.68e-04   3.75e-07   5.04e-01   3.72e+02s\n"
     ]
    },
    {
     "name": "stdout",
     "output_type": "stream",
     "text": [
      "23000  -4.6578e+00   3.65e-04   1.26e-06   5.04e-01   3.76e+02s\n"
     ]
    },
    {
     "name": "stdout",
     "output_type": "stream",
     "text": [
      "23200  -4.6606e+00   3.71e-04   3.81e-07   5.04e-01   3.80e+02s\n"
     ]
    },
    {
     "name": "stdout",
     "output_type": "stream",
     "text": [
      "23400  -4.6574e+00   3.69e-04   1.74e-07   5.04e-01   3.83e+02s\n"
     ]
    },
    {
     "name": "stdout",
     "output_type": "stream",
     "text": [
      "23600  -4.6563e+00   3.55e-04   3.46e-07   5.04e-01   3.86e+02s\n"
     ]
    },
    {
     "name": "stdout",
     "output_type": "stream",
     "text": [
      "23800  -4.6543e+00   3.48e-04   1.62e-07   5.04e-01   3.89e+02s\n"
     ]
    },
    {
     "name": "stdout",
     "output_type": "stream",
     "text": [
      "24000  -4.6534e+00   3.46e-04   9.43e-08   5.04e-01   3.92e+02s\n"
     ]
    },
    {
     "name": "stdout",
     "output_type": "stream",
     "text": [
      "24200  -4.6530e+00   3.45e-04   7.96e-08   5.04e-01   3.96e+02s\n"
     ]
    },
    {
     "name": "stdout",
     "output_type": "stream",
     "text": [
      "24400  -4.6575e+00   3.44e-04   6.80e-07   5.04e-01   4.00e+02s\n"
     ]
    },
    {
     "name": "stdout",
     "output_type": "stream",
     "text": [
      "24600  -4.6604e+00   3.40e-04   4.12e-07   5.04e-01   4.03e+02s\n"
     ]
    },
    {
     "name": "stdout",
     "output_type": "stream",
     "text": [
      "24800  -4.6596e+00   3.36e-04   2.92e-07   5.04e-01   4.07e+02s\n"
     ]
    },
    {
     "name": "stdout",
     "output_type": "stream",
     "text": [
      "25000  -4.6582e+00   3.30e-04   2.22e-07   5.04e-01   4.10e+02s\n"
     ]
    },
    {
     "name": "stdout",
     "output_type": "stream",
     "text": [
      "25200  -4.6570e+00   3.26e-04   1.74e-07   5.04e-01   4.13e+02s\n"
     ]
    },
    {
     "name": "stdout",
     "output_type": "stream",
     "text": [
      "25400  -4.6560e+00   3.21e-04   1.40e-07   5.04e-01   4.16e+02s\n"
     ]
    },
    {
     "name": "stdout",
     "output_type": "stream",
     "text": [
      "25600  -4.6552e+00   3.18e-04   1.21e-07   5.04e-01   4.19e+02s\n"
     ]
    },
    {
     "name": "stdout",
     "output_type": "stream",
     "text": [
      "25800  -4.6545e+00   3.15e-04   1.09e-07   5.04e-01   4.23e+02s\n"
     ]
    },
    {
     "name": "stdout",
     "output_type": "stream",
     "text": [
      "26000  -4.6540e+00   3.12e-04   9.83e-08   5.04e-01   4.26e+02s\n"
     ]
    },
    {
     "name": "stdout",
     "output_type": "stream",
     "text": [
      "26200  -4.6536e+00   3.10e-04   8.83e-08   5.04e-01   4.30e+02s\n"
     ]
    },
    {
     "name": "stdout",
     "output_type": "stream",
     "text": [
      "26400  -4.6644e+00   2.98e-04   8.13e-07   5.04e-01   4.33e+02s\n"
     ]
    },
    {
     "name": "stdout",
     "output_type": "stream",
     "text": [
      "26600  -4.6618e+00   2.91e-04   3.47e-07   5.04e-01   4.36e+02s\n"
     ]
    },
    {
     "name": "stdout",
     "output_type": "stream",
     "text": [
      "26800  -4.6579e+00   2.86e-04   2.42e-07   5.04e-01   4.39e+02s\n"
     ]
    },
    {
     "name": "stdout",
     "output_type": "stream",
     "text": [
      "27000  -4.6555e+00   2.84e-04   2.09e-07   5.04e-01   4.42e+02s\n"
     ]
    },
    {
     "name": "stdout",
     "output_type": "stream",
     "text": [
      "27200  -4.6539e+00   2.85e-04   1.89e-07   5.04e-01   4.45e+02s\n"
     ]
    },
    {
     "name": "stdout",
     "output_type": "stream",
     "text": [
      "27400  -4.6529e+00   2.85e-04   1.70e-07   5.04e-01   4.48e+02s\n"
     ]
    },
    {
     "name": "stdout",
     "output_type": "stream",
     "text": [
      "27600  -4.6522e+00   2.85e-04   1.53e-07   5.04e-01   4.51e+02s\n"
     ]
    },
    {
     "name": "stdout",
     "output_type": "stream",
     "text": [
      "27800  -4.6517e+00   2.84e-04   1.38e-07   5.04e-01   4.54e+02s\n"
     ]
    },
    {
     "name": "stdout",
     "output_type": "stream",
     "text": [
      "28000  -4.6513e+00   2.84e-04   1.24e-07   5.04e-01   4.57e+02s\n"
     ]
    },
    {
     "name": "stdout",
     "output_type": "stream",
     "text": [
      "28200  -4.6510e+00   2.84e-04   1.12e-07   5.04e-01   4.60e+02s\n"
     ]
    },
    {
     "name": "stdout",
     "output_type": "stream",
     "text": [
      "28400  -4.6507e+00   2.83e-04   1.01e-07   5.04e-01   4.63e+02s\n"
     ]
    },
    {
     "name": "stdout",
     "output_type": "stream",
     "text": [
      "28600  -4.6504e+00   2.82e-04   9.15e-08   5.04e-01   4.65e+02s\n"
     ]
    },
    {
     "name": "stdout",
     "output_type": "stream",
     "text": [
      "28800  -4.6502e+00   2.82e-04   8.31e-08   5.04e-01   4.68e+02s\n"
     ]
    },
    {
     "name": "stdout",
     "output_type": "stream",
     "text": [
      "29000  -4.6499e+00   2.81e-04   7.57e-08   5.04e-01   4.71e+02s\n"
     ]
    },
    {
     "name": "stdout",
     "output_type": "stream",
     "text": [
      "29200  -4.6497e+00   2.80e-04   6.92e-08   5.04e-01   4.74e+02s\n"
     ]
    },
    {
     "name": "stdout",
     "output_type": "stream",
     "text": [
      "29400  -4.6495e+00   2.80e-04   6.34e-08   5.04e-01   4.76e+02s\n"
     ]
    },
    {
     "name": "stdout",
     "output_type": "stream",
     "text": [
      "29600  -4.6493e+00   2.79e-04   5.82e-08   5.04e-01   4.79e+02s\n"
     ]
    },
    {
     "name": "stdout",
     "output_type": "stream",
     "text": [
      "29800  -4.6491e+00   2.79e-04   5.35e-08   5.04e-01   4.82e+02s\n"
     ]
    },
    {
     "name": "stdout",
     "output_type": "stream",
     "text": [
      "30000  -4.6489e+00   2.78e-04   4.94e-08   5.04e-01   4.85e+02s\n"
     ]
    },
    {
     "name": "stdout",
     "output_type": "stream",
     "text": [
      "30200  -4.6487e+00   2.77e-04   4.57e-08   5.04e-01   4.87e+02s\n"
     ]
    },
    {
     "name": "stdout",
     "output_type": "stream",
     "text": [
      "30400  -4.6485e+00   2.77e-04   4.23e-08   5.04e-01   4.90e+02s\n"
     ]
    },
    {
     "name": "stdout",
     "output_type": "stream",
     "text": [
      "30600  -4.6483e+00   2.76e-04   3.93e-08   5.04e-01   4.93e+02s\n"
     ]
    },
    {
     "name": "stdout",
     "output_type": "stream",
     "text": [
      "30800  -4.6487e+00   2.74e-04   5.85e-07   5.04e-01   4.96e+02s\n"
     ]
    },
    {
     "name": "stdout",
     "output_type": "stream",
     "text": [
      "31000  -4.6476e+00   2.68e-04   3.31e-07   5.04e-01   4.99e+02s\n"
     ]
    },
    {
     "name": "stdout",
     "output_type": "stream",
     "text": [
      "31200  -4.6467e+00   2.63e-04   2.20e-07   5.04e-01   5.02e+02s\n"
     ]
    },
    {
     "name": "stdout",
     "output_type": "stream",
     "text": [
      "31400  -4.6460e+00   2.60e-04   1.63e-07   5.04e-01   5.05e+02s\n"
     ]
    },
    {
     "name": "stdout",
     "output_type": "stream",
     "text": [
      "31600  -4.6454e+00   2.57e-04   1.29e-07   5.04e-01   5.08e+02s\n"
     ]
    },
    {
     "name": "stdout",
     "output_type": "stream",
     "text": [
      "31800  -4.6449e+00   2.57e-04   1.09e-07   5.04e-01   5.12e+02s\n"
     ]
    },
    {
     "name": "stdout",
     "output_type": "stream",
     "text": [
      "32000  -4.6444e+00   2.56e-04   1.03e-07   5.04e-01   5.14e+02s\n"
     ]
    },
    {
     "name": "stdout",
     "output_type": "stream",
     "text": [
      "32200  -4.6441e+00   2.56e-04   9.75e-08   5.04e-01   5.17e+02s\n"
     ]
    },
    {
     "name": "stdout",
     "output_type": "stream",
     "text": [
      "32400  -4.6437e+00   2.55e-04   9.23e-08   5.04e-01   5.20e+02s\n"
     ]
    },
    {
     "name": "stdout",
     "output_type": "stream",
     "text": [
      "32600  -4.6434e+00   2.55e-04   8.76e-08   5.04e-01   5.23e+02s\n"
     ]
    },
    {
     "name": "stdout",
     "output_type": "stream",
     "text": [
      "32800  -4.6431e+00   2.54e-04   8.33e-08   5.04e-01   5.25e+02s\n"
     ]
    },
    {
     "name": "stdout",
     "output_type": "stream",
     "text": [
      "33000  -4.6428e+00   2.53e-04   7.93e-08   5.04e-01   5.28e+02s\n"
     ]
    },
    {
     "name": "stdout",
     "output_type": "stream",
     "text": [
      "33200  -4.6443e+00   2.53e-04   2.76e-07   5.04e-01   5.31e+02s\n"
     ]
    },
    {
     "name": "stdout",
     "output_type": "stream",
     "text": [
      "33400  -4.6446e+00   2.52e-04   1.90e-07   5.04e-01   5.34e+02s\n"
     ]
    },
    {
     "name": "stdout",
     "output_type": "stream",
     "text": [
      "33600  -4.6446e+00   2.50e-04   1.48e-07   5.04e-01   5.36e+02s\n"
     ]
    },
    {
     "name": "stdout",
     "output_type": "stream",
     "text": [
      "33800  -4.6444e+00   2.48e-04   1.22e-07   5.04e-01   5.39e+02s\n"
     ]
    },
    {
     "name": "stdout",
     "output_type": "stream",
     "text": [
      "34000  -4.6442e+00   2.46e-04   1.11e-07   5.04e-01   5.42e+02s\n"
     ]
    },
    {
     "name": "stdout",
     "output_type": "stream",
     "text": [
      "34200  -4.6439e+00   2.45e-04   1.05e-07   5.04e-01   5.45e+02s\n"
     ]
    },
    {
     "name": "stdout",
     "output_type": "stream",
     "text": [
      "34400  -4.6437e+00   2.43e-04   9.84e-08   5.04e-01   5.48e+02s\n"
     ]
    },
    {
     "name": "stdout",
     "output_type": "stream",
     "text": [
      "34600  -4.6434e+00   2.42e-04   9.15e-08   5.04e-01   5.50e+02s\n"
     ]
    },
    {
     "name": "stdout",
     "output_type": "stream",
     "text": [
      "34800  -4.6435e+00   2.41e-04   4.91e-08   5.04e-01   5.53e+02s\n"
     ]
    },
    {
     "name": "stdout",
     "output_type": "stream",
     "text": [
      "35000  -4.6439e+00   2.40e-04   3.71e-08   5.04e-01   5.56e+02s\n"
     ]
    },
    {
     "name": "stdout",
     "output_type": "stream",
     "text": [
      "35200  -4.6440e+00   2.40e-04   3.12e-08   5.04e-01   5.59e+02s\n"
     ]
    },
    {
     "name": "stdout",
     "output_type": "stream",
     "text": [
      "35400  -4.6439e+00   2.39e-04   2.61e-08   5.04e-01   5.62e+02s\n"
     ]
    },
    {
     "name": "stdout",
     "output_type": "stream",
     "text": [
      "35600  -4.6439e+00   2.39e-04   2.20e-08   5.04e-01   5.64e+02s\n"
     ]
    },
    {
     "name": "stdout",
     "output_type": "stream",
     "text": [
      "35800  -4.6439e+00   2.37e-04   2.52e-08   5.04e-01   5.67e+02s\n"
     ]
    },
    {
     "name": "stdout",
     "output_type": "stream",
     "text": [
      "36000  -4.6438e+00   2.37e-04   2.04e-08   5.04e-01   5.70e+02s\n"
     ]
    },
    {
     "name": "stdout",
     "output_type": "stream",
     "text": [
      "36200  -4.6437e+00   2.36e-04   1.75e-08   5.04e-01   5.73e+02s\n"
     ]
    },
    {
     "name": "stdout",
     "output_type": "stream",
     "text": [
      "36400  -4.6436e+00   2.35e-04   1.55e-08   5.04e-01   5.75e+02s\n"
     ]
    },
    {
     "name": "stdout",
     "output_type": "stream",
     "text": [
      "36600  -4.6436e+00   2.34e-04   1.40e-08   5.04e-01   5.78e+02s\n"
     ]
    },
    {
     "name": "stdout",
     "output_type": "stream",
     "text": [
      "36800  -4.6435e+00   2.34e-04   1.28e-08   5.04e-01   5.81e+02s\n"
     ]
    },
    {
     "name": "stdout",
     "output_type": "stream",
     "text": [
      "37000  -4.6435e+00   2.33e-04   1.18e-08   5.04e-01   5.84e+02s\n"
     ]
    },
    {
     "name": "stdout",
     "output_type": "stream",
     "text": [
      "37200  -4.6434e+00   2.33e-04   1.10e-08   5.04e-01   5.86e+02s\n"
     ]
    },
    {
     "name": "stdout",
     "output_type": "stream",
     "text": [
      "37400  -4.6468e+00   2.34e-04   4.78e-07   5.04e-01   5.89e+02s\n"
     ]
    },
    {
     "name": "stdout",
     "output_type": "stream",
     "text": [
      "37600  -4.6470e+00   2.33e-04   2.82e-07   5.04e-01   5.92e+02s\n"
     ]
    },
    {
     "name": "stdout",
     "output_type": "stream",
     "text": [
      "Solver interrupted\n"
     ]
    },
    {
     "ename": "ValueError",
     "evalue": "OSQP solve error!",
     "output_type": "error",
     "traceback": [
      "\u001b[0;31m---------------------------------------------------------------------------\u001b[0m",
      "\u001b[0;31mValueError\u001b[0m                                Traceback (most recent call last)",
      "Cell \u001b[0;32mIn[14], line 11\u001b[0m\n\u001b[1;32m      5\u001b[0m prob \u001b[38;5;241m=\u001b[39m cp\u001b[38;5;241m.\u001b[39mProblem(\n\u001b[1;32m      6\u001b[0m     cp\u001b[38;5;241m.\u001b[39mMaximize(ret \u001b[38;5;241m-\u001b[39m gamma \u001b[38;5;241m*\u001b[39m risk), [cp\u001b[38;5;241m.\u001b[39msum(w) \u001b[38;5;241m==\u001b[39m \u001b[38;5;241m1\u001b[39m, cp\u001b[38;5;241m.\u001b[39mnorm(w, \u001b[38;5;241m1\u001b[39m) \u001b[38;5;241m<\u001b[39m\u001b[38;5;241m=\u001b[39m Lmax]\n\u001b[1;32m      7\u001b[0m )\n\u001b[1;32m      9\u001b[0m \u001b[38;5;66;03m# Uncomment to solve the problem.\u001b[39;00m\n\u001b[1;32m     10\u001b[0m \u001b[38;5;66;03m# WARNING: this will take many minutes to run.\u001b[39;00m\n\u001b[0;32m---> 11\u001b[0m \u001b[43mprob\u001b[49m\u001b[38;5;241;43m.\u001b[39;49m\u001b[43msolve\u001b[49m\u001b[43m(\u001b[49m\u001b[43mverbose\u001b[49m\u001b[38;5;241;43m=\u001b[39;49m\u001b[38;5;28;43;01mTrue\u001b[39;49;00m\u001b[43m,\u001b[49m\u001b[43m \u001b[49m\u001b[43mmax_iter\u001b[49m\u001b[38;5;241;43m=\u001b[39;49m\u001b[38;5;241;43m100_000\u001b[39;49m\u001b[43m)\u001b[49m\n",
      "File \u001b[0;32m~/miniconda3/lib/python3.10/site-packages/cvxpy/problems/problem.py:493\u001b[0m, in \u001b[0;36mProblem.solve\u001b[0;34m(self, *args, **kwargs)\u001b[0m\n\u001b[1;32m    491\u001b[0m \u001b[38;5;28;01melse\u001b[39;00m:\n\u001b[1;32m    492\u001b[0m     solve_func \u001b[38;5;241m=\u001b[39m Problem\u001b[38;5;241m.\u001b[39m_solve\n\u001b[0;32m--> 493\u001b[0m \u001b[38;5;28;01mreturn\u001b[39;00m \u001b[43msolve_func\u001b[49m\u001b[43m(\u001b[49m\u001b[38;5;28;43mself\u001b[39;49m\u001b[43m,\u001b[49m\u001b[43m \u001b[49m\u001b[38;5;241;43m*\u001b[39;49m\u001b[43margs\u001b[49m\u001b[43m,\u001b[49m\u001b[43m \u001b[49m\u001b[38;5;241;43m*\u001b[39;49m\u001b[38;5;241;43m*\u001b[39;49m\u001b[43mkwargs\u001b[49m\u001b[43m)\u001b[49m\n",
      "File \u001b[0;32m~/miniconda3/lib/python3.10/site-packages/cvxpy/problems/problem.py:1064\u001b[0m, in \u001b[0;36mProblem._solve\u001b[0;34m(self, solver, warm_start, verbose, gp, qcp, requires_grad, enforce_dpp, ignore_dpp, canon_backend, **kwargs)\u001b[0m\n\u001b[1;32m   1060\u001b[0m     s\u001b[38;5;241m.\u001b[39mLOGGER\u001b[38;5;241m.\u001b[39minfo(\n\u001b[1;32m   1061\u001b[0m             \u001b[38;5;124m'\u001b[39m\u001b[38;5;124mInvoking solver \u001b[39m\u001b[38;5;132;01m%s\u001b[39;00m\u001b[38;5;124m  to obtain a solution.\u001b[39m\u001b[38;5;124m'\u001b[39m,\n\u001b[1;32m   1062\u001b[0m             solving_chain\u001b[38;5;241m.\u001b[39mreductions[\u001b[38;5;241m-\u001b[39m\u001b[38;5;241m1\u001b[39m]\u001b[38;5;241m.\u001b[39mname())\n\u001b[1;32m   1063\u001b[0m start \u001b[38;5;241m=\u001b[39m time\u001b[38;5;241m.\u001b[39mtime()\n\u001b[0;32m-> 1064\u001b[0m solution \u001b[38;5;241m=\u001b[39m \u001b[43msolving_chain\u001b[49m\u001b[38;5;241;43m.\u001b[39;49m\u001b[43msolve_via_data\u001b[49m\u001b[43m(\u001b[49m\n\u001b[1;32m   1065\u001b[0m \u001b[43m    \u001b[49m\u001b[38;5;28;43mself\u001b[39;49m\u001b[43m,\u001b[49m\u001b[43m \u001b[49m\u001b[43mdata\u001b[49m\u001b[43m,\u001b[49m\u001b[43m \u001b[49m\u001b[43mwarm_start\u001b[49m\u001b[43m,\u001b[49m\u001b[43m \u001b[49m\u001b[43mverbose\u001b[49m\u001b[43m,\u001b[49m\u001b[43m \u001b[49m\u001b[43mkwargs\u001b[49m\u001b[43m)\u001b[49m\n\u001b[1;32m   1066\u001b[0m end \u001b[38;5;241m=\u001b[39m time\u001b[38;5;241m.\u001b[39mtime()\n\u001b[1;32m   1067\u001b[0m \u001b[38;5;28mself\u001b[39m\u001b[38;5;241m.\u001b[39m_solve_time \u001b[38;5;241m=\u001b[39m end \u001b[38;5;241m-\u001b[39m start\n",
      "File \u001b[0;32m~/miniconda3/lib/python3.10/site-packages/cvxpy/reductions/solvers/solving_chain.py:410\u001b[0m, in \u001b[0;36mSolvingChain.solve_via_data\u001b[0;34m(self, problem, data, warm_start, verbose, solver_opts)\u001b[0m\n\u001b[1;32m    374\u001b[0m \u001b[38;5;28;01mdef\u001b[39;00m \u001b[38;5;21msolve_via_data\u001b[39m(\u001b[38;5;28mself\u001b[39m, problem, data, warm_start: \u001b[38;5;28mbool\u001b[39m \u001b[38;5;241m=\u001b[39m \u001b[38;5;28;01mFalse\u001b[39;00m, verbose: \u001b[38;5;28mbool\u001b[39m \u001b[38;5;241m=\u001b[39m \u001b[38;5;28;01mFalse\u001b[39;00m,\n\u001b[1;32m    375\u001b[0m                    solver_opts\u001b[38;5;241m=\u001b[39m{}):\n\u001b[1;32m    376\u001b[0m \u001b[38;5;250m    \u001b[39m\u001b[38;5;124;03m\"\"\"Solves the problem using the data output by the an apply invocation.\u001b[39;00m\n\u001b[1;32m    377\u001b[0m \n\u001b[1;32m    378\u001b[0m \u001b[38;5;124;03m    The semantics are:\u001b[39;00m\n\u001b[0;32m   (...)\u001b[0m\n\u001b[1;32m    408\u001b[0m \u001b[38;5;124;03m        a Solution object.\u001b[39;00m\n\u001b[1;32m    409\u001b[0m \u001b[38;5;124;03m    \"\"\"\u001b[39;00m\n\u001b[0;32m--> 410\u001b[0m     \u001b[38;5;28;01mreturn\u001b[39;00m \u001b[38;5;28;43mself\u001b[39;49m\u001b[38;5;241;43m.\u001b[39;49m\u001b[43msolver\u001b[49m\u001b[38;5;241;43m.\u001b[39;49m\u001b[43msolve_via_data\u001b[49m\u001b[43m(\u001b[49m\u001b[43mdata\u001b[49m\u001b[43m,\u001b[49m\u001b[43m \u001b[49m\u001b[43mwarm_start\u001b[49m\u001b[43m,\u001b[49m\u001b[43m \u001b[49m\u001b[43mverbose\u001b[49m\u001b[43m,\u001b[49m\n\u001b[1;32m    411\u001b[0m \u001b[43m                                      \u001b[49m\u001b[43msolver_opts\u001b[49m\u001b[43m,\u001b[49m\u001b[43m \u001b[49m\u001b[43mproblem\u001b[49m\u001b[38;5;241;43m.\u001b[39;49m\u001b[43m_solver_cache\u001b[49m\u001b[43m)\u001b[49m\n",
      "File \u001b[0;32m~/miniconda3/lib/python3.10/site-packages/cvxpy/reductions/solvers/qp_solvers/osqp_qpif.py:106\u001b[0m, in \u001b[0;36mOSQP.solve_via_data\u001b[0;34m(self, data, warm_start, verbose, solver_opts, solver_cache)\u001b[0m\n\u001b[1;32m    103\u001b[0m     \u001b[38;5;28;01mexcept\u001b[39;00m \u001b[38;5;167;01mValueError\u001b[39;00m \u001b[38;5;28;01mas\u001b[39;00m e:\n\u001b[1;32m    104\u001b[0m         \u001b[38;5;28;01mraise\u001b[39;00m SolverError(e)\n\u001b[0;32m--> 106\u001b[0m results \u001b[38;5;241m=\u001b[39m \u001b[43msolver\u001b[49m\u001b[38;5;241;43m.\u001b[39;49m\u001b[43msolve\u001b[49m\u001b[43m(\u001b[49m\u001b[43m)\u001b[49m\n\u001b[1;32m    108\u001b[0m \u001b[38;5;28;01mif\u001b[39;00m solver_cache \u001b[38;5;129;01mis\u001b[39;00m \u001b[38;5;129;01mnot\u001b[39;00m \u001b[38;5;28;01mNone\u001b[39;00m:\n\u001b[1;32m    109\u001b[0m     solver_cache[\u001b[38;5;28mself\u001b[39m\u001b[38;5;241m.\u001b[39mname()] \u001b[38;5;241m=\u001b[39m (solver, data, results)\n",
      "File \u001b[0;32m~/miniconda3/lib/python3.10/site-packages/osqp/interface.py:235\u001b[0m, in \u001b[0;36mOSQP.solve\u001b[0;34m(self)\u001b[0m\n\u001b[1;32m    231\u001b[0m \u001b[38;5;250m\u001b[39m\u001b[38;5;124;03m\"\"\"\u001b[39;00m\n\u001b[1;32m    232\u001b[0m \u001b[38;5;124;03mSolve QP Problem\u001b[39;00m\n\u001b[1;32m    233\u001b[0m \u001b[38;5;124;03m\"\"\"\u001b[39;00m\n\u001b[1;32m    234\u001b[0m \u001b[38;5;66;03m# Solve QP\u001b[39;00m\n\u001b[0;32m--> 235\u001b[0m results \u001b[38;5;241m=\u001b[39m \u001b[38;5;28;43mself\u001b[39;49m\u001b[38;5;241;43m.\u001b[39;49m\u001b[43m_model\u001b[49m\u001b[38;5;241;43m.\u001b[39;49m\u001b[43msolve\u001b[49m\u001b[43m(\u001b[49m\u001b[43m)\u001b[49m\n\u001b[1;32m    237\u001b[0m \u001b[38;5;66;03m# TODO(bart): this will be unnecessary when the derivative will be in C\u001b[39;00m\n\u001b[1;32m    238\u001b[0m \u001b[38;5;28mself\u001b[39m\u001b[38;5;241m.\u001b[39m_derivative_cache[\u001b[38;5;124m'\u001b[39m\u001b[38;5;124mresults\u001b[39m\u001b[38;5;124m'\u001b[39m] \u001b[38;5;241m=\u001b[39m results\n",
      "\u001b[0;31mValueError\u001b[0m: OSQP solve error!"
     ]
    }
   ],
   "source": [
    "from cvxpy.atoms.affine.wraps import psd_wrap\n",
    "\n",
    "# Standard portfolio optimization with data from factor model.\n",
    "risk = cp.quad_form(w, psd_wrap(F.dot(Sigma_tilde).dot(F.T) + D))\n",
    "prob = cp.Problem(\n",
    "    cp.Maximize(ret - gamma * risk), [cp.sum(w) == 1, cp.norm(w, 1) <= Lmax]\n",
    ")\n",
    "\n",
    "# Uncomment to solve the problem.\n",
    "# WARNING: this will take many minutes to run.\n",
    "prob.solve(verbose=True, max_iter=100_000)"
   ]
  },
  {
   "cell_type": "code",
   "execution_count": null,
   "metadata": {
    "collapsed": false,
    "pycharm": {
     "is_executing": true,
     "name": "#%%\n"
    }
   },
   "outputs": [],
   "source": [
    "print(\"Factor model solve time = {}\".format(prob_factor.solver_stats.solve_time))\n",
    "print(\"Single model solve time = {}\".format(prob.solver_stats.solve_time))"
   ]
  }
 ],
 "metadata": {
  "kernelspec": {
   "display_name": "Python 3",
   "language": "python",
   "name": "python3"
  },
  "language_info": {
   "codemirror_mode": {
    "name": "ipython",
    "version": 3
   },
   "file_extension": ".py",
   "mimetype": "text/x-python",
   "name": "python",
   "nbconvert_exporter": "python",
   "pygments_lexer": "ipython3",
   "version": "3.10.10"
  }
 },
 "nbformat": 4,
 "nbformat_minor": 1
}
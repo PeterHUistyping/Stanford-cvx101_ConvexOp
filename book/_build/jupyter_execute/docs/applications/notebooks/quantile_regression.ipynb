{
 "cells": [
  {
   "cell_type": "markdown",
   "metadata": {
    "pycharm": {
     "name": "#%% md\n"
    }
   },
   "source": [
    "# Quantile regression"
   ]
  },
  {
   "cell_type": "markdown",
   "metadata": {
    "pycharm": {
     "name": "#%% md\n"
    }
   },
   "source": [
    "## Standard regression\n",
    "\n",
    "In this example we do quantile regression in CVXPY.\n",
    "We start by discussing standard regression.\n",
    "In a regression problem we are given data $(x_i,y_i)\\in {\\bf R}^n \\times {\\bf R}$, $i=1,\\ldots, m$.\n",
    "and fit a linear (affine) model\n",
    "\n",
    "$$\\hat y_i = \\beta ^Tx_i - v,$$\n",
    "\n",
    "where $\\beta \\in {\\bf R}^n$ and $v \\in {\\bf R}$.\n",
    "\n",
    "The residuals are $r_i = \\hat y_i - y_i$.\n",
    "In standard (least-squares) regression we choose $\\beta,v$ to minimize $\\|r\\|_2^2 = \\sum_i r_i^2$.\n",
    "For this choice of $\\beta,v$ the mean of the optimal residuals is zero.\n",
    "\n",
    "A simple variant is to add (Tychonov) regularization, meaning we solve the optimization problem\n",
    "\n",
    "$$\\begin{array}{ll}\n",
    "\\mbox{minimize} & \\|r\\|_2^2 + \\lambda \\|\\beta \\|_2^2,\n",
    "\\end{array}$$\n",
    "\n",
    "where $\\lambda>0$."
   ]
  },
  {
   "cell_type": "markdown",
   "metadata": {
    "pycharm": {
     "name": "#%% md\n"
    }
   },
   "source": [
    "## Quantile regression\n",
    "\n",
    "An alternative to the standard least-squares penalty is the *tilted $\\ell_1$ penalty*: for $\\tau \\in (0,1)$,\n",
    "\n",
    "$$\n",
    "\\phi(u)= \\tau (u)_+ + (1-\\tau) (u)_- = (1/2)|u| + (\\tau-1/2) u.\n",
    "$$\n",
    "\n",
    "The plots below show $\\phi(u)$ for $\\tau= 0.5$, $\\tau= 0.1$, and $\\tau= 0.9$.\n",
    "\n",
    "![title](tilted_l1.png)\n",
    "\n",
    "In quantile regression we choose $\\beta,v$ to minimize $\\sum_i \\phi(r_i)$.\n",
    "For $r_i \\neq 0$,\n",
    "\n",
    "$$\n",
    "\\frac{\\partial \\sum_i \\phi(r_i)}{\\partial v} =\n",
    "\\tau \\left|\\{i: r_i>0\\} \\right| - (1-\\tau) \\left|\\{i: r_i<0\\}\\right|,\n",
    "$$\n",
    "\n",
    "which means that (roughly speaking) for optimal $v$ we have\n",
    "\n",
    "$$\n",
    "\\tau \\left|\\{i: r_i>0\\} \\right| = (1-\\tau) \\left|\\{i: r_i<0\\}\\right|.\n",
    "$$\n",
    "\n",
    "We conclude that $\\tau m = \\left|\\{i: r_i<0\\}\\right|$, or the $\\tau$-quantile of optimal residuals is zero.\n",
    "Hence the name quantile regression."
   ]
  },
  {
   "cell_type": "markdown",
   "metadata": {
    "pycharm": {
     "name": "#%% md\n"
    }
   },
   "source": [
    "## Example\n",
    "\n",
    "In the following code we apply quantile regression to a time series prediction problem.\n",
    "We fit the time series $x_t$, $t=0,1,2, \\ldots$ with an auto-regressive (AR) predictor\n",
    "\n",
    "\n",
    "$$\\hat x_{t+1} = \\beta^T (x_t,\\ldots, x_{t-M})- v,$$\n",
    "\n",
    "where $M=10$ is the memory of predictor.\n",
    "\n",
    "We use quantile regression for $\\tau = 0.1,0.5, 0.9$ to fit three AR models.\n",
    "At each time $t$, the models give three one-step-ahead predictions:\n",
    "\n",
    "$$\n",
    "\\hat x_{t+1} ^{0.1}, \\qquad\n",
    "\\hat x_{t+1} ^{0.5}, \\qquad\n",
    "\\hat x_{t+1} ^{0.9}\n",
    "$$\n",
    "\n",
    "We divide the time series into a training set, which we use to fit the AR models, and a test set.\n",
    "We plot $x_t$ and the predictions\n",
    "$\\hat x_{t+1} ^{0.1}$,\n",
    "$\\hat x_{t+1} ^{0.5}$,\n",
    "$\\hat x_{t+1} ^{0.9}$\n",
    "for the training set and the test set."
   ]
  },
  {
   "cell_type": "code",
   "execution_count": 1,
   "metadata": {
    "pycharm": {
     "name": "#%%\n"
    }
   },
   "outputs": [],
   "source": [
    "# Generate data for quantile regression.\n",
    "import numpy as np\n",
    "\n",
    "np.random.seed(1)\n",
    "TRAIN_LEN = 400\n",
    "SKIP_LEN = 100\n",
    "TEST_LEN = 50\n",
    "TOTAL_LEN = TRAIN_LEN + SKIP_LEN + TEST_LEN\n",
    "m = 10\n",
    "x0 = np.random.randn(m)\n",
    "x = np.zeros(TOTAL_LEN)\n",
    "x[:m] = x0\n",
    "for i in range(m + 1, TOTAL_LEN):\n",
    "    x[i] = 1.8 * x[i - 1] - 0.82 * x[i - 2] + np.random.normal()\n",
    "\n",
    "x = np.exp(0.05 * x + 0.05 * np.random.normal(size=TOTAL_LEN))"
   ]
  },
  {
   "cell_type": "code",
   "execution_count": 2,
   "metadata": {
    "pycharm": {
     "name": "#%%\n"
    }
   },
   "outputs": [],
   "source": [
    "# Form the quantile regression problem.\n",
    "import cvxpy as cp\n",
    "\n",
    "\n",
    "w = cp.Variable(m + 1)\n",
    "v = cp.Variable()\n",
    "tau = cp.Parameter()\n",
    "error = 0\n",
    "for i in range(SKIP_LEN, TRAIN_LEN + SKIP_LEN):\n",
    "    r = x[i] - (w.T @ x[i - m - 1 : i] + v)\n",
    "    error += 0.5 * cp.abs(r) + (tau - 0.5) * r\n",
    "prob = cp.Problem(cp.Minimize(error))"
   ]
  },
  {
   "cell_type": "code",
   "execution_count": 3,
   "metadata": {
    "pycharm": {
     "name": "#%%\n"
    }
   },
   "outputs": [],
   "source": [
    "# Solve quantile regression for different values of tau.\n",
    "tau_vals = [0.9, 0.5, 0.1]\n",
    "pred = np.zeros((len(tau_vals), TOTAL_LEN))\n",
    "r_vals = np.zeros((len(tau_vals), TOTAL_LEN))\n",
    "for k, tau_val in enumerate(tau_vals):\n",
    "    tau.value = tau_val\n",
    "    prob.solve()\n",
    "    pred[k, :m] = x0\n",
    "    for i in range(SKIP_LEN, TOTAL_LEN):\n",
    "        pred[k, i] = (x[i - m - 1 : i].T @ w + v).value\n",
    "        r_vals[k, i] = (x[i] - (x[i - m - 1 : i].T @ w + v)).value"
   ]
  },
  {
   "cell_type": "markdown",
   "metadata": {
    "pycharm": {
     "name": "#%% md\n"
    }
   },
   "source": [
    "Below we plot the full time series, the training data with the three AR models, and the test data with the three AR models."
   ]
  },
  {
   "cell_type": "code",
   "execution_count": 4,
   "metadata": {
    "pycharm": {
     "name": "#%%\n"
    }
   },
   "outputs": [
    {
     "ename": "ModuleNotFoundError",
     "evalue": "No module named 'PIL'",
     "output_type": "error",
     "traceback": [
      "\u001b[0;31m---------------------------------------------------------------------------\u001b[0m",
      "\u001b[0;31mModuleNotFoundError\u001b[0m                       Traceback (most recent call last)",
      "Cell \u001b[0;32mIn[4], line 2\u001b[0m\n\u001b[1;32m      1\u001b[0m \u001b[38;5;66;03m# Generate plots.\u001b[39;00m\n\u001b[0;32m----> 2\u001b[0m \u001b[38;5;28;01mimport\u001b[39;00m \u001b[38;5;21;01mmatplotlib\u001b[39;00m\u001b[38;5;21;01m.\u001b[39;00m\u001b[38;5;21;01mpyplot\u001b[39;00m \u001b[38;5;28;01mas\u001b[39;00m \u001b[38;5;21;01mplt\u001b[39;00m\n\u001b[1;32m      4\u001b[0m get_ipython()\u001b[38;5;241m.\u001b[39mrun_line_magic(\u001b[38;5;124m'\u001b[39m\u001b[38;5;124mconfig\u001b[39m\u001b[38;5;124m'\u001b[39m, \u001b[38;5;124m\"\u001b[39m\u001b[38;5;124mInlineBackend.figure_format = \u001b[39m\u001b[38;5;124m'\u001b[39m\u001b[38;5;124msvg\u001b[39m\u001b[38;5;124m'\u001b[39m\u001b[38;5;124m\"\u001b[39m)\n\u001b[1;32m      6\u001b[0m \u001b[38;5;66;03m# Plot the full time series.\u001b[39;00m\n",
      "File \u001b[0;32m~/.local/lib/python3.10/site-packages/matplotlib/__init__.py:131\u001b[0m\n\u001b[1;32m    127\u001b[0m \u001b[38;5;28;01mfrom\u001b[39;00m \u001b[38;5;21;01mpackaging\u001b[39;00m\u001b[38;5;21;01m.\u001b[39;00m\u001b[38;5;21;01mversion\u001b[39;00m \u001b[38;5;28;01mimport\u001b[39;00m parse \u001b[38;5;28;01mas\u001b[39;00m parse_version\n\u001b[1;32m    129\u001b[0m \u001b[38;5;66;03m# cbook must import matplotlib only within function\u001b[39;00m\n\u001b[1;32m    130\u001b[0m \u001b[38;5;66;03m# definitions, so it is safe to import from it here.\u001b[39;00m\n\u001b[0;32m--> 131\u001b[0m \u001b[38;5;28;01mfrom\u001b[39;00m \u001b[38;5;21;01m.\u001b[39;00m \u001b[38;5;28;01mimport\u001b[39;00m _api, _version, cbook, _docstring, rcsetup\n\u001b[1;32m    132\u001b[0m \u001b[38;5;28;01mfrom\u001b[39;00m \u001b[38;5;21;01mmatplotlib\u001b[39;00m\u001b[38;5;21;01m.\u001b[39;00m\u001b[38;5;21;01mcbook\u001b[39;00m \u001b[38;5;28;01mimport\u001b[39;00m sanitize_sequence\n\u001b[1;32m    133\u001b[0m \u001b[38;5;28;01mfrom\u001b[39;00m \u001b[38;5;21;01mmatplotlib\u001b[39;00m\u001b[38;5;21;01m.\u001b[39;00m\u001b[38;5;21;01m_api\u001b[39;00m \u001b[38;5;28;01mimport\u001b[39;00m MatplotlibDeprecationWarning\n",
      "File \u001b[0;32m~/.local/lib/python3.10/site-packages/matplotlib/rcsetup.py:27\u001b[0m\n\u001b[1;32m     25\u001b[0m \u001b[38;5;28;01mfrom\u001b[39;00m \u001b[38;5;21;01mmatplotlib\u001b[39;00m \u001b[38;5;28;01mimport\u001b[39;00m _api, cbook\n\u001b[1;32m     26\u001b[0m \u001b[38;5;28;01mfrom\u001b[39;00m \u001b[38;5;21;01mmatplotlib\u001b[39;00m\u001b[38;5;21;01m.\u001b[39;00m\u001b[38;5;21;01mcbook\u001b[39;00m \u001b[38;5;28;01mimport\u001b[39;00m ls_mapper\n\u001b[0;32m---> 27\u001b[0m \u001b[38;5;28;01mfrom\u001b[39;00m \u001b[38;5;21;01mmatplotlib\u001b[39;00m\u001b[38;5;21;01m.\u001b[39;00m\u001b[38;5;21;01mcolors\u001b[39;00m \u001b[38;5;28;01mimport\u001b[39;00m Colormap, is_color_like\n\u001b[1;32m     28\u001b[0m \u001b[38;5;28;01mfrom\u001b[39;00m \u001b[38;5;21;01mmatplotlib\u001b[39;00m\u001b[38;5;21;01m.\u001b[39;00m\u001b[38;5;21;01m_fontconfig_pattern\u001b[39;00m \u001b[38;5;28;01mimport\u001b[39;00m parse_fontconfig_pattern\n\u001b[1;32m     29\u001b[0m \u001b[38;5;28;01mfrom\u001b[39;00m \u001b[38;5;21;01mmatplotlib\u001b[39;00m\u001b[38;5;21;01m.\u001b[39;00m\u001b[38;5;21;01m_enums\u001b[39;00m \u001b[38;5;28;01mimport\u001b[39;00m JoinStyle, CapStyle\n",
      "File \u001b[0;32m~/.local/lib/python3.10/site-packages/matplotlib/colors.py:51\u001b[0m\n\u001b[1;32m     49\u001b[0m \u001b[38;5;28;01mfrom\u001b[39;00m \u001b[38;5;21;01mnumbers\u001b[39;00m \u001b[38;5;28;01mimport\u001b[39;00m Number\n\u001b[1;32m     50\u001b[0m \u001b[38;5;28;01mimport\u001b[39;00m \u001b[38;5;21;01mre\u001b[39;00m\n\u001b[0;32m---> 51\u001b[0m \u001b[38;5;28;01mfrom\u001b[39;00m \u001b[38;5;21;01mPIL\u001b[39;00m \u001b[38;5;28;01mimport\u001b[39;00m Image\n\u001b[1;32m     52\u001b[0m \u001b[38;5;28;01mfrom\u001b[39;00m \u001b[38;5;21;01mPIL\u001b[39;00m\u001b[38;5;21;01m.\u001b[39;00m\u001b[38;5;21;01mPngImagePlugin\u001b[39;00m \u001b[38;5;28;01mimport\u001b[39;00m PngInfo\n\u001b[1;32m     54\u001b[0m \u001b[38;5;28;01mimport\u001b[39;00m \u001b[38;5;21;01mmatplotlib\u001b[39;00m \u001b[38;5;28;01mas\u001b[39;00m \u001b[38;5;21;01mmpl\u001b[39;00m\n",
      "\u001b[0;31mModuleNotFoundError\u001b[0m: No module named 'PIL'"
     ]
    }
   ],
   "source": [
    "# Generate plots.\n",
    "import matplotlib.pyplot as plt\n",
    "\n",
    "%config InlineBackend.figure_format = 'svg'\n",
    "\n",
    "# Plot the full time series.\n",
    "plt.plot(range(0, TRAIN_LEN + TEST_LEN), x[SKIP_LEN:], \"black\", label=r\"$x$\")\n",
    "plt.xlabel(r\"$t$\", fontsize=16)\n",
    "plt.ylabel(r\"$x_t$\", fontsize=16)\n",
    "plt.title(\"Full time series\")\n",
    "plt.show()\n",
    "\n",
    "# Plot the predictions from the quantile regression on the training data.\n",
    "plt.plot(range(0, TRAIN_LEN), x[SKIP_LEN:-TEST_LEN], \"black\", label=r\"$x$\")\n",
    "colors = [\"r\", \"g\", \"b\"]\n",
    "for k, tau_val in enumerate(tau_vals):\n",
    "    plt.plot(\n",
    "        range(0, TRAIN_LEN),\n",
    "        pred[k, SKIP_LEN:-TEST_LEN],\n",
    "        colors[k],\n",
    "        label=r\"$\\tau = %.1f$\" % tau_val,\n",
    "    )\n",
    "plt.xlabel(r\"$t$\", fontsize=16)\n",
    "plt.title(\"Training data\")\n",
    "plt.show()\n",
    "\n",
    "# Plot the predictions from the quantile regression on the test data.\n",
    "plt.plot(range(TRAIN_LEN, TRAIN_LEN + TEST_LEN), x[-TEST_LEN:], \"black\", label=r\"$x$\")\n",
    "for k, tau_val in enumerate(tau_vals):\n",
    "    plt.plot(\n",
    "        range(TRAIN_LEN, TRAIN_LEN + TEST_LEN),\n",
    "        pred[k, -TEST_LEN:],\n",
    "        colors[k],\n",
    "        label=r\"$\\tau = %.1f$\" % tau_val,\n",
    "    )\n",
    "plt.xlabel(r\"$t$\", fontsize=16)\n",
    "plt.title(\"Test data\")\n",
    "plt.show()"
   ]
  },
  {
   "cell_type": "markdown",
   "metadata": {
    "pycharm": {
     "name": "#%% md\n"
    }
   },
   "source": [
    "Below we plot the empirical CDFs of the residuals for the three AR models on the training data and the test data.\n",
    "Notice that $\\tau$-quantile of the optimal residuals is close to zero."
   ]
  },
  {
   "cell_type": "code",
   "execution_count": 5,
   "metadata": {
    "pycharm": {
     "name": "#%%\n"
    }
   },
   "outputs": [
    {
     "ename": "NameError",
     "evalue": "name 'plt' is not defined",
     "output_type": "error",
     "traceback": [
      "\u001b[0;31m---------------------------------------------------------------------------\u001b[0m",
      "\u001b[0;31mNameError\u001b[0m                                 Traceback (most recent call last)",
      "Cell \u001b[0;32mIn[5], line 7\u001b[0m\n\u001b[1;32m      5\u001b[0m     \u001b[38;5;28msorted\u001b[39m \u001b[38;5;241m=\u001b[39m np\u001b[38;5;241m.\u001b[39msort(r_vals[k, SKIP_LEN : SKIP_LEN \u001b[38;5;241m+\u001b[39m TRAIN_LEN])\n\u001b[1;32m      6\u001b[0m     yvals \u001b[38;5;241m=\u001b[39m np\u001b[38;5;241m.\u001b[39marange(\u001b[38;5;28mlen\u001b[39m(\u001b[38;5;28msorted\u001b[39m)) \u001b[38;5;241m/\u001b[39m \u001b[38;5;28mfloat\u001b[39m(\u001b[38;5;28mlen\u001b[39m(\u001b[38;5;28msorted\u001b[39m))\n\u001b[0;32m----> 7\u001b[0m     \u001b[43mplt\u001b[49m\u001b[38;5;241m.\u001b[39mplot(\u001b[38;5;28msorted\u001b[39m, yvals, colors[k], label\u001b[38;5;241m=\u001b[39m\u001b[38;5;124mr\u001b[39m\u001b[38;5;124m\"\u001b[39m\u001b[38;5;124m$\u001b[39m\u001b[38;5;124m\\\u001b[39m\u001b[38;5;124mtau = \u001b[39m\u001b[38;5;132;01m%.1f\u001b[39;00m\u001b[38;5;124m$\u001b[39m\u001b[38;5;124m\"\u001b[39m \u001b[38;5;241m%\u001b[39m tau_val)\n\u001b[1;32m      9\u001b[0m x \u001b[38;5;241m=\u001b[39m np\u001b[38;5;241m.\u001b[39mlinspace(\u001b[38;5;241m-\u001b[39m\u001b[38;5;241m1.0\u001b[39m, \u001b[38;5;241m1\u001b[39m, \u001b[38;5;241m100\u001b[39m)\n\u001b[1;32m     10\u001b[0m \u001b[38;5;28;01mfor\u001b[39;00m val \u001b[38;5;129;01min\u001b[39;00m [\u001b[38;5;241m0.1\u001b[39m, \u001b[38;5;241m0.5\u001b[39m, \u001b[38;5;241m0.9\u001b[39m]:\n",
      "\u001b[0;31mNameError\u001b[0m: name 'plt' is not defined"
     ]
    }
   ],
   "source": [
    "# Plot the empirical CDFs of the residuals.\n",
    "\n",
    "# Plot the CDF for the training data residuals.\n",
    "for k, tau_val in enumerate(tau_vals):\n",
    "    sorted = np.sort(r_vals[k, SKIP_LEN : SKIP_LEN + TRAIN_LEN])\n",
    "    yvals = np.arange(len(sorted)) / float(len(sorted))\n",
    "    plt.plot(sorted, yvals, colors[k], label=r\"$\\tau = %.1f$\" % tau_val)\n",
    "\n",
    "x = np.linspace(-1.0, 1, 100)\n",
    "for val in [0.1, 0.5, 0.9]:\n",
    "    plt.plot(x, len(x) * [val], \"k--\")\n",
    "plt.xlabel(\"Residual\")\n",
    "plt.ylabel(\"Cumulative density in training\")\n",
    "plt.xlim([-0.6, 0.6])\n",
    "plt.legend(loc=\"upper left\")\n",
    "plt.show()\n",
    "\n",
    "# Plot the CDF for the testing data residuals.\n",
    "for k, tau_val in enumerate(tau_vals):\n",
    "    sorted = np.sort(r_vals[k, -TEST_LEN:])\n",
    "    yvals = np.arange(len(sorted)) / float(len(sorted))\n",
    "    plt.plot(sorted, yvals, colors[k], label=r\"$\\tau = %.1f$\" % tau_val)\n",
    "\n",
    "x = np.linspace(-1, 1, 100)\n",
    "for val in [0.1, 0.5, 0.9]:\n",
    "    plt.plot(x, len(x) * [val], \"k--\")\n",
    "plt.xlabel(\"Residual\")\n",
    "plt.ylabel(\"Cumulative density in testing\")\n",
    "plt.xlim([-0.6, 0.6])\n",
    "plt.legend(loc=\"upper left\")\n",
    "plt.show()"
   ]
  }
 ],
 "metadata": {
  "kernelspec": {
   "display_name": "Python 3",
   "language": "python",
   "name": "python3"
  },
  "language_info": {
   "codemirror_mode": {
    "name": "ipython",
    "version": 3
   },
   "file_extension": ".py",
   "mimetype": "text/x-python",
   "name": "python",
   "nbconvert_exporter": "python",
   "pygments_lexer": "ipython3",
   "version": "3.10.10"
  }
 },
 "nbformat": 4,
 "nbformat_minor": 1
}
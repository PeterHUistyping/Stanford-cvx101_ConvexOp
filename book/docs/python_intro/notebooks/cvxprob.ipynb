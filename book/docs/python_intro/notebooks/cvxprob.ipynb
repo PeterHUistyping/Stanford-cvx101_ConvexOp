{
 "cells": [
  {
   "cell_type": "markdown",
   "metadata": {
    "pycharm": {
     "name": "#%% md\n"
    }
   },
   "source": [
    "# CVXPY"
   ]
  },
  {
   "cell_type": "markdown",
   "metadata": {
    "collapsed": false
   },
   "source": [
    "This Python notebook shows a basic example using CVXPY."
   ]
  },
  {
   "cell_type": "code",
   "execution_count": 7,
   "metadata": {
    "pycharm": {
     "name": "#%%\n"
    }
   },
   "outputs": [],
   "source": [
    "import cvxpy as cp\n",
    "import numpy as np\n",
    "\n",
    "\n",
    "# Problem data.\n",
    "m = 10\n",
    "n = 7\n",
    "np.random.seed(1)\n",
    "A = np.random.randn(m, n) # A is a m x n matrix\n",
    "b = np.random.randn(m)    # b is a m x 1 vector"
   ]
  },
  {
   "cell_type": "markdown",
   "metadata": {},
   "source": [
    "Least squares,\n",
    "$$min_x || Ax - b ||_2^2$$"
   ]
  },
  {
   "cell_type": "code",
   "execution_count": 8,
   "metadata": {},
   "outputs": [
    {
     "name": "stdout",
     "output_type": "stream",
     "text": [
      "[ 1.84938877e-01  4.25089350e-01 -6.83353509e-22 -3.14426069e-21\n",
      "  1.89152651e-22  1.68042475e-01  7.23457120e-22]\n"
     ]
    }
   ],
   "source": [
    "# Construct the problem.\n",
    "x = cp.Variable(n)\n",
    "# *, +, -, / are overloaded to construct CVXPY objects.\n",
    "cost = cp.sum_squares(A @ x - b)\n",
    "objective = cp.Minimize(cost)\n",
    "# <=, >=, == are overloaded to construct CVXPY constraints.\n",
    "constraints = [0 <= x, x <= 1]\n",
    "prob = cp.Problem(objective, constraints)\n",
    "\n",
    "# The optimal objective is returned by prob.solve().\n",
    "result = prob.solve()\n",
    "# The optimal value for x is stored in x.value.\n",
    "print(x.value)"
   ]
  },
  {
   "cell_type": "markdown",
   "metadata": {},
   "source": [
    "The Lagrange multiplier, λ, measures the increase in the objective function f(x, y) that is obtained through a marginal relaxation in the constraint (an increase in k).\n",
    "\n",
    "$λ^{*} = \\frac{dM^{*}}{d c}$, c is the const in the constraint requirements."
   ]
  },
  {
   "cell_type": "code",
   "execution_count": 9,
   "metadata": {},
   "outputs": [
    {
     "name": "stdout",
     "output_type": "stream",
     "text": [
      "[0.         0.         0.4282705  4.44105024 2.45354868 0.\n",
      " 3.24159717]\n",
      "[0. 0. 0. 0. 0. 0. 0.]\n"
     ]
    }
   ],
   "source": [
    "# The optimal Lagrange multiplier for a constraint\n",
    "# is stored in constraint.dual_value.\n",
    "print(constraints[0].dual_value)\n",
    "\n",
    "# Meaning that the first constraint is too strong. \n",
    "# Relaxing it to -100 < x gives better result.\n",
    "\n",
    "print(constraints[1].dual_value)"
   ]
  }
 ],
 "metadata": {
  "kernelspec": {
   "display_name": "Python 3",
   "language": "python",
   "name": "python3"
  },
  "language_info": {
   "codemirror_mode": {
    "name": "ipython",
    "version": 3
   },
   "file_extension": ".py",
   "mimetype": "text/x-python",
   "name": "python",
   "nbconvert_exporter": "python",
   "pygments_lexer": "ipython3",
   "version": "3.12.1"
  }
 },
 "nbformat": 4,
 "nbformat_minor": 1
}

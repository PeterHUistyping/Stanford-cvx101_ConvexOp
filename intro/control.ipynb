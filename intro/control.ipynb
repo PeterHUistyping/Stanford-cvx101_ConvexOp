{
 "cells": [
  {
   "cell_type": "markdown",
   "metadata": {
    "pycharm": {
     "name": "#%% md\n"
    }
   },
   "source": [
    "# Control"
   ]
  },
  {
   "cell_type": "markdown",
   "metadata": {
    "pycharm": {
     "name": "#%% md\n"
    }
   },
   "source": [
    "Convex optimization can be used to solve many problems that arise in control.\n",
    "In this example we show how to solve such a problem using CVXPY.\n",
    "We have a system with a state $x_t\\in {\\bf R}^n$ that varies over the time steps $t=0,\\ldots,T$, and inputs or actions $u_t\\in {\\bf R}^m$ we can use at each time step to affect the state.\n",
    "For example, $x_t$ might be the position and velocity of a rocket and $u_t$ the output of the rocket's thrusters.\n",
    "We model the evolution of the state as a linear dynamical system, i.e.,\n",
    "\n",
    "$$ x_{t+1} = Ax_t + Bu_t $$\n",
    "\n",
    "where $A \\in {\\bf R}^{n\\times n}$ and $B \\in {\\bf R}^{n\\times m}$ are known matrices.\n",
    "\n",
    "Our goal is to find the optimal actions $u_0,\\ldots,u_{T-1}$ by solving the optimization problems\n",
    "\n",
    "\\begin{array}{ll} \\mbox{minimize} & \\sum_{t=0}^{T-1} \\ell (x_t,u_t) + \\ell_T(x_T)\\\\\n",
    "\\mbox{subject to} & x_{t+1} = Ax_t + Bu_t\\\\%, \\quad t=0, \\ldots, T-1\\\\\n",
    "& (x_t,u_t) \\in \\mathcal C, \\quad x_T\\in \\mathcal C_T,\n",
    "%, \\quad \\quad t=0, \\ldots, T\n",
    "\\end{array}\n",
    "\n",
    "where $\\ell: {\\bf R}^n \\times {\\bf R}^m\\to {\\bf R}$ is the stage cost, $\\ell_T$ is the terminal cost,\n",
    "$\\mathcal C$ is the state/action constraints, and $\\mathcal C_T$ is the terminal constraint.\n",
    "The optimization problem is convex if the costs and constraints are convex.\n"
   ]
  },
  {
   "cell_type": "markdown",
   "metadata": {
    "pycharm": {
     "name": "#%% md\n"
    }
   },
   "source": [
    "### Example\n",
    "\n",
    "In the following code we solve a control problem with $n=8$ states, $m=2$ inputs, and horizon $T=50$.\n",
    "The matrices $A$ and $B$ and the initial state $x_0$ are randomly chosen (with $A\\approx I$).\n",
    "We use the (traditional) stage cost $\\ell(x,u) = \\|x\\|_2^2 + \\|u\\|_2^2$, the input constraint $\\|u_t\\|_\\infty \\leq 1$, and the terminal constraint $x_{T}=0$."
   ]
  },
  {
   "cell_type": "code",
   "execution_count": 1,
   "outputs": [],
   "source": [
    "# Generate data for control problem.\n",
    "import numpy as np\n",
    "\n",
    "np.random.seed(1)\n",
    "n = 8\n",
    "m = 2\n",
    "T = 50\n",
    "alpha = 0.2\n",
    "beta = 5\n",
    "A = np.eye(n) + alpha * np.random.randn(n, n)\n",
    "B = np.random.randn(n, m)\n",
    "x_0 = beta * np.random.randn(n)"
   ],
   "metadata": {
    "collapsed": false,
    "pycharm": {
     "name": "#%%\n"
    }
   }
  },
  {
   "cell_type": "code",
   "execution_count": 2,
   "outputs": [
    {
     "name": "stderr",
     "output_type": "stream",
     "text": [
      "/home/ps/Desktop/Research/cvx_short_course/venv/lib/python3.8/site-packages/cvxpy/problems/problem.py:1337: UserWarning: Solution may be inaccurate. Try another solver, adjusting the solver settings, or solve with verbose=True for more information.\n",
      "  warnings.warn(\n"
     ]
    },
    {
     "data": {
      "text/plain": "64470.63768245135"
     },
     "execution_count": 2,
     "metadata": {},
     "output_type": "execute_result"
    }
   ],
   "source": [
    "# Form and solve control problem.\n",
    "import cvxpy as cp\n",
    "\n",
    "\n",
    "x = cp.Variable((n, T + 1))\n",
    "u = cp.Variable((m, T))\n",
    "\n",
    "cost = 0\n",
    "constr = []\n",
    "for t in range(T):\n",
    "    cost += cp.sum_squares(x[:, t + 1]) + cp.sum_squares(u[:, t])\n",
    "    constr += [x[:, t + 1] == A @ x[:, t] + B @ u[:, t], cp.norm(u[:, t], \"inf\") <= 1]\n",
    "# sums problem objectives and concatenates constraints.\n",
    "constr += [x[:, T] == 0, x[:, 0] == x_0]\n",
    "problem = cp.Problem(cp.Minimize(cost), constr)\n",
    "problem.solve(solver=cp.ECOS)"
   ],
   "metadata": {
    "collapsed": false,
    "pycharm": {
     "name": "#%%\n"
    }
   }
  },
  {
   "cell_type": "markdown",
   "source": [
    "We display the results below as a $4$-high stack of plots showing $u_1$, $u_2$, $x_1$, and $x_2$ vs $t$.\n",
    "Notice that $u_t$ is saturated (i.e., $\\|u_t\\|_\\infty = 1$) over more than half of the horizon,\n",
    "which shows that the input constraint is meaningful."
   ],
   "metadata": {
    "collapsed": false,
    "pycharm": {
     "name": "#%% md\n"
    }
   }
  },
  {
   "cell_type": "code",
   "execution_count": 3,
   "outputs": [
    {
     "data": {
      "text/plain": "<Figure size 432x288 with 4 Axes>",
      "image/svg+xml": "<?xml version=\"1.0\" encoding=\"utf-8\" standalone=\"no\"?>\n<!DOCTYPE svg PUBLIC \"-//W3C//DTD SVG 1.1//EN\"\n  \"http://www.w3.org/Graphics/SVG/1.1/DTD/svg11.dtd\">\n<svg xmlns:xlink=\"http://www.w3.org/1999/xlink\" width=\"421.864687pt\" height=\"280.034272pt\" viewBox=\"0 0 421.864687 280.034272\" xmlns=\"http://www.w3.org/2000/svg\" version=\"1.1\">\n <metadata>\n  <rdf:RDF xmlns:dc=\"http://purl.org/dc/elements/1.1/\" xmlns:cc=\"http://creativecommons.org/ns#\" xmlns:rdf=\"http://www.w3.org/1999/02/22-rdf-syntax-ns#\">\n   <cc:Work>\n    <dc:type rdf:resource=\"http://purl.org/dc/dcmitype/StillImage\"/>\n    <dc:date>2022-06-03T22:22:01.956700</dc:date>\n    <dc:format>image/svg+xml</dc:format>\n    <dc:creator>\n     <cc:Agent>\n      <dc:title>Matplotlib v3.5.2, https://matplotlib.org/</dc:title>\n     </cc:Agent>\n    </dc:creator>\n   </cc:Work>\n  </rdf:RDF>\n </metadata>\n <defs>\n  <style type=\"text/css\">*{stroke-linejoin: round; stroke-linecap: butt}</style>\n </defs>\n <g id=\"figure_1\">\n  <g id=\"patch_1\">\n   <path d=\"M 0 280.034272 \nL 421.864687 280.034272 \nL 421.864687 0 \nL 0 0 \nL 0 280.034272 \nz\n\" style=\"fill: none\"/>\n  </g>\n  <g id=\"axes_1\">\n   <g id=\"patch_2\">\n    <path d=\"M 54.789687 50.409683 \nL 414.664687 50.409683 \nL 414.664687 9.122529 \nL 54.789687 9.122529 \nz\n\" style=\"fill: #ffffff\"/>\n   </g>\n   <g id=\"matplotlib.axis_1\"/>\n   <g id=\"matplotlib.axis_2\">\n    <g id=\"ytick_1\">\n     <g id=\"line2d_1\">\n      <defs>\n       <path id=\"m8fd5f60e34\" d=\"M 0 0 \nL -3.5 0 \n\" style=\"stroke: #000000; stroke-width: 0.8\"/>\n      </defs>\n      <g>\n       <use xlink:href=\"#m8fd5f60e34\" x=\"54.789687\" y=\"48.532994\" style=\"stroke: #000000; stroke-width: 0.8\"/>\n      </g>\n     </g>\n     <g id=\"text_1\">\n      <!-- −1 -->\n      <g transform=\"translate(33.0475 52.332213)scale(0.1 -0.1)\">\n       <defs>\n        <path id=\"DejaVuSans-2212\" d=\"M 678 2272 \nL 4684 2272 \nL 4684 1741 \nL 678 1741 \nL 678 2272 \nz\n\" transform=\"scale(0.015625)\"/>\n        <path id=\"DejaVuSans-31\" d=\"M 794 531 \nL 1825 531 \nL 1825 4091 \nL 703 3866 \nL 703 4441 \nL 1819 4666 \nL 2450 4666 \nL 2450 531 \nL 3481 531 \nL 3481 0 \nL 794 0 \nL 794 531 \nz\n\" transform=\"scale(0.015625)\"/>\n       </defs>\n       <use xlink:href=\"#DejaVuSans-2212\"/>\n       <use xlink:href=\"#DejaVuSans-31\" x=\"83.789062\"/>\n      </g>\n     </g>\n    </g>\n    <g id=\"ytick_2\">\n     <g id=\"line2d_2\">\n      <g>\n       <use xlink:href=\"#m8fd5f60e34\" x=\"54.789687\" y=\"29.766107\" style=\"stroke: #000000; stroke-width: 0.8\"/>\n      </g>\n     </g>\n     <g id=\"text_2\">\n      <!-- 0 -->\n      <g transform=\"translate(41.427188 33.565325)scale(0.1 -0.1)\">\n       <defs>\n        <path id=\"DejaVuSans-30\" d=\"M 2034 4250 \nQ 1547 4250 1301 3770 \nQ 1056 3291 1056 2328 \nQ 1056 1369 1301 889 \nQ 1547 409 2034 409 \nQ 2525 409 2770 889 \nQ 3016 1369 3016 2328 \nQ 3016 3291 2770 3770 \nQ 2525 4250 2034 4250 \nz\nM 2034 4750 \nQ 2819 4750 3233 4129 \nQ 3647 3509 3647 2328 \nQ 3647 1150 3233 529 \nQ 2819 -91 2034 -91 \nQ 1250 -91 836 529 \nQ 422 1150 422 2328 \nQ 422 3509 836 4129 \nQ 1250 4750 2034 4750 \nz\n\" transform=\"scale(0.015625)\"/>\n       </defs>\n       <use xlink:href=\"#DejaVuSans-30\"/>\n      </g>\n     </g>\n    </g>\n    <g id=\"ytick_3\">\n     <g id=\"line2d_3\">\n      <g>\n       <use xlink:href=\"#m8fd5f60e34\" x=\"54.789687\" y=\"10.999219\" style=\"stroke: #000000; stroke-width: 0.8\"/>\n      </g>\n     </g>\n     <g id=\"text_3\">\n      <!-- 1 -->\n      <g transform=\"translate(41.427188 14.798438)scale(0.1 -0.1)\">\n       <use xlink:href=\"#DejaVuSans-31\"/>\n      </g>\n     </g>\n    </g>\n    <g id=\"text_4\">\n     <!-- $(u_t)_1$ -->\n     <g transform=\"translate(25.72 47.366106)rotate(-90)scale(0.16 -0.16)\">\n      <defs>\n       <path id=\"DejaVuSans-28\" d=\"M 1984 4856 \nQ 1566 4138 1362 3434 \nQ 1159 2731 1159 2009 \nQ 1159 1288 1364 580 \nQ 1569 -128 1984 -844 \nL 1484 -844 \nQ 1016 -109 783 600 \nQ 550 1309 550 2009 \nQ 550 2706 781 3412 \nQ 1013 4119 1484 4856 \nL 1984 4856 \nz\n\" transform=\"scale(0.015625)\"/>\n       <path id=\"DejaVuSans-Oblique-75\" d=\"M 428 1388 \nL 838 3500 \nL 1416 3500 \nL 1006 1409 \nQ 975 1256 961 1147 \nQ 947 1038 947 966 \nQ 947 700 1109 554 \nQ 1272 409 1569 409 \nQ 2031 409 2368 721 \nQ 2706 1034 2809 1563 \nL 3194 3500 \nL 3769 3500 \nL 3091 0 \nL 2516 0 \nL 2631 550 \nQ 2388 244 2052 76 \nQ 1716 -91 1338 -91 \nQ 878 -91 622 161 \nQ 366 413 366 863 \nQ 366 956 381 1097 \nQ 397 1238 428 1388 \nz\n\" transform=\"scale(0.015625)\"/>\n       <path id=\"DejaVuSans-Oblique-74\" d=\"M 2706 3500 \nL 2619 3053 \nL 1472 3053 \nL 1100 1153 \nQ 1081 1047 1072 975 \nQ 1063 903 1063 863 \nQ 1063 663 1183 572 \nQ 1303 481 1569 481 \nL 2150 481 \nL 2053 0 \nL 1503 0 \nQ 991 0 739 200 \nQ 488 400 488 806 \nQ 488 878 497 964 \nQ 506 1050 525 1153 \nL 897 3053 \nL 409 3053 \nL 500 3500 \nL 978 3500 \nL 1172 4494 \nL 1747 4494 \nL 1556 3500 \nL 2706 3500 \nz\n\" transform=\"scale(0.015625)\"/>\n       <path id=\"DejaVuSans-29\" d=\"M 513 4856 \nL 1013 4856 \nQ 1481 4119 1714 3412 \nQ 1947 2706 1947 2009 \nQ 1947 1309 1714 600 \nQ 1481 -109 1013 -844 \nL 513 -844 \nQ 928 -128 1133 580 \nQ 1338 1288 1338 2009 \nQ 1338 2731 1133 3434 \nQ 928 4138 513 4856 \nz\n\" transform=\"scale(0.015625)\"/>\n      </defs>\n      <use xlink:href=\"#DejaVuSans-28\" transform=\"translate(0 0.125)\"/>\n      <use xlink:href=\"#DejaVuSans-Oblique-75\" transform=\"translate(39.013672 0.125)\"/>\n      <use xlink:href=\"#DejaVuSans-Oblique-74\" transform=\"translate(102.392578 -16.28125)scale(0.7)\"/>\n      <use xlink:href=\"#DejaVuSans-29\" transform=\"translate(132.573242 0.125)\"/>\n      <use xlink:href=\"#DejaVuSans-31\" transform=\"translate(172.543945 -16.28125)scale(0.7)\"/>\n     </g>\n    </g>\n   </g>\n   <g id=\"line2d_4\">\n    <path d=\"M 71.147642 10.999218 \nL 77.824358 10.999218 \nL 84.501074 47.926933 \nL 91.17779 48.532994 \nL 97.854507 48.532994 \nL 104.531223 32.944429 \nL 111.207939 10.999219 \nL 117.884655 10.999219 \nL 124.561371 10.999219 \nL 131.238087 10.999219 \nL 137.914803 10.999219 \nL 144.59152 10.999219 \nL 151.268236 10.999219 \nL 157.944952 10.999219 \nL 164.621668 10.999219 \nL 171.298384 10.999219 \nL 177.9751 28.862672 \nL 184.651816 48.532994 \nL 191.328533 48.532994 \nL 198.005249 48.532994 \nL 204.681965 48.532994 \nL 211.358681 48.532994 \nL 218.035397 48.532994 \nL 224.712113 48.532994 \nL 231.388829 48.532994 \nL 238.065546 48.532994 \nL 244.742262 48.532994 \nL 251.418978 48.532994 \nL 258.095694 48.532993 \nL 264.77241 48.532993 \nL 271.449126 48.532993 \nL 278.125842 48.532993 \nL 284.802559 48.532993 \nL 291.479275 48.532993 \nL 298.155991 48.532992 \nL 304.832707 48.532992 \nL 311.509423 48.532992 \nL 318.186139 48.532991 \nL 324.862855 48.53299 \nL 331.539572 48.532989 \nL 338.216288 48.532987 \nL 344.893004 48.532983 \nL 351.56972 48.532973 \nL 358.246436 48.532944 \nL 364.923152 48.532672 \nL 371.599868 23.805742 \nL 378.276585 19.008665 \nL 384.953301 29.053694 \nL 391.630017 48.532184 \nL 398.306733 20.9328 \n\" clip-path=\"url(#p84d4a1dc01)\" style=\"fill: none; stroke: #1f77b4; stroke-width: 1.5; stroke-linecap: square\"/>\n   </g>\n   <g id=\"patch_3\">\n    <path d=\"M 54.789687 50.409683 \nL 54.789687 9.122529 \n\" style=\"fill: none; stroke: #000000; stroke-width: 0.8; stroke-linejoin: miter; stroke-linecap: square\"/>\n   </g>\n   <g id=\"patch_4\">\n    <path d=\"M 414.664687 50.409683 \nL 414.664687 9.122529 \n\" style=\"fill: none; stroke: #000000; stroke-width: 0.8; stroke-linejoin: miter; stroke-linecap: square\"/>\n   </g>\n   <g id=\"patch_5\">\n    <path d=\"M 54.789687 50.409683 \nL 414.664687 50.409683 \n\" style=\"fill: none; stroke: #000000; stroke-width: 0.8; stroke-linejoin: miter; stroke-linecap: square\"/>\n   </g>\n   <g id=\"patch_6\">\n    <path d=\"M 54.789687 9.122529 \nL 414.664687 9.122529 \n\" style=\"fill: none; stroke: #000000; stroke-width: 0.8; stroke-linejoin: miter; stroke-linecap: square\"/>\n   </g>\n  </g>\n  <g id=\"axes_2\">\n   <g id=\"patch_7\">\n    <path d=\"M 54.789687 112.496838 \nL 414.664687 112.496838 \nL 414.664687 71.209683 \nL 54.789687 71.209683 \nz\n\" style=\"fill: #ffffff\"/>\n   </g>\n   <g id=\"matplotlib.axis_3\"/>\n   <g id=\"matplotlib.axis_4\">\n    <g id=\"ytick_4\">\n     <g id=\"line2d_5\">\n      <g>\n       <use xlink:href=\"#m8fd5f60e34\" x=\"54.789687\" y=\"110.620149\" style=\"stroke: #000000; stroke-width: 0.8\"/>\n      </g>\n     </g>\n     <g id=\"text_5\">\n      <!-- −1 -->\n      <g transform=\"translate(33.0475 114.419368)scale(0.1 -0.1)\">\n       <use xlink:href=\"#DejaVuSans-2212\"/>\n       <use xlink:href=\"#DejaVuSans-31\" x=\"83.789062\"/>\n      </g>\n     </g>\n    </g>\n    <g id=\"ytick_5\">\n     <g id=\"line2d_6\">\n      <g>\n       <use xlink:href=\"#m8fd5f60e34\" x=\"54.789687\" y=\"91.853261\" style=\"stroke: #000000; stroke-width: 0.8\"/>\n      </g>\n     </g>\n     <g id=\"text_6\">\n      <!-- 0 -->\n      <g transform=\"translate(41.427188 95.65248)scale(0.1 -0.1)\">\n       <use xlink:href=\"#DejaVuSans-30\"/>\n      </g>\n     </g>\n    </g>\n    <g id=\"ytick_6\">\n     <g id=\"line2d_7\">\n      <g>\n       <use xlink:href=\"#m8fd5f60e34\" x=\"54.789687\" y=\"73.086373\" style=\"stroke: #000000; stroke-width: 0.8\"/>\n      </g>\n     </g>\n     <g id=\"text_7\">\n      <!-- 1 -->\n      <g transform=\"translate(41.427188 76.885591)scale(0.1 -0.1)\">\n       <use xlink:href=\"#DejaVuSans-31\"/>\n      </g>\n     </g>\n    </g>\n    <g id=\"text_8\">\n     <!-- $(u_t)_2$ -->\n     <g transform=\"translate(25.72 109.45326)rotate(-90)scale(0.16 -0.16)\">\n      <defs>\n       <path id=\"DejaVuSans-32\" d=\"M 1228 531 \nL 3431 531 \nL 3431 0 \nL 469 0 \nL 469 531 \nQ 828 903 1448 1529 \nQ 2069 2156 2228 2338 \nQ 2531 2678 2651 2914 \nQ 2772 3150 2772 3378 \nQ 2772 3750 2511 3984 \nQ 2250 4219 1831 4219 \nQ 1534 4219 1204 4116 \nQ 875 4013 500 3803 \nL 500 4441 \nQ 881 4594 1212 4672 \nQ 1544 4750 1819 4750 \nQ 2544 4750 2975 4387 \nQ 3406 4025 3406 3419 \nQ 3406 3131 3298 2873 \nQ 3191 2616 2906 2266 \nQ 2828 2175 2409 1742 \nQ 1991 1309 1228 531 \nz\n\" transform=\"scale(0.015625)\"/>\n      </defs>\n      <use xlink:href=\"#DejaVuSans-28\" transform=\"translate(0 0.125)\"/>\n      <use xlink:href=\"#DejaVuSans-Oblique-75\" transform=\"translate(39.013672 0.125)\"/>\n      <use xlink:href=\"#DejaVuSans-Oblique-74\" transform=\"translate(102.392578 -16.28125)scale(0.7)\"/>\n      <use xlink:href=\"#DejaVuSans-29\" transform=\"translate(132.573242 0.125)\"/>\n      <use xlink:href=\"#DejaVuSans-32\" transform=\"translate(172.543945 -16.28125)scale(0.7)\"/>\n     </g>\n    </g>\n   </g>\n   <g id=\"line2d_8\">\n    <path d=\"M 71.147642 73.086373 \nL 77.824358 73.086372 \nL 84.501074 73.086372 \nL 91.17779 73.086372 \nL 97.854507 110.620148 \nL 104.531223 110.620149 \nL 111.207939 110.620149 \nL 117.884655 110.620149 \nL 124.561371 110.620149 \nL 131.238087 110.620149 \nL 137.914803 110.620149 \nL 144.59152 110.620149 \nL 151.268236 110.620149 \nL 157.944952 109.592341 \nL 164.621668 73.086373 \nL 171.298384 73.086373 \nL 177.9751 73.086373 \nL 184.651816 73.086373 \nL 191.328533 73.086373 \nL 198.005249 73.086373 \nL 204.681965 73.086373 \nL 211.358681 73.086373 \nL 218.035397 73.086373 \nL 224.712113 73.086373 \nL 231.388829 73.086373 \nL 238.065546 73.086374 \nL 244.742262 73.086374 \nL 251.418978 73.086374 \nL 258.095694 73.086374 \nL 264.77241 73.086374 \nL 271.449126 73.086374 \nL 278.125842 73.086375 \nL 284.802559 73.086375 \nL 291.479275 73.086376 \nL 298.155991 73.086378 \nL 304.832707 73.08638 \nL 311.509423 73.086387 \nL 318.186139 73.086413 \nL 324.862855 73.574569 \nL 331.539572 97.205428 \nL 338.216288 98.790237 \nL 344.893004 100.119899 \nL 351.56972 102.41577 \nL 358.246436 104.667108 \nL 364.923152 104.720739 \nL 371.599868 99.014474 \nL 378.276585 95.706208 \nL 384.953301 80.789133 \nL 391.630017 73.086658 \nL 398.306733 105.224332 \n\" clip-path=\"url(#pfdb7d9fa8e)\" style=\"fill: none; stroke: #1f77b4; stroke-width: 1.5; stroke-linecap: square\"/>\n   </g>\n   <g id=\"patch_8\">\n    <path d=\"M 54.789687 112.496838 \nL 54.789687 71.209683 \n\" style=\"fill: none; stroke: #000000; stroke-width: 0.8; stroke-linejoin: miter; stroke-linecap: square\"/>\n   </g>\n   <g id=\"patch_9\">\n    <path d=\"M 414.664687 112.496838 \nL 414.664687 71.209683 \n\" style=\"fill: none; stroke: #000000; stroke-width: 0.8; stroke-linejoin: miter; stroke-linecap: square\"/>\n   </g>\n   <g id=\"patch_10\">\n    <path d=\"M 54.789687 112.496838 \nL 414.664687 112.496838 \n\" style=\"fill: none; stroke: #000000; stroke-width: 0.8; stroke-linejoin: miter; stroke-linecap: square\"/>\n   </g>\n   <g id=\"patch_11\">\n    <path d=\"M 54.789687 71.209683 \nL 414.664687 71.209683 \n\" style=\"fill: none; stroke: #000000; stroke-width: 0.8; stroke-linejoin: miter; stroke-linecap: square\"/>\n   </g>\n  </g>\n  <g id=\"axes_3\">\n   <g id=\"patch_12\">\n    <path d=\"M 54.789687 174.583992 \nL 414.664687 174.583992 \nL 414.664687 133.296838 \nL 54.789687 133.296838 \nz\n\" style=\"fill: #ffffff\"/>\n   </g>\n   <g id=\"matplotlib.axis_5\"/>\n   <g id=\"matplotlib.axis_6\">\n    <g id=\"ytick_7\">\n     <g id=\"line2d_9\">\n      <g>\n       <use xlink:href=\"#m8fd5f60e34\" x=\"54.789687\" y=\"174.583992\" style=\"stroke: #000000; stroke-width: 0.8\"/>\n      </g>\n     </g>\n     <g id=\"text_9\">\n      <!-- −10 -->\n      <g transform=\"translate(26.685 178.383211)scale(0.1 -0.1)\">\n       <use xlink:href=\"#DejaVuSans-2212\"/>\n       <use xlink:href=\"#DejaVuSans-31\" x=\"83.789062\"/>\n       <use xlink:href=\"#DejaVuSans-30\" x=\"147.412109\"/>\n      </g>\n     </g>\n    </g>\n    <g id=\"ytick_8\">\n     <g id=\"line2d_10\">\n      <g>\n       <use xlink:href=\"#m8fd5f60e34\" x=\"54.789687\" y=\"153.940415\" style=\"stroke: #000000; stroke-width: 0.8\"/>\n      </g>\n     </g>\n     <g id=\"text_10\">\n      <!-- 0 -->\n      <g transform=\"translate(41.427188 157.739634)scale(0.1 -0.1)\">\n       <use xlink:href=\"#DejaVuSans-30\"/>\n      </g>\n     </g>\n    </g>\n    <g id=\"ytick_9\">\n     <g id=\"line2d_11\">\n      <g>\n       <use xlink:href=\"#m8fd5f60e34\" x=\"54.789687\" y=\"133.296838\" style=\"stroke: #000000; stroke-width: 0.8\"/>\n      </g>\n     </g>\n     <g id=\"text_11\">\n      <!-- 10 -->\n      <g transform=\"translate(35.064687 137.096056)scale(0.1 -0.1)\">\n       <use xlink:href=\"#DejaVuSans-31\"/>\n       <use xlink:href=\"#DejaVuSans-30\" x=\"63.623047\"/>\n      </g>\n     </g>\n    </g>\n    <g id=\"text_12\">\n     <!-- $(x_t)_1$ -->\n     <g transform=\"translate(19.3575 171.220415)rotate(-90)scale(0.16 -0.16)\">\n      <defs>\n       <path id=\"DejaVuSans-Oblique-78\" d=\"M 3841 3500 \nL 2234 1784 \nL 3219 0 \nL 2559 0 \nL 1819 1388 \nL 531 0 \nL -166 0 \nL 1556 1844 \nL 641 3500 \nL 1300 3500 \nL 1972 2234 \nL 3144 3500 \nL 3841 3500 \nz\n\" transform=\"scale(0.015625)\"/>\n      </defs>\n      <use xlink:href=\"#DejaVuSans-28\" transform=\"translate(0 0.125)\"/>\n      <use xlink:href=\"#DejaVuSans-Oblique-78\" transform=\"translate(39.013672 0.125)\"/>\n      <use xlink:href=\"#DejaVuSans-Oblique-74\" transform=\"translate(98.193359 -16.28125)scale(0.7)\"/>\n      <use xlink:href=\"#DejaVuSans-29\" transform=\"translate(128.374023 0.125)\"/>\n      <use xlink:href=\"#DejaVuSans-31\" transform=\"translate(168.344727 -16.28125)scale(0.7)\"/>\n     </g>\n    </g>\n   </g>\n   <g id=\"line2d_12\">\n    <path d=\"M 71.147642 156.235239 \nL 77.690824 160.206572 \nL 84.234006 164.423201 \nL 90.777187 169.999617 \nL 97.320369 172.777224 \nL 103.863551 170.938262 \nL 110.406733 167.581885 \nL 116.949915 163.011284 \nL 123.493097 159.162881 \nL 130.036278 156.032424 \nL 136.57946 153.500762 \nL 143.122642 151.451269 \nL 149.665824 149.911558 \nL 156.209006 149.198192 \nL 162.752187 150.057811 \nL 169.295369 153.905073 \nL 175.838551 157.007034 \nL 182.381733 160.330281 \nL 188.924915 163.476347 \nL 195.468097 164.974115 \nL 202.011278 165.108897 \nL 208.55446 164.266175 \nL 215.097642 162.849442 \nL 221.640824 161.21424 \nL 228.184006 159.628371 \nL 234.727187 158.259121 \nL 241.270369 157.182462 \nL 247.813551 156.406395 \nL 254.356733 155.900208 \nL 260.899915 155.622663 \nL 267.443097 155.544084 \nL 273.986278 155.659377 \nL 280.52946 155.990666 \nL 287.072642 156.579202 \nL 293.615824 157.466566 \nL 300.159006 158.665 \nL 306.702187 160.116345 \nL 313.245369 161.638866 \nL 319.788551 162.861676 \nL 326.331733 163.144053 \nL 332.874915 161.377974 \nL 339.418097 159.745843 \nL 345.961278 158.144721 \nL 352.50446 156.463037 \nL 359.047642 154.828795 \nL 365.590824 153.640527 \nL 372.134006 152.093645 \nL 378.677187 151.779769 \nL 385.220369 153.666209 \nL 391.763551 156.044098 \nL 398.306733 153.940415 \n\" clip-path=\"url(#pa109140735)\" style=\"fill: none; stroke: #1f77b4; stroke-width: 1.5; stroke-linecap: square\"/>\n   </g>\n   <g id=\"patch_13\">\n    <path d=\"M 54.789687 174.583992 \nL 54.789687 133.296838 \n\" style=\"fill: none; stroke: #000000; stroke-width: 0.8; stroke-linejoin: miter; stroke-linecap: square\"/>\n   </g>\n   <g id=\"patch_14\">\n    <path d=\"M 414.664687 174.583992 \nL 414.664687 133.296838 \n\" style=\"fill: none; stroke: #000000; stroke-width: 0.8; stroke-linejoin: miter; stroke-linecap: square\"/>\n   </g>\n   <g id=\"patch_15\">\n    <path d=\"M 54.789687 174.583992 \nL 414.664687 174.583992 \n\" style=\"fill: none; stroke: #000000; stroke-width: 0.8; stroke-linejoin: miter; stroke-linecap: square\"/>\n   </g>\n   <g id=\"patch_16\">\n    <path d=\"M 54.789687 133.296838 \nL 414.664687 133.296838 \n\" style=\"fill: none; stroke: #000000; stroke-width: 0.8; stroke-linejoin: miter; stroke-linecap: square\"/>\n   </g>\n  </g>\n  <g id=\"axes_4\">\n   <g id=\"patch_17\">\n    <path d=\"M 54.789687 236.671147 \nL 414.664687 236.671147 \nL 414.664687 195.383992 \nL 54.789687 195.383992 \nz\n\" style=\"fill: #ffffff\"/>\n   </g>\n   <g id=\"matplotlib.axis_7\">\n    <g id=\"xtick_1\">\n     <g id=\"line2d_13\">\n      <defs>\n       <path id=\"m341464f86f\" d=\"M 0 0 \nL 0 3.5 \n\" style=\"stroke: #000000; stroke-width: 0.8\"/>\n      </defs>\n      <g>\n       <use xlink:href=\"#m341464f86f\" x=\"71.147642\" y=\"236.671147\" style=\"stroke: #000000; stroke-width: 0.8\"/>\n      </g>\n     </g>\n     <g id=\"text_13\">\n      <!-- 0 -->\n      <g transform=\"translate(67.966392 251.269584)scale(0.1 -0.1)\">\n       <use xlink:href=\"#DejaVuSans-30\"/>\n      </g>\n     </g>\n    </g>\n    <g id=\"xtick_2\">\n     <g id=\"line2d_14\">\n      <g>\n       <use xlink:href=\"#m341464f86f\" x=\"136.57946\" y=\"236.671147\" style=\"stroke: #000000; stroke-width: 0.8\"/>\n      </g>\n     </g>\n     <g id=\"text_14\">\n      <!-- 10 -->\n      <g transform=\"translate(130.21696 251.269584)scale(0.1 -0.1)\">\n       <use xlink:href=\"#DejaVuSans-31\"/>\n       <use xlink:href=\"#DejaVuSans-30\" x=\"63.623047\"/>\n      </g>\n     </g>\n    </g>\n    <g id=\"xtick_3\">\n     <g id=\"line2d_15\">\n      <g>\n       <use xlink:href=\"#m341464f86f\" x=\"202.011278\" y=\"236.671147\" style=\"stroke: #000000; stroke-width: 0.8\"/>\n      </g>\n     </g>\n     <g id=\"text_15\">\n      <!-- 20 -->\n      <g transform=\"translate(195.648778 251.269584)scale(0.1 -0.1)\">\n       <use xlink:href=\"#DejaVuSans-32\"/>\n       <use xlink:href=\"#DejaVuSans-30\" x=\"63.623047\"/>\n      </g>\n     </g>\n    </g>\n    <g id=\"xtick_4\">\n     <g id=\"line2d_16\">\n      <g>\n       <use xlink:href=\"#m341464f86f\" x=\"267.443097\" y=\"236.671147\" style=\"stroke: #000000; stroke-width: 0.8\"/>\n      </g>\n     </g>\n     <g id=\"text_16\">\n      <!-- 30 -->\n      <g transform=\"translate(261.080597 251.269584)scale(0.1 -0.1)\">\n       <defs>\n        <path id=\"DejaVuSans-33\" d=\"M 2597 2516 \nQ 3050 2419 3304 2112 \nQ 3559 1806 3559 1356 \nQ 3559 666 3084 287 \nQ 2609 -91 1734 -91 \nQ 1441 -91 1130 -33 \nQ 819 25 488 141 \nL 488 750 \nQ 750 597 1062 519 \nQ 1375 441 1716 441 \nQ 2309 441 2620 675 \nQ 2931 909 2931 1356 \nQ 2931 1769 2642 2001 \nQ 2353 2234 1838 2234 \nL 1294 2234 \nL 1294 2753 \nL 1863 2753 \nQ 2328 2753 2575 2939 \nQ 2822 3125 2822 3475 \nQ 2822 3834 2567 4026 \nQ 2313 4219 1838 4219 \nQ 1578 4219 1281 4162 \nQ 984 4106 628 3988 \nL 628 4550 \nQ 988 4650 1302 4700 \nQ 1616 4750 1894 4750 \nQ 2613 4750 3031 4423 \nQ 3450 4097 3450 3541 \nQ 3450 3153 3228 2886 \nQ 3006 2619 2597 2516 \nz\n\" transform=\"scale(0.015625)\"/>\n       </defs>\n       <use xlink:href=\"#DejaVuSans-33\"/>\n       <use xlink:href=\"#DejaVuSans-30\" x=\"63.623047\"/>\n      </g>\n     </g>\n    </g>\n    <g id=\"xtick_5\">\n     <g id=\"line2d_17\">\n      <g>\n       <use xlink:href=\"#m341464f86f\" x=\"332.874915\" y=\"236.671147\" style=\"stroke: #000000; stroke-width: 0.8\"/>\n      </g>\n     </g>\n     <g id=\"text_17\">\n      <!-- 40 -->\n      <g transform=\"translate(326.512415 251.269584)scale(0.1 -0.1)\">\n       <defs>\n        <path id=\"DejaVuSans-34\" d=\"M 2419 4116 \nL 825 1625 \nL 2419 1625 \nL 2419 4116 \nz\nM 2253 4666 \nL 3047 4666 \nL 3047 1625 \nL 3713 1625 \nL 3713 1100 \nL 3047 1100 \nL 3047 0 \nL 2419 0 \nL 2419 1100 \nL 313 1100 \nL 313 1709 \nL 2253 4666 \nz\n\" transform=\"scale(0.015625)\"/>\n       </defs>\n       <use xlink:href=\"#DejaVuSans-34\"/>\n       <use xlink:href=\"#DejaVuSans-30\" x=\"63.623047\"/>\n      </g>\n     </g>\n    </g>\n    <g id=\"xtick_6\">\n     <g id=\"line2d_18\">\n      <g>\n       <use xlink:href=\"#m341464f86f\" x=\"398.306733\" y=\"236.671147\" style=\"stroke: #000000; stroke-width: 0.8\"/>\n      </g>\n     </g>\n     <g id=\"text_18\">\n      <!-- 50 -->\n      <g transform=\"translate(391.944233 251.269584)scale(0.1 -0.1)\">\n       <defs>\n        <path id=\"DejaVuSans-35\" d=\"M 691 4666 \nL 3169 4666 \nL 3169 4134 \nL 1269 4134 \nL 1269 2991 \nQ 1406 3038 1543 3061 \nQ 1681 3084 1819 3084 \nQ 2600 3084 3056 2656 \nQ 3513 2228 3513 1497 \nQ 3513 744 3044 326 \nQ 2575 -91 1722 -91 \nQ 1428 -91 1123 -41 \nQ 819 9 494 109 \nL 494 744 \nQ 775 591 1075 516 \nQ 1375 441 1709 441 \nQ 2250 441 2565 725 \nQ 2881 1009 2881 1497 \nQ 2881 1984 2565 2268 \nQ 2250 2553 1709 2553 \nQ 1456 2553 1204 2497 \nQ 953 2441 691 2322 \nL 691 4666 \nz\n\" transform=\"scale(0.015625)\"/>\n       </defs>\n       <use xlink:href=\"#DejaVuSans-35\"/>\n       <use xlink:href=\"#DejaVuSans-30\" x=\"63.623047\"/>\n      </g>\n     </g>\n    </g>\n    <g id=\"text_19\">\n     <!-- $t$ -->\n     <g transform=\"translate(231.527187 269.506772)scale(0.16 -0.16)\">\n      <use xlink:href=\"#DejaVuSans-Oblique-74\" transform=\"translate(0 0.78125)\"/>\n     </g>\n    </g>\n   </g>\n   <g id=\"matplotlib.axis_8\">\n    <g id=\"ytick_10\">\n     <g id=\"line2d_19\">\n      <g>\n       <use xlink:href=\"#m8fd5f60e34\" x=\"54.789687\" y=\"236.671147\" style=\"stroke: #000000; stroke-width: 0.8\"/>\n      </g>\n     </g>\n     <g id=\"text_20\">\n      <!-- −25 -->\n      <g transform=\"translate(26.685 240.470365)scale(0.1 -0.1)\">\n       <use xlink:href=\"#DejaVuSans-2212\"/>\n       <use xlink:href=\"#DejaVuSans-32\" x=\"83.789062\"/>\n       <use xlink:href=\"#DejaVuSans-35\" x=\"147.412109\"/>\n      </g>\n     </g>\n    </g>\n    <g id=\"ytick_11\">\n     <g id=\"line2d_20\">\n      <g>\n       <use xlink:href=\"#m8fd5f60e34\" x=\"54.789687\" y=\"216.027569\" style=\"stroke: #000000; stroke-width: 0.8\"/>\n      </g>\n     </g>\n     <g id=\"text_21\">\n      <!-- 0 -->\n      <g transform=\"translate(41.427188 219.826788)scale(0.1 -0.1)\">\n       <use xlink:href=\"#DejaVuSans-30\"/>\n      </g>\n     </g>\n    </g>\n    <g id=\"ytick_12\">\n     <g id=\"line2d_21\">\n      <g>\n       <use xlink:href=\"#m8fd5f60e34\" x=\"54.789687\" y=\"195.383992\" style=\"stroke: #000000; stroke-width: 0.8\"/>\n      </g>\n     </g>\n     <g id=\"text_22\">\n      <!-- 25 -->\n      <g transform=\"translate(35.064687 199.183211)scale(0.1 -0.1)\">\n       <use xlink:href=\"#DejaVuSans-32\"/>\n       <use xlink:href=\"#DejaVuSans-35\" x=\"63.623047\"/>\n      </g>\n     </g>\n    </g>\n    <g id=\"text_23\">\n     <!-- $(x_t)_2$ -->\n     <g transform=\"translate(19.3575 233.307569)rotate(-90)scale(0.16 -0.16)\">\n      <use xlink:href=\"#DejaVuSans-28\" transform=\"translate(0 0.125)\"/>\n      <use xlink:href=\"#DejaVuSans-Oblique-78\" transform=\"translate(39.013672 0.125)\"/>\n      <use xlink:href=\"#DejaVuSans-Oblique-74\" transform=\"translate(98.193359 -16.28125)scale(0.7)\"/>\n      <use xlink:href=\"#DejaVuSans-29\" transform=\"translate(128.374023 0.125)\"/>\n      <use xlink:href=\"#DejaVuSans-32\" transform=\"translate(168.344727 -16.28125)scale(0.7)\"/>\n     </g>\n    </g>\n   </g>\n   <g id=\"line2d_22\">\n    <path d=\"M 71.147642 216.856442 \nL 77.690824 216.217903 \nL 84.234006 214.842327 \nL 90.777187 214.418775 \nL 97.320369 214.685076 \nL 103.863551 217.835433 \nL 110.406733 220.269378 \nL 116.949915 221.501028 \nL 123.493097 222.194277 \nL 130.036278 222.912124 \nL 136.57946 223.982088 \nL 143.122642 225.539352 \nL 149.665824 227.575404 \nL 156.209006 229.983428 \nL 162.752187 232.523068 \nL 169.295369 232.607654 \nL 175.838551 232.651144 \nL 182.381733 232.864923 \nL 188.924915 233.663599 \nL 195.468097 234.51149 \nL 202.011278 235.02906 \nL 208.55446 235.070058 \nL 215.097642 234.647333 \nL 221.640824 233.864178 \nL 228.184006 232.857752 \nL 234.727187 231.758366 \nL 241.270369 230.665319 \nL 247.813551 229.637341 \nL 254.356733 228.694044 \nL 260.899915 227.824166 \nL 267.443097 226.996639 \nL 273.986278 226.171345 \nL 280.52946 225.307557 \nL 287.072642 224.369142 \nL 293.615824 223.326622 \nL 300.159006 222.156848 \nL 306.702187 220.841556 \nL 313.245369 219.366289 \nL 319.788551 217.721342 \nL 326.331733 215.939077 \nL 332.874915 215.582965 \nL 339.418097 215.070848 \nL 345.961278 214.695587 \nL 352.50446 214.744493 \nL 359.047642 215.372329 \nL 365.590824 216.569567 \nL 372.134006 216.866306 \nL 378.677187 216.436039 \nL 385.220369 215.207847 \nL 391.763551 214.733377 \nL 398.306733 216.027569 \n\" clip-path=\"url(#pa7ca29b3af)\" style=\"fill: none; stroke: #1f77b4; stroke-width: 1.5; stroke-linecap: square\"/>\n   </g>\n   <g id=\"patch_18\">\n    <path d=\"M 54.789687 236.671147 \nL 54.789687 195.383992 \n\" style=\"fill: none; stroke: #000000; stroke-width: 0.8; stroke-linejoin: miter; stroke-linecap: square\"/>\n   </g>\n   <g id=\"patch_19\">\n    <path d=\"M 414.664687 236.671147 \nL 414.664687 195.383992 \n\" style=\"fill: none; stroke: #000000; stroke-width: 0.8; stroke-linejoin: miter; stroke-linecap: square\"/>\n   </g>\n   <g id=\"patch_20\">\n    <path d=\"M 54.789687 236.671147 \nL 414.664687 236.671147 \n\" style=\"fill: none; stroke: #000000; stroke-width: 0.8; stroke-linejoin: miter; stroke-linecap: square\"/>\n   </g>\n   <g id=\"patch_21\">\n    <path d=\"M 54.789687 195.383992 \nL 414.664687 195.383992 \n\" style=\"fill: none; stroke: #000000; stroke-width: 0.8; stroke-linejoin: miter; stroke-linecap: square\"/>\n   </g>\n  </g>\n </g>\n <defs>\n  <clipPath id=\"p84d4a1dc01\">\n   <rect x=\"54.789687\" y=\"9.122529\" width=\"359.875\" height=\"41.287154\"/>\n  </clipPath>\n  <clipPath id=\"pfdb7d9fa8e\">\n   <rect x=\"54.789687\" y=\"71.209683\" width=\"359.875\" height=\"41.287154\"/>\n  </clipPath>\n  <clipPath id=\"pa109140735\">\n   <rect x=\"54.789687\" y=\"133.296838\" width=\"359.875\" height=\"41.287154\"/>\n  </clipPath>\n  <clipPath id=\"pa7ca29b3af\">\n   <rect x=\"54.789687\" y=\"195.383992\" width=\"359.875\" height=\"41.287154\"/>\n  </clipPath>\n </defs>\n</svg>\n"
     },
     "metadata": {
      "needs_background": "light"
     },
     "output_type": "display_data"
    }
   ],
   "source": [
    "# Plot results.\n",
    "import matplotlib.pyplot as plt\n",
    "\n",
    "%config InlineBackend.figure_format = 'svg'\n",
    "\n",
    "f = plt.figure()\n",
    "\n",
    "# Plot (u_t)_1.\n",
    "ax = f.add_subplot(411)\n",
    "plt.plot(u[0, :].value)\n",
    "plt.ylabel(r\"$(u_t)_1$\", fontsize=16)\n",
    "plt.yticks(np.linspace(-1.0, 1.0, 3))\n",
    "plt.xticks([])\n",
    "\n",
    "# Plot (u_t)_2.\n",
    "plt.subplot(4, 1, 2)\n",
    "plt.plot(u[1, :].value)\n",
    "plt.ylabel(r\"$(u_t)_2$\", fontsize=16)\n",
    "plt.yticks(np.linspace(-1, 1, 3))\n",
    "plt.xticks([])\n",
    "\n",
    "# Plot (x_t)_1.\n",
    "plt.subplot(4, 1, 3)\n",
    "x1 = x[0, :].value\n",
    "plt.plot(x1)\n",
    "plt.ylabel(r\"$(x_t)_1$\", fontsize=16)\n",
    "plt.yticks([-10, 0, 10])\n",
    "plt.ylim([-10, 10])\n",
    "plt.xticks([])\n",
    "\n",
    "# Plot (x_t)_2.\n",
    "plt.subplot(4, 1, 4)\n",
    "x2 = x[1, :].value\n",
    "plt.plot(range(51), x2)\n",
    "plt.yticks([-25, 0, 25])\n",
    "plt.ylim([-25, 25])\n",
    "plt.ylabel(r\"$(x_t)_2$\", fontsize=16)\n",
    "plt.xlabel(r\"$t$\", fontsize=16)\n",
    "plt.tight_layout()\n",
    "plt.show()"
   ],
   "metadata": {
    "collapsed": false,
    "pycharm": {
     "name": "#%%\n"
    }
   }
  }
 ],
 "metadata": {
  "kernelspec": {
   "display_name": "Python 3",
   "language": "python",
   "name": "python3"
  },
  "language_info": {
   "codemirror_mode": {
    "name": "ipython",
    "version": 3
   },
   "file_extension": ".py",
   "mimetype": "text/x-python",
   "name": "python",
   "nbconvert_exporter": "python",
   "pygments_lexer": "ipython3",
   "version": "3.7.0"
  }
 },
 "nbformat": 4,
 "nbformat_minor": 1
}